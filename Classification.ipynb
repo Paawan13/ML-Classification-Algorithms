{
  "cells": [
    {
      "cell_type": "code",
      "execution_count": 1,
      "metadata": {
        "id": "K7SB00nm6vU6"
      },
      "outputs": [],
      "source": [
        "import tensorflow as tf"
      ]
    },
    {
      "cell_type": "code",
      "execution_count": null,
      "metadata": {
        "id": "fhmupAyx64md"
      },
      "outputs": [],
      "source": [
        "tensor_zero_D = tf.constant(4)"
      ]
    },
    {
      "cell_type": "code",
      "execution_count": null,
      "metadata": {
        "colab": {
          "base_uri": "https://localhost:8080/"
        },
        "id": "52srmWR17GyT",
        "outputId": "63fbbb80-361e-4119-d910-8d080e873581"
      },
      "outputs": [
        {
          "data": {
            "text/plain": [
              "<tf.Tensor: shape=(), dtype=int32, numpy=4>"
            ]
          },
          "execution_count": 3,
          "metadata": {},
          "output_type": "execute_result"
        }
      ],
      "source": [
        "tensor_zero_D"
      ]
    },
    {
      "cell_type": "code",
      "execution_count": null,
      "metadata": {
        "id": "umP8PMUX7Iy-"
      },
      "outputs": [],
      "source": [
        "tensor_one_D = tf.constant([2,0,-3])"
      ]
    },
    {
      "cell_type": "code",
      "execution_count": null,
      "metadata": {
        "colab": {
          "base_uri": "https://localhost:8080/"
        },
        "id": "EMf7IDwcBqfK",
        "outputId": "ff6dbf8b-f725-49cc-db15-c52db57bfebc"
      },
      "outputs": [
        {
          "name": "stdout",
          "output_type": "stream",
          "text": [
            "tf.Tensor([ 2  0 -3], shape=(3,), dtype=int32)\n"
          ]
        }
      ],
      "source": [
        "print(tensor_one_D)"
      ]
    },
    {
      "cell_type": "code",
      "execution_count": null,
      "metadata": {
        "id": "VlxtjH9cBswl"
      },
      "outputs": [],
      "source": [
        "tensor_two_D = tf.constant([[1,2,3],[4,5,6],[7,8,9]])"
      ]
    },
    {
      "cell_type": "code",
      "execution_count": null,
      "metadata": {
        "colab": {
          "base_uri": "https://localhost:8080/"
        },
        "id": "A-4mM7DmCYVg",
        "outputId": "2caaf640-921d-4192-b7c8-860666bb66ce"
      },
      "outputs": [
        {
          "name": "stdout",
          "output_type": "stream",
          "text": [
            "tf.Tensor(\n",
            "[[1 2 3]\n",
            " [4 5 6]\n",
            " [7 8 9]], shape=(3, 3), dtype=int32)\n"
          ]
        }
      ],
      "source": [
        "print(tensor_two_D)"
      ]
    },
    {
      "cell_type": "code",
      "execution_count": null,
      "metadata": {
        "id": "LNCI_Y3JCav-"
      },
      "outputs": [],
      "source": [
        "tensor_three_D = tf.constant([[[1,2,3],[4,5,6],[7,8,9]],[[1,2,3],[4,5,6],[7,8,9]]])"
      ]
    },
    {
      "cell_type": "code",
      "execution_count": null,
      "metadata": {
        "colab": {
          "base_uri": "https://localhost:8080/"
        },
        "id": "j4tvhDCZEaRV",
        "outputId": "c1c053f9-a828-461e-bb9c-3f284613af77"
      },
      "outputs": [
        {
          "data": {
            "text/plain": [
              "<tf.Tensor: shape=(2, 3, 3), dtype=int32, numpy=\n",
              "array([[[1, 2, 3],\n",
              "        [4, 5, 6],\n",
              "        [7, 8, 9]],\n",
              "\n",
              "       [[1, 2, 3],\n",
              "        [4, 5, 6],\n",
              "        [7, 8, 9]]], dtype=int32)>"
            ]
          },
          "execution_count": 10,
          "metadata": {},
          "output_type": "execute_result"
        }
      ],
      "source": [
        "tensor_three_D"
      ]
    },
    {
      "cell_type": "code",
      "execution_count": null,
      "metadata": {
        "id": "3iAU625NEc-q"
      },
      "outputs": [],
      "source": [
        "import numpy as np\n",
        "import pandas as pd"
      ]
    },
    {
      "cell_type": "code",
      "execution_count": null,
      "metadata": {
        "id": "FOzGvdFpEldi"
      },
      "outputs": [],
      "source": [
        "np_array = np.array([4,7,6])"
      ]
    },
    {
      "cell_type": "code",
      "execution_count": null,
      "metadata": {
        "id": "04wi4u6-Gzu_"
      },
      "outputs": [],
      "source": [
        "converted_array = tf.convert_to_tensor(np_array)"
      ]
    },
    {
      "cell_type": "code",
      "execution_count": null,
      "metadata": {
        "colab": {
          "base_uri": "https://localhost:8080/"
        },
        "id": "9tLOJ_MmHGix",
        "outputId": "7027587e-0af2-492a-991d-e28111441b29"
      },
      "outputs": [
        {
          "data": {
            "text/plain": [
              "<tf.Tensor: shape=(3,), dtype=int64, numpy=array([4, 7, 6])>"
            ]
          },
          "execution_count": 16,
          "metadata": {},
          "output_type": "execute_result"
        }
      ],
      "source": [
        "converted_array"
      ]
    },
    {
      "cell_type": "code",
      "execution_count": null,
      "metadata": {
        "colab": {
          "base_uri": "https://localhost:8080/"
        },
        "id": "49_Pdnv7HIJ9",
        "outputId": "97fa8423-0f25-43f7-ec1f-34790fb6f313"
      },
      "outputs": [
        {
          "name": "stdout",
          "output_type": "stream",
          "text": [
            "tf.Tensor(\n",
            "[[1 0 0]\n",
            " [0 1 0]\n",
            " [0 0 1]], shape=(3, 3), dtype=int32)\n"
          ]
        }
      ],
      "source": [
        "eye_tensor = tf.eye(\n",
        "    num_rows = 3,\n",
        "    num_columns = 3,\n",
        "    batch_shape= None,\n",
        "    dtype = tf.dtypes.int32,\n",
        "    name = None\n",
        ")\n",
        "print(eye_tensor)"
      ]
    },
    {
      "cell_type": "code",
      "execution_count": null,
      "metadata": {
        "colab": {
          "base_uri": "https://localhost:8080/"
        },
        "id": "UOR8Hl4UIOzP",
        "outputId": "98190f40-0dc3-43fc-9827-4f2cbd795da9"
      },
      "outputs": [
        {
          "name": "stdout",
          "output_type": "stream",
          "text": [
            "tf.Tensor(\n",
            "[[9 9 9 9]\n",
            " [9 9 9 9]\n",
            " [9 9 9 9]], shape=(3, 4), dtype=int32)\n"
          ]
        }
      ],
      "source": [
        "fill_tensor = tf.fill([3,4],9)\n",
        "print(fill_tensor)"
      ]
    },
    {
      "cell_type": "code",
      "execution_count": null,
      "metadata": {
        "id": "7vBTMNllJtnp"
      },
      "outputs": [],
      "source": [
        "ones_like_tenor = tf.ones_like(fill_tensor)"
      ]
    },
    {
      "cell_type": "code",
      "execution_count": null,
      "metadata": {
        "colab": {
          "base_uri": "https://localhost:8080/"
        },
        "id": "ymC-LovPSYkt",
        "outputId": "608ef6f7-fef3-4f44-d65e-48d6419a506c"
      },
      "outputs": [
        {
          "data": {
            "text/plain": [
              "<tf.Tensor: shape=(3, 4), dtype=int32, numpy=\n",
              "array([[1, 1, 1, 1],\n",
              "       [1, 1, 1, 1],\n",
              "       [1, 1, 1, 1]], dtype=int32)>"
            ]
          },
          "execution_count": 26,
          "metadata": {},
          "output_type": "execute_result"
        }
      ],
      "source": [
        "ones_like_tenor"
      ]
    },
    {
      "cell_type": "code",
      "execution_count": null,
      "metadata": {
        "colab": {
          "base_uri": "https://localhost:8080/"
        },
        "id": "TZ4xS1diSZqs",
        "outputId": "51d1bae8-99a4-44bb-a709-4ff261f2916c"
      },
      "outputs": [
        {
          "data": {
            "text/plain": [
              "<tf.Tensor: shape=(), dtype=int32, numpy=2>"
            ]
          },
          "execution_count": 27,
          "metadata": {},
          "output_type": "execute_result"
        }
      ],
      "source": [
        "tf.rank(fill_tensor)"
      ]
    },
    {
      "cell_type": "code",
      "execution_count": null,
      "metadata": {
        "colab": {
          "base_uri": "https://localhost:8080/"
        },
        "id": "m4bhCaNcTLL_",
        "outputId": "0abb74a3-9a7d-465c-c829-d47a62295049"
      },
      "outputs": [
        {
          "data": {
            "text/plain": [
              "<tf.Tensor: shape=(), dtype=int32, numpy=12>"
            ]
          },
          "execution_count": 28,
          "metadata": {},
          "output_type": "execute_result"
        }
      ],
      "source": [
        "tf.size(fill_tensor)"
      ]
    },
    {
      "cell_type": "code",
      "execution_count": null,
      "metadata": {
        "id": "nCl09NoDTcYh"
      },
      "outputs": [],
      "source": [
        "random_tensor = tf.random.normal(\n",
        "    [3,2],\n",
        "    mean = 0.0,\n",
        "    stddev=1.0,\n",
        "    dtype = tf.dtypes.float32,\n",
        "    seed  =None,\n",
        "    name = None\n",
        "\n",
        ")\n"
      ]
    },
    {
      "cell_type": "code",
      "execution_count": null,
      "metadata": {
        "colab": {
          "base_uri": "https://localhost:8080/"
        },
        "id": "ci-eEj2BUEIl",
        "outputId": "0f155033-1b6a-4f92-b244-c457d0a7b5e5"
      },
      "outputs": [
        {
          "data": {
            "text/plain": [
              "<tf.Tensor: shape=(3, 2), dtype=float32, numpy=\n",
              "array([[-1.1062005 , -0.2929324 ],\n",
              "       [ 0.07146787, -0.9059568 ],\n",
              "       [-0.7559942 , -0.6397569 ]], dtype=float32)>"
            ]
          },
          "execution_count": 33,
          "metadata": {},
          "output_type": "execute_result"
        }
      ],
      "source": [
        "random_tensor"
      ]
    },
    {
      "cell_type": "code",
      "execution_count": null,
      "metadata": {
        "id": "-_qmW2QVUSy-"
      },
      "outputs": [],
      "source": [
        "#Indexing"
      ]
    },
    {
      "cell_type": "code",
      "execution_count": null,
      "metadata": {
        "colab": {
          "base_uri": "https://localhost:8080/"
        },
        "id": "9fA0sEkGYjG0",
        "outputId": "7e8fc808-da82-465f-9b7d-c5d2dc00415a"
      },
      "outputs": [
        {
          "data": {
            "text/plain": [
              "<tf.Tensor: shape=(1,), dtype=int32, numpy=array([4], dtype=int32)>"
            ]
          },
          "execution_count": 40,
          "metadata": {},
          "output_type": "execute_result"
        }
      ],
      "source": [
        "tensor_two_D[1][:1]"
      ]
    },
    {
      "cell_type": "code",
      "execution_count": null,
      "metadata": {
        "id": "suM4NCEBaa3r"
      },
      "outputs": [],
      "source": [
        "x = tf.constant([1.0, -0.5, 3.4, 0.2, 0.0, -2], dtype = tf.float32)"
      ]
    },
    {
      "cell_type": "code",
      "execution_count": null,
      "metadata": {
        "colab": {
          "base_uri": "https://localhost:8080/"
        },
        "id": "hvCuEFq2gJfe",
        "outputId": "41dac057-e6b6-4cee-da09-837667888462"
      },
      "outputs": [
        {
          "data": {
            "text/plain": [
              "<tf.Tensor: shape=(6,), dtype=float32, numpy=\n",
              "array([0.       , 2.0943952,       nan, 1.3694384, 1.5707964,       nan],\n",
              "      dtype=float32)>"
            ]
          },
          "execution_count": 42,
          "metadata": {},
          "output_type": "execute_result"
        }
      ],
      "source": [
        "tf.math.acos(x)"
      ]
    },
    {
      "cell_type": "code",
      "execution_count": null,
      "metadata": {
        "colab": {
          "base_uri": "https://localhost:8080/"
        },
        "id": "ScbpUd8fgOD-",
        "outputId": "af1d8cbd-346f-46a6-f454-c2a4958e6435"
      },
      "outputs": [
        {
          "name": "stdout",
          "output_type": "stream",
          "text": [
            "tf.Tensor([5 7 9], shape=(3,), dtype=int32)\n"
          ]
        }
      ],
      "source": [
        "x1 = tf.constant([1,2,3])\n",
        "x2 = tf.constant([4,5,6])\n",
        "print(tf.math.add(x1,x2))"
      ]
    },
    {
      "cell_type": "code",
      "execution_count": null,
      "metadata": {
        "colab": {
          "base_uri": "https://localhost:8080/"
        },
        "id": "zF2KZTSQlzl6",
        "outputId": "8bd4b3a5-0605-4c23-d2c0-b7c4b517f0c5"
      },
      "outputs": [
        {
          "name": "stdout",
          "output_type": "stream",
          "text": [
            "tf.Tensor(\n",
            "[[ 4  8 12]\n",
            " [ 2  4  6]], shape=(2, 3), dtype=int32)\n"
          ]
        }
      ],
      "source": [
        "x1 = tf.constant([1,2,3])\n",
        "x2 = tf.constant([[4],[2]])\n",
        "print(tf.math.multiply(x1,x2))"
      ]
    },
    {
      "cell_type": "code",
      "execution_count": null,
      "metadata": {
        "colab": {
          "base_uri": "https://localhost:8080/"
        },
        "id": "yLKLGnZDmR3T",
        "outputId": "3c5e2bd7-1a4a-4280-b3c9-deb2afc5d868"
      },
      "outputs": [
        {
          "data": {
            "text/plain": [
              "<tf.Tensor: shape=(2, 3), dtype=int32, numpy=\n",
              "array([[1, 2, 3],\n",
              "       [1, 2, 2]], dtype=int32)>"
            ]
          },
          "execution_count": 56,
          "metadata": {},
          "output_type": "execute_result"
        }
      ],
      "source": [
        "tf.math.minimum(x1,x2)"
      ]
    },
    {
      "cell_type": "code",
      "execution_count": null,
      "metadata": {
        "colab": {
          "base_uri": "https://localhost:8080/"
        },
        "id": "j_f6Gdy1nlnM",
        "outputId": "2651c8dd-6d6b-49a9-c628-ba52c2f13c90"
      },
      "outputs": [
        {
          "data": {
            "text/plain": [
              "<tf.Tensor: shape=(2, 3), dtype=bool, numpy=\n",
              "array([[False, False, False],\n",
              "       [False,  True, False]])>"
            ]
          },
          "execution_count": 59,
          "metadata": {},
          "output_type": "execute_result"
        }
      ],
      "source": [
        "tf.math.equal(x1,x2)"
      ]
    },
    {
      "cell_type": "code",
      "execution_count": null,
      "metadata": {
        "colab": {
          "base_uri": "https://localhost:8080/"
        },
        "id": "GfnFRc_1owcg",
        "outputId": "d893c764-3e45-4883-e049-a552e8617296"
      },
      "outputs": [
        {
          "data": {
            "text/plain": [
              "<tf.Tensor: shape=(2, 3), dtype=int32, numpy=\n",
              "array([[ 1, 16, 81],\n",
              "       [ 1,  4,  9]], dtype=int32)>"
            ]
          },
          "execution_count": 60,
          "metadata": {},
          "output_type": "execute_result"
        }
      ],
      "source": [
        "tf.math.pow(x1,x2)"
      ]
    },
    {
      "cell_type": "code",
      "execution_count": null,
      "metadata": {
        "colab": {
          "base_uri": "https://localhost:8080/"
        },
        "id": "E1zvM9UNpY5L",
        "outputId": "2768d5ce-7e50-4cf3-8a2f-d0a93aef7698"
      },
      "outputs": [
        {
          "data": {
            "text/plain": [
              "6"
            ]
          },
          "execution_count": 63,
          "metadata": {},
          "output_type": "execute_result"
        }
      ],
      "source": [
        "tf.math.reduce_sum(\n",
        "    x1, axis=None, keepdims=False, name=None\n",
        ").numpy()"
      ]
    },
    {
      "cell_type": "code",
      "execution_count": null,
      "metadata": {
        "id": "xgv7uMduqWAP"
      },
      "outputs": [],
      "source": [
        "import pandas as pd\n",
        "import numpy as np"
      ]
    },
    {
      "cell_type": "code",
      "execution_count": null,
      "metadata": {
        "id": "2hTGq6EpOQJb"
      },
      "outputs": [],
      "source": [
        "example = tf.constant([[[1,2,3],[4,5,6]],[[7,8,9],[2,3,5]]])"
      ]
    },
    {
      "cell_type": "code",
      "execution_count": null,
      "metadata": {
        "colab": {
          "base_uri": "https://localhost:8080/"
        },
        "id": "dDTf22Ygqlw-",
        "outputId": "eb0359fa-0c33-498c-87a2-82556c333e77"
      },
      "outputs": [
        {
          "data": {
            "text/plain": [
              "<tf.Tensor: shape=(2, 2, 3), dtype=int32, numpy=\n",
              "array([[[1, 2, 3],\n",
              "        [4, 5, 6]],\n",
              "\n",
              "       [[7, 8, 9],\n",
              "        [2, 3, 5]]], dtype=int32)>"
            ]
          },
          "execution_count": 8,
          "metadata": {},
          "output_type": "execute_result"
        }
      ],
      "source": [
        "example"
      ]
    },
    {
      "cell_type": "code",
      "execution_count": null,
      "metadata": {
        "colab": {
          "base_uri": "https://localhost:8080/"
        },
        "id": "wYdCQkUwOzJ8",
        "outputId": "9bf80886-ad3e-44f8-d49a-17a9329138a3"
      },
      "outputs": [
        {
          "data": {
            "text/plain": [
              "tf.int32"
            ]
          },
          "execution_count": 12,
          "metadata": {},
          "output_type": "execute_result"
        }
      ],
      "source": [
        "example[1].dtype"
      ]
    },
    {
      "cell_type": "code",
      "execution_count": 3,
      "metadata": {
        "id": "KsqnGWw2VNk6"
      },
      "outputs": [],
      "source": [
        "import matplotlib.pyplot as plt\n",
        "import sklearn"
      ]
    },
    {
      "cell_type": "code",
      "execution_count": 4,
      "metadata": {
        "id": "5MG5zV2sZa3z"
      },
      "outputs": [],
      "source": [
        "df = pd.read_csv('telescope_data.csv')"
      ]
    },
    {
      "cell_type": "code",
      "execution_count": null,
      "metadata": {
        "colab": {
          "base_uri": "https://localhost:8080/",
          "height": 206
        },
        "id": "w6ErMVdRbMXf",
        "outputId": "d0426c01-edb7-4c20-bf46-db3b77b1144f"
      },
      "outputs": [
        {
          "data": {
            "text/html": [
              "\n",
              "\n",
              "  <div id=\"df-85819b76-bdb5-46ff-a1d3-28926e9d3261\">\n",
              "    <div class=\"colab-df-container\">\n",
              "      <div>\n",
              "<style scoped>\n",
              "    .dataframe tbody tr th:only-of-type {\n",
              "        vertical-align: middle;\n",
              "    }\n",
              "\n",
              "    .dataframe tbody tr th {\n",
              "        vertical-align: top;\n",
              "    }\n",
              "\n",
              "    .dataframe thead th {\n",
              "        text-align: right;\n",
              "    }\n",
              "</style>\n",
              "<table border=\"1\" class=\"dataframe\">\n",
              "  <thead>\n",
              "    <tr style=\"text-align: right;\">\n",
              "      <th></th>\n",
              "      <th>Unnamed: 0</th>\n",
              "      <th>fLength</th>\n",
              "      <th>fWidth</th>\n",
              "      <th>fSize</th>\n",
              "      <th>fConc</th>\n",
              "      <th>fConc1</th>\n",
              "      <th>fAsym</th>\n",
              "      <th>fM3Long</th>\n",
              "      <th>fM3Trans</th>\n",
              "      <th>fAlpha</th>\n",
              "      <th>fDist</th>\n",
              "      <th>class</th>\n",
              "    </tr>\n",
              "  </thead>\n",
              "  <tbody>\n",
              "    <tr>\n",
              "      <th>0</th>\n",
              "      <td>0</td>\n",
              "      <td>28.7967</td>\n",
              "      <td>16.0021</td>\n",
              "      <td>2.6449</td>\n",
              "      <td>0.3918</td>\n",
              "      <td>0.1982</td>\n",
              "      <td>27.7004</td>\n",
              "      <td>22.0110</td>\n",
              "      <td>-8.2027</td>\n",
              "      <td>40.0920</td>\n",
              "      <td>81.8828</td>\n",
              "      <td>g</td>\n",
              "    </tr>\n",
              "    <tr>\n",
              "      <th>1</th>\n",
              "      <td>1</td>\n",
              "      <td>31.6036</td>\n",
              "      <td>11.7235</td>\n",
              "      <td>2.5185</td>\n",
              "      <td>0.5303</td>\n",
              "      <td>0.3773</td>\n",
              "      <td>26.2722</td>\n",
              "      <td>23.8238</td>\n",
              "      <td>-9.9574</td>\n",
              "      <td>6.3609</td>\n",
              "      <td>205.2610</td>\n",
              "      <td>g</td>\n",
              "    </tr>\n",
              "    <tr>\n",
              "      <th>2</th>\n",
              "      <td>2</td>\n",
              "      <td>162.0520</td>\n",
              "      <td>136.0310</td>\n",
              "      <td>4.0612</td>\n",
              "      <td>0.0374</td>\n",
              "      <td>0.0187</td>\n",
              "      <td>116.7410</td>\n",
              "      <td>-64.8580</td>\n",
              "      <td>-45.2160</td>\n",
              "      <td>76.9600</td>\n",
              "      <td>256.7880</td>\n",
              "      <td>g</td>\n",
              "    </tr>\n",
              "    <tr>\n",
              "      <th>3</th>\n",
              "      <td>3</td>\n",
              "      <td>23.8172</td>\n",
              "      <td>9.5728</td>\n",
              "      <td>2.3385</td>\n",
              "      <td>0.6147</td>\n",
              "      <td>0.3922</td>\n",
              "      <td>27.2107</td>\n",
              "      <td>-6.4633</td>\n",
              "      <td>-7.1513</td>\n",
              "      <td>10.4490</td>\n",
              "      <td>116.7370</td>\n",
              "      <td>g</td>\n",
              "    </tr>\n",
              "    <tr>\n",
              "      <th>4</th>\n",
              "      <td>4</td>\n",
              "      <td>75.1362</td>\n",
              "      <td>30.9205</td>\n",
              "      <td>3.1611</td>\n",
              "      <td>0.3168</td>\n",
              "      <td>0.1832</td>\n",
              "      <td>-5.5277</td>\n",
              "      <td>28.5525</td>\n",
              "      <td>21.8393</td>\n",
              "      <td>4.6480</td>\n",
              "      <td>356.4620</td>\n",
              "      <td>g</td>\n",
              "    </tr>\n",
              "  </tbody>\n",
              "</table>\n",
              "</div>\n",
              "      <button class=\"colab-df-convert\" onclick=\"convertToInteractive('df-85819b76-bdb5-46ff-a1d3-28926e9d3261')\"\n",
              "              title=\"Convert this dataframe to an interactive table.\"\n",
              "              style=\"display:none;\">\n",
              "\n",
              "  <svg xmlns=\"http://www.w3.org/2000/svg\" height=\"24px\"viewBox=\"0 0 24 24\"\n",
              "       width=\"24px\">\n",
              "    <path d=\"M0 0h24v24H0V0z\" fill=\"none\"/>\n",
              "    <path d=\"M18.56 5.44l.94 2.06.94-2.06 2.06-.94-2.06-.94-.94-2.06-.94 2.06-2.06.94zm-11 1L8.5 8.5l.94-2.06 2.06-.94-2.06-.94L8.5 2.5l-.94 2.06-2.06.94zm10 10l.94 2.06.94-2.06 2.06-.94-2.06-.94-.94-2.06-.94 2.06-2.06.94z\"/><path d=\"M17.41 7.96l-1.37-1.37c-.4-.4-.92-.59-1.43-.59-.52 0-1.04.2-1.43.59L10.3 9.45l-7.72 7.72c-.78.78-.78 2.05 0 2.83L4 21.41c.39.39.9.59 1.41.59.51 0 1.02-.2 1.41-.59l7.78-7.78 2.81-2.81c.8-.78.8-2.07 0-2.86zM5.41 20L4 18.59l7.72-7.72 1.47 1.35L5.41 20z\"/>\n",
              "  </svg>\n",
              "      </button>\n",
              "\n",
              "\n",
              "\n",
              "    <div id=\"df-708ecbf5-1a49-4fa1-8b91-afb8061f258f\">\n",
              "      <button class=\"colab-df-quickchart\" onclick=\"quickchart('df-708ecbf5-1a49-4fa1-8b91-afb8061f258f')\"\n",
              "              title=\"Suggest charts.\"\n",
              "              style=\"display:none;\">\n",
              "\n",
              "<svg xmlns=\"http://www.w3.org/2000/svg\" height=\"24px\"viewBox=\"0 0 24 24\"\n",
              "     width=\"24px\">\n",
              "    <g>\n",
              "        <path d=\"M19 3H5c-1.1 0-2 .9-2 2v14c0 1.1.9 2 2 2h14c1.1 0 2-.9 2-2V5c0-1.1-.9-2-2-2zM9 17H7v-7h2v7zm4 0h-2V7h2v10zm4 0h-2v-4h2v4z\"/>\n",
              "    </g>\n",
              "</svg>\n",
              "      </button>\n",
              "    </div>\n",
              "\n",
              "<style>\n",
              "  .colab-df-quickchart {\n",
              "    background-color: #E8F0FE;\n",
              "    border: none;\n",
              "    border-radius: 50%;\n",
              "    cursor: pointer;\n",
              "    display: none;\n",
              "    fill: #1967D2;\n",
              "    height: 32px;\n",
              "    padding: 0 0 0 0;\n",
              "    width: 32px;\n",
              "  }\n",
              "\n",
              "  .colab-df-quickchart:hover {\n",
              "    background-color: #E2EBFA;\n",
              "    box-shadow: 0px 1px 2px rgba(60, 64, 67, 0.3), 0px 1px 3px 1px rgba(60, 64, 67, 0.15);\n",
              "    fill: #174EA6;\n",
              "  }\n",
              "\n",
              "  [theme=dark] .colab-df-quickchart {\n",
              "    background-color: #3B4455;\n",
              "    fill: #D2E3FC;\n",
              "  }\n",
              "\n",
              "  [theme=dark] .colab-df-quickchart:hover {\n",
              "    background-color: #434B5C;\n",
              "    box-shadow: 0px 1px 3px 1px rgba(0, 0, 0, 0.15);\n",
              "    filter: drop-shadow(0px 1px 2px rgba(0, 0, 0, 0.3));\n",
              "    fill: #FFFFFF;\n",
              "  }\n",
              "</style>\n",
              "\n",
              "    <script>\n",
              "      async function quickchart(key) {\n",
              "        const containerElement = document.querySelector('#' + key);\n",
              "        const charts = await google.colab.kernel.invokeFunction(\n",
              "            'suggestCharts', [key], {});\n",
              "      }\n",
              "    </script>\n",
              "\n",
              "      <script>\n",
              "\n",
              "function displayQuickchartButton(domScope) {\n",
              "  let quickchartButtonEl =\n",
              "    domScope.querySelector('#df-708ecbf5-1a49-4fa1-8b91-afb8061f258f button.colab-df-quickchart');\n",
              "  quickchartButtonEl.style.display =\n",
              "    google.colab.kernel.accessAllowed ? 'block' : 'none';\n",
              "}\n",
              "\n",
              "        displayQuickchartButton(document);\n",
              "      </script>\n",
              "      <style>\n",
              "    .colab-df-container {\n",
              "      display:flex;\n",
              "      flex-wrap:wrap;\n",
              "      gap: 12px;\n",
              "    }\n",
              "\n",
              "    .colab-df-convert {\n",
              "      background-color: #E8F0FE;\n",
              "      border: none;\n",
              "      border-radius: 50%;\n",
              "      cursor: pointer;\n",
              "      display: none;\n",
              "      fill: #1967D2;\n",
              "      height: 32px;\n",
              "      padding: 0 0 0 0;\n",
              "      width: 32px;\n",
              "    }\n",
              "\n",
              "    .colab-df-convert:hover {\n",
              "      background-color: #E2EBFA;\n",
              "      box-shadow: 0px 1px 2px rgba(60, 64, 67, 0.3), 0px 1px 3px 1px rgba(60, 64, 67, 0.15);\n",
              "      fill: #174EA6;\n",
              "    }\n",
              "\n",
              "    [theme=dark] .colab-df-convert {\n",
              "      background-color: #3B4455;\n",
              "      fill: #D2E3FC;\n",
              "    }\n",
              "\n",
              "    [theme=dark] .colab-df-convert:hover {\n",
              "      background-color: #434B5C;\n",
              "      box-shadow: 0px 1px 3px 1px rgba(0, 0, 0, 0.15);\n",
              "      filter: drop-shadow(0px 1px 2px rgba(0, 0, 0, 0.3));\n",
              "      fill: #FFFFFF;\n",
              "    }\n",
              "  </style>\n",
              "\n",
              "      <script>\n",
              "        const buttonEl =\n",
              "          document.querySelector('#df-85819b76-bdb5-46ff-a1d3-28926e9d3261 button.colab-df-convert');\n",
              "        buttonEl.style.display =\n",
              "          google.colab.kernel.accessAllowed ? 'block' : 'none';\n",
              "\n",
              "        async function convertToInteractive(key) {\n",
              "          const element = document.querySelector('#df-85819b76-bdb5-46ff-a1d3-28926e9d3261');\n",
              "          const dataTable =\n",
              "            await google.colab.kernel.invokeFunction('convertToInteractive',\n",
              "                                                     [key], {});\n",
              "          if (!dataTable) return;\n",
              "\n",
              "          const docLinkHtml = 'Like what you see? Visit the ' +\n",
              "            '<a target=\"_blank\" href=https://colab.research.google.com/notebooks/data_table.ipynb>data table notebook</a>'\n",
              "            + ' to learn more about interactive tables.';\n",
              "          element.innerHTML = '';\n",
              "          dataTable['output_type'] = 'display_data';\n",
              "          await google.colab.output.renderOutput(dataTable, element);\n",
              "          const docLink = document.createElement('div');\n",
              "          docLink.innerHTML = docLinkHtml;\n",
              "          element.appendChild(docLink);\n",
              "        }\n",
              "      </script>\n",
              "    </div>\n",
              "  </div>\n"
            ],
            "text/plain": [
              "   Unnamed: 0   fLength    fWidth   fSize   fConc  fConc1     fAsym  fM3Long  \\\n",
              "0           0   28.7967   16.0021  2.6449  0.3918  0.1982   27.7004  22.0110   \n",
              "1           1   31.6036   11.7235  2.5185  0.5303  0.3773   26.2722  23.8238   \n",
              "2           2  162.0520  136.0310  4.0612  0.0374  0.0187  116.7410 -64.8580   \n",
              "3           3   23.8172    9.5728  2.3385  0.6147  0.3922   27.2107  -6.4633   \n",
              "4           4   75.1362   30.9205  3.1611  0.3168  0.1832   -5.5277  28.5525   \n",
              "\n",
              "   fM3Trans   fAlpha     fDist class  \n",
              "0   -8.2027  40.0920   81.8828     g  \n",
              "1   -9.9574   6.3609  205.2610     g  \n",
              "2  -45.2160  76.9600  256.7880     g  \n",
              "3   -7.1513  10.4490  116.7370     g  \n",
              "4   21.8393   4.6480  356.4620     g  "
            ]
          },
          "execution_count": 16,
          "metadata": {},
          "output_type": "execute_result"
        }
      ],
      "source": [
        "df.head()"
      ]
    },
    {
      "cell_type": "code",
      "execution_count": null,
      "metadata": {
        "colab": {
          "base_uri": "https://localhost:8080/"
        },
        "id": "Osn3UqsHbQeQ",
        "outputId": "d89eaf07-bb65-4808-ae60-c2e6fe756b06"
      },
      "outputs": [
        {
          "data": {
            "text/plain": [
              "array(['g', 'h'], dtype=object)"
            ]
          },
          "execution_count": 17,
          "metadata": {},
          "output_type": "execute_result"
        }
      ],
      "source": [
        "df['class'].unique()"
      ]
    },
    {
      "cell_type": "code",
      "execution_count": 5,
      "metadata": {
        "id": "akc1z4lxbuX3"
      },
      "outputs": [],
      "source": [
        "df['class'] = (df['class'] == 'g').astype(int)"
      ]
    },
    {
      "cell_type": "code",
      "execution_count": null,
      "metadata": {
        "colab": {
          "base_uri": "https://localhost:8080/",
          "height": 206
        },
        "id": "oQ23RiO6cFCY",
        "outputId": "9c8350c6-8c82-47ef-ce58-1ab64e166988"
      },
      "outputs": [
        {
          "data": {
            "text/html": [
              "\n",
              "\n",
              "  <div id=\"df-5ee72ff2-5d1f-4955-8461-113e6a0cc54f\">\n",
              "    <div class=\"colab-df-container\">\n",
              "      <div>\n",
              "<style scoped>\n",
              "    .dataframe tbody tr th:only-of-type {\n",
              "        vertical-align: middle;\n",
              "    }\n",
              "\n",
              "    .dataframe tbody tr th {\n",
              "        vertical-align: top;\n",
              "    }\n",
              "\n",
              "    .dataframe thead th {\n",
              "        text-align: right;\n",
              "    }\n",
              "</style>\n",
              "<table border=\"1\" class=\"dataframe\">\n",
              "  <thead>\n",
              "    <tr style=\"text-align: right;\">\n",
              "      <th></th>\n",
              "      <th>Unnamed: 0</th>\n",
              "      <th>fLength</th>\n",
              "      <th>fWidth</th>\n",
              "      <th>fSize</th>\n",
              "      <th>fConc</th>\n",
              "      <th>fConc1</th>\n",
              "      <th>fAsym</th>\n",
              "      <th>fM3Long</th>\n",
              "      <th>fM3Trans</th>\n",
              "      <th>fAlpha</th>\n",
              "      <th>fDist</th>\n",
              "      <th>class</th>\n",
              "    </tr>\n",
              "  </thead>\n",
              "  <tbody>\n",
              "    <tr>\n",
              "      <th>19015</th>\n",
              "      <td>19015</td>\n",
              "      <td>21.3846</td>\n",
              "      <td>10.9170</td>\n",
              "      <td>2.6161</td>\n",
              "      <td>0.5857</td>\n",
              "      <td>0.3934</td>\n",
              "      <td>15.2618</td>\n",
              "      <td>11.5245</td>\n",
              "      <td>2.8766</td>\n",
              "      <td>2.4229</td>\n",
              "      <td>106.8258</td>\n",
              "      <td>0</td>\n",
              "    </tr>\n",
              "    <tr>\n",
              "      <th>19016</th>\n",
              "      <td>19016</td>\n",
              "      <td>28.9452</td>\n",
              "      <td>6.7020</td>\n",
              "      <td>2.2672</td>\n",
              "      <td>0.5351</td>\n",
              "      <td>0.2784</td>\n",
              "      <td>37.0816</td>\n",
              "      <td>13.1853</td>\n",
              "      <td>-2.9632</td>\n",
              "      <td>86.7975</td>\n",
              "      <td>247.4560</td>\n",
              "      <td>0</td>\n",
              "    </tr>\n",
              "    <tr>\n",
              "      <th>19017</th>\n",
              "      <td>19017</td>\n",
              "      <td>75.4455</td>\n",
              "      <td>47.5305</td>\n",
              "      <td>3.4483</td>\n",
              "      <td>0.1417</td>\n",
              "      <td>0.0549</td>\n",
              "      <td>-9.3561</td>\n",
              "      <td>41.0562</td>\n",
              "      <td>-9.4662</td>\n",
              "      <td>30.2987</td>\n",
              "      <td>256.5166</td>\n",
              "      <td>0</td>\n",
              "    </tr>\n",
              "    <tr>\n",
              "      <th>19018</th>\n",
              "      <td>19018</td>\n",
              "      <td>120.5135</td>\n",
              "      <td>76.9018</td>\n",
              "      <td>3.9939</td>\n",
              "      <td>0.0944</td>\n",
              "      <td>0.0683</td>\n",
              "      <td>5.8043</td>\n",
              "      <td>-93.5224</td>\n",
              "      <td>-63.8389</td>\n",
              "      <td>84.6874</td>\n",
              "      <td>408.3166</td>\n",
              "      <td>0</td>\n",
              "    </tr>\n",
              "    <tr>\n",
              "      <th>19019</th>\n",
              "      <td>19019</td>\n",
              "      <td>187.1814</td>\n",
              "      <td>53.0014</td>\n",
              "      <td>3.2093</td>\n",
              "      <td>0.2876</td>\n",
              "      <td>0.1539</td>\n",
              "      <td>-167.3125</td>\n",
              "      <td>-168.4558</td>\n",
              "      <td>31.4755</td>\n",
              "      <td>52.7310</td>\n",
              "      <td>272.3174</td>\n",
              "      <td>0</td>\n",
              "    </tr>\n",
              "  </tbody>\n",
              "</table>\n",
              "</div>\n",
              "      <button class=\"colab-df-convert\" onclick=\"convertToInteractive('df-5ee72ff2-5d1f-4955-8461-113e6a0cc54f')\"\n",
              "              title=\"Convert this dataframe to an interactive table.\"\n",
              "              style=\"display:none;\">\n",
              "\n",
              "  <svg xmlns=\"http://www.w3.org/2000/svg\" height=\"24px\"viewBox=\"0 0 24 24\"\n",
              "       width=\"24px\">\n",
              "    <path d=\"M0 0h24v24H0V0z\" fill=\"none\"/>\n",
              "    <path d=\"M18.56 5.44l.94 2.06.94-2.06 2.06-.94-2.06-.94-.94-2.06-.94 2.06-2.06.94zm-11 1L8.5 8.5l.94-2.06 2.06-.94-2.06-.94L8.5 2.5l-.94 2.06-2.06.94zm10 10l.94 2.06.94-2.06 2.06-.94-2.06-.94-.94-2.06-.94 2.06-2.06.94z\"/><path d=\"M17.41 7.96l-1.37-1.37c-.4-.4-.92-.59-1.43-.59-.52 0-1.04.2-1.43.59L10.3 9.45l-7.72 7.72c-.78.78-.78 2.05 0 2.83L4 21.41c.39.39.9.59 1.41.59.51 0 1.02-.2 1.41-.59l7.78-7.78 2.81-2.81c.8-.78.8-2.07 0-2.86zM5.41 20L4 18.59l7.72-7.72 1.47 1.35L5.41 20z\"/>\n",
              "  </svg>\n",
              "      </button>\n",
              "\n",
              "\n",
              "\n",
              "    <div id=\"df-f59d57b0-0ead-4af4-b0cd-866f89b0d8b1\">\n",
              "      <button class=\"colab-df-quickchart\" onclick=\"quickchart('df-f59d57b0-0ead-4af4-b0cd-866f89b0d8b1')\"\n",
              "              title=\"Suggest charts.\"\n",
              "              style=\"display:none;\">\n",
              "\n",
              "<svg xmlns=\"http://www.w3.org/2000/svg\" height=\"24px\"viewBox=\"0 0 24 24\"\n",
              "     width=\"24px\">\n",
              "    <g>\n",
              "        <path d=\"M19 3H5c-1.1 0-2 .9-2 2v14c0 1.1.9 2 2 2h14c1.1 0 2-.9 2-2V5c0-1.1-.9-2-2-2zM9 17H7v-7h2v7zm4 0h-2V7h2v10zm4 0h-2v-4h2v4z\"/>\n",
              "    </g>\n",
              "</svg>\n",
              "      </button>\n",
              "    </div>\n",
              "\n",
              "<style>\n",
              "  .colab-df-quickchart {\n",
              "    background-color: #E8F0FE;\n",
              "    border: none;\n",
              "    border-radius: 50%;\n",
              "    cursor: pointer;\n",
              "    display: none;\n",
              "    fill: #1967D2;\n",
              "    height: 32px;\n",
              "    padding: 0 0 0 0;\n",
              "    width: 32px;\n",
              "  }\n",
              "\n",
              "  .colab-df-quickchart:hover {\n",
              "    background-color: #E2EBFA;\n",
              "    box-shadow: 0px 1px 2px rgba(60, 64, 67, 0.3), 0px 1px 3px 1px rgba(60, 64, 67, 0.15);\n",
              "    fill: #174EA6;\n",
              "  }\n",
              "\n",
              "  [theme=dark] .colab-df-quickchart {\n",
              "    background-color: #3B4455;\n",
              "    fill: #D2E3FC;\n",
              "  }\n",
              "\n",
              "  [theme=dark] .colab-df-quickchart:hover {\n",
              "    background-color: #434B5C;\n",
              "    box-shadow: 0px 1px 3px 1px rgba(0, 0, 0, 0.15);\n",
              "    filter: drop-shadow(0px 1px 2px rgba(0, 0, 0, 0.3));\n",
              "    fill: #FFFFFF;\n",
              "  }\n",
              "</style>\n",
              "\n",
              "    <script>\n",
              "      async function quickchart(key) {\n",
              "        const containerElement = document.querySelector('#' + key);\n",
              "        const charts = await google.colab.kernel.invokeFunction(\n",
              "            'suggestCharts', [key], {});\n",
              "      }\n",
              "    </script>\n",
              "\n",
              "      <script>\n",
              "\n",
              "function displayQuickchartButton(domScope) {\n",
              "  let quickchartButtonEl =\n",
              "    domScope.querySelector('#df-f59d57b0-0ead-4af4-b0cd-866f89b0d8b1 button.colab-df-quickchart');\n",
              "  quickchartButtonEl.style.display =\n",
              "    google.colab.kernel.accessAllowed ? 'block' : 'none';\n",
              "}\n",
              "\n",
              "        displayQuickchartButton(document);\n",
              "      </script>\n",
              "      <style>\n",
              "    .colab-df-container {\n",
              "      display:flex;\n",
              "      flex-wrap:wrap;\n",
              "      gap: 12px;\n",
              "    }\n",
              "\n",
              "    .colab-df-convert {\n",
              "      background-color: #E8F0FE;\n",
              "      border: none;\n",
              "      border-radius: 50%;\n",
              "      cursor: pointer;\n",
              "      display: none;\n",
              "      fill: #1967D2;\n",
              "      height: 32px;\n",
              "      padding: 0 0 0 0;\n",
              "      width: 32px;\n",
              "    }\n",
              "\n",
              "    .colab-df-convert:hover {\n",
              "      background-color: #E2EBFA;\n",
              "      box-shadow: 0px 1px 2px rgba(60, 64, 67, 0.3), 0px 1px 3px 1px rgba(60, 64, 67, 0.15);\n",
              "      fill: #174EA6;\n",
              "    }\n",
              "\n",
              "    [theme=dark] .colab-df-convert {\n",
              "      background-color: #3B4455;\n",
              "      fill: #D2E3FC;\n",
              "    }\n",
              "\n",
              "    [theme=dark] .colab-df-convert:hover {\n",
              "      background-color: #434B5C;\n",
              "      box-shadow: 0px 1px 3px 1px rgba(0, 0, 0, 0.15);\n",
              "      filter: drop-shadow(0px 1px 2px rgba(0, 0, 0, 0.3));\n",
              "      fill: #FFFFFF;\n",
              "    }\n",
              "  </style>\n",
              "\n",
              "      <script>\n",
              "        const buttonEl =\n",
              "          document.querySelector('#df-5ee72ff2-5d1f-4955-8461-113e6a0cc54f button.colab-df-convert');\n",
              "        buttonEl.style.display =\n",
              "          google.colab.kernel.accessAllowed ? 'block' : 'none';\n",
              "\n",
              "        async function convertToInteractive(key) {\n",
              "          const element = document.querySelector('#df-5ee72ff2-5d1f-4955-8461-113e6a0cc54f');\n",
              "          const dataTable =\n",
              "            await google.colab.kernel.invokeFunction('convertToInteractive',\n",
              "                                                     [key], {});\n",
              "          if (!dataTable) return;\n",
              "\n",
              "          const docLinkHtml = 'Like what you see? Visit the ' +\n",
              "            '<a target=\"_blank\" href=https://colab.research.google.com/notebooks/data_table.ipynb>data table notebook</a>'\n",
              "            + ' to learn more about interactive tables.';\n",
              "          element.innerHTML = '';\n",
              "          dataTable['output_type'] = 'display_data';\n",
              "          await google.colab.output.renderOutput(dataTable, element);\n",
              "          const docLink = document.createElement('div');\n",
              "          docLink.innerHTML = docLinkHtml;\n",
              "          element.appendChild(docLink);\n",
              "        }\n",
              "      </script>\n",
              "    </div>\n",
              "  </div>\n"
            ],
            "text/plain": [
              "       Unnamed: 0   fLength   fWidth   fSize   fConc  fConc1     fAsym  \\\n",
              "19015       19015   21.3846  10.9170  2.6161  0.5857  0.3934   15.2618   \n",
              "19016       19016   28.9452   6.7020  2.2672  0.5351  0.2784   37.0816   \n",
              "19017       19017   75.4455  47.5305  3.4483  0.1417  0.0549   -9.3561   \n",
              "19018       19018  120.5135  76.9018  3.9939  0.0944  0.0683    5.8043   \n",
              "19019       19019  187.1814  53.0014  3.2093  0.2876  0.1539 -167.3125   \n",
              "\n",
              "        fM3Long  fM3Trans   fAlpha     fDist  class  \n",
              "19015   11.5245    2.8766   2.4229  106.8258      0  \n",
              "19016   13.1853   -2.9632  86.7975  247.4560      0  \n",
              "19017   41.0562   -9.4662  30.2987  256.5166      0  \n",
              "19018  -93.5224  -63.8389  84.6874  408.3166      0  \n",
              "19019 -168.4558   31.4755  52.7310  272.3174      0  "
            ]
          },
          "execution_count": 19,
          "metadata": {},
          "output_type": "execute_result"
        }
      ],
      "source": [
        "df.tail()"
      ]
    },
    {
      "cell_type": "code",
      "execution_count": null,
      "metadata": {
        "colab": {
          "base_uri": "https://localhost:8080/"
        },
        "id": "RgC6JhYacYic",
        "outputId": "a70f6601-5a99-4534-fad4-87a28be76463"
      },
      "outputs": [
        {
          "data": {
            "text/plain": [
              "array([1, 0])"
            ]
          },
          "execution_count": 25,
          "metadata": {},
          "output_type": "execute_result"
        }
      ],
      "source": [
        "df['class'].unique()"
      ]
    },
    {
      "cell_type": "code",
      "execution_count": null,
      "metadata": {
        "colab": {
          "base_uri": "https://localhost:8080/"
        },
        "id": "DVUJCNfEce0w",
        "outputId": "d4d0ee1d-e67b-4893-bfc7-504f9a6f54d8"
      },
      "outputs": [
        {
          "name": "stdout",
          "output_type": "stream",
          "text": [
            "<class 'pandas.core.frame.DataFrame'>\n",
            "RangeIndex: 19020 entries, 0 to 19019\n",
            "Data columns (total 12 columns):\n",
            " #   Column      Non-Null Count  Dtype  \n",
            "---  ------      --------------  -----  \n",
            " 0   Unnamed: 0  19020 non-null  int64  \n",
            " 1   fLength     19020 non-null  float64\n",
            " 2   fWidth      19020 non-null  float64\n",
            " 3   fSize       19020 non-null  float64\n",
            " 4   fConc       19020 non-null  float64\n",
            " 5   fConc1      19020 non-null  float64\n",
            " 6   fAsym       19020 non-null  float64\n",
            " 7   fM3Long     19020 non-null  float64\n",
            " 8   fM3Trans    19020 non-null  float64\n",
            " 9   fAlpha      19020 non-null  float64\n",
            " 10  fDist       19020 non-null  float64\n",
            " 11  class       19020 non-null  int64  \n",
            "dtypes: float64(10), int64(2)\n",
            "memory usage: 1.7 MB\n"
          ]
        }
      ],
      "source": [
        "df.info()"
      ]
    },
    {
      "cell_type": "code",
      "execution_count": null,
      "metadata": {
        "colab": {
          "base_uri": "https://localhost:8080/",
          "height": 364
        },
        "id": "PHfdfctrlosP",
        "outputId": "b962ae6d-e66c-4a82-a8dc-3196dbf7c426"
      },
      "outputs": [
        {
          "data": {
            "text/html": [
              "\n",
              "\n",
              "  <div id=\"df-81e4e263-7fbf-4253-a161-01b6c6a6f131\">\n",
              "    <div class=\"colab-df-container\">\n",
              "      <div>\n",
              "<style scoped>\n",
              "    .dataframe tbody tr th:only-of-type {\n",
              "        vertical-align: middle;\n",
              "    }\n",
              "\n",
              "    .dataframe tbody tr th {\n",
              "        vertical-align: top;\n",
              "    }\n",
              "\n",
              "    .dataframe thead th {\n",
              "        text-align: right;\n",
              "    }\n",
              "</style>\n",
              "<table border=\"1\" class=\"dataframe\">\n",
              "  <thead>\n",
              "    <tr style=\"text-align: right;\">\n",
              "      <th></th>\n",
              "      <th>Unnamed: 0</th>\n",
              "      <th>fLength</th>\n",
              "      <th>fWidth</th>\n",
              "      <th>fSize</th>\n",
              "      <th>fConc</th>\n",
              "      <th>fConc1</th>\n",
              "      <th>fAsym</th>\n",
              "      <th>fM3Long</th>\n",
              "      <th>fM3Trans</th>\n",
              "      <th>fAlpha</th>\n",
              "      <th>fDist</th>\n",
              "      <th>class</th>\n",
              "    </tr>\n",
              "  </thead>\n",
              "  <tbody>\n",
              "    <tr>\n",
              "      <th>count</th>\n",
              "      <td>19020.000000</td>\n",
              "      <td>19020.000000</td>\n",
              "      <td>19020.000000</td>\n",
              "      <td>19020.000000</td>\n",
              "      <td>19020.000000</td>\n",
              "      <td>19020.000000</td>\n",
              "      <td>19020.000000</td>\n",
              "      <td>19020.000000</td>\n",
              "      <td>19020.000000</td>\n",
              "      <td>19020.000000</td>\n",
              "      <td>19020.000000</td>\n",
              "      <td>19020.000000</td>\n",
              "    </tr>\n",
              "    <tr>\n",
              "      <th>mean</th>\n",
              "      <td>9509.500000</td>\n",
              "      <td>53.250154</td>\n",
              "      <td>22.180966</td>\n",
              "      <td>2.825017</td>\n",
              "      <td>0.380327</td>\n",
              "      <td>0.214657</td>\n",
              "      <td>-4.331745</td>\n",
              "      <td>10.545545</td>\n",
              "      <td>0.249726</td>\n",
              "      <td>27.645707</td>\n",
              "      <td>193.818026</td>\n",
              "      <td>0.648370</td>\n",
              "    </tr>\n",
              "    <tr>\n",
              "      <th>std</th>\n",
              "      <td>5490.745396</td>\n",
              "      <td>42.364855</td>\n",
              "      <td>18.346056</td>\n",
              "      <td>0.472599</td>\n",
              "      <td>0.182813</td>\n",
              "      <td>0.110511</td>\n",
              "      <td>59.206062</td>\n",
              "      <td>51.000118</td>\n",
              "      <td>20.827439</td>\n",
              "      <td>26.103621</td>\n",
              "      <td>74.731787</td>\n",
              "      <td>0.477492</td>\n",
              "    </tr>\n",
              "    <tr>\n",
              "      <th>min</th>\n",
              "      <td>0.000000</td>\n",
              "      <td>4.283500</td>\n",
              "      <td>0.000000</td>\n",
              "      <td>1.941300</td>\n",
              "      <td>0.013100</td>\n",
              "      <td>0.000300</td>\n",
              "      <td>-457.916100</td>\n",
              "      <td>-331.780000</td>\n",
              "      <td>-205.894700</td>\n",
              "      <td>0.000000</td>\n",
              "      <td>1.282600</td>\n",
              "      <td>0.000000</td>\n",
              "    </tr>\n",
              "    <tr>\n",
              "      <th>25%</th>\n",
              "      <td>4754.750000</td>\n",
              "      <td>24.336000</td>\n",
              "      <td>11.863800</td>\n",
              "      <td>2.477100</td>\n",
              "      <td>0.235800</td>\n",
              "      <td>0.128475</td>\n",
              "      <td>-20.586550</td>\n",
              "      <td>-12.842775</td>\n",
              "      <td>-10.849375</td>\n",
              "      <td>5.547925</td>\n",
              "      <td>142.492250</td>\n",
              "      <td>0.000000</td>\n",
              "    </tr>\n",
              "    <tr>\n",
              "      <th>50%</th>\n",
              "      <td>9509.500000</td>\n",
              "      <td>37.147700</td>\n",
              "      <td>17.139900</td>\n",
              "      <td>2.739600</td>\n",
              "      <td>0.354150</td>\n",
              "      <td>0.196500</td>\n",
              "      <td>4.013050</td>\n",
              "      <td>15.314100</td>\n",
              "      <td>0.666200</td>\n",
              "      <td>17.679500</td>\n",
              "      <td>191.851450</td>\n",
              "      <td>1.000000</td>\n",
              "    </tr>\n",
              "    <tr>\n",
              "      <th>75%</th>\n",
              "      <td>14264.250000</td>\n",
              "      <td>70.122175</td>\n",
              "      <td>24.739475</td>\n",
              "      <td>3.101600</td>\n",
              "      <td>0.503700</td>\n",
              "      <td>0.285225</td>\n",
              "      <td>24.063700</td>\n",
              "      <td>35.837800</td>\n",
              "      <td>10.946425</td>\n",
              "      <td>45.883550</td>\n",
              "      <td>240.563825</td>\n",
              "      <td>1.000000</td>\n",
              "    </tr>\n",
              "    <tr>\n",
              "      <th>max</th>\n",
              "      <td>19019.000000</td>\n",
              "      <td>334.177000</td>\n",
              "      <td>256.382000</td>\n",
              "      <td>5.323300</td>\n",
              "      <td>0.893000</td>\n",
              "      <td>0.675200</td>\n",
              "      <td>575.240700</td>\n",
              "      <td>238.321000</td>\n",
              "      <td>179.851000</td>\n",
              "      <td>90.000000</td>\n",
              "      <td>495.561000</td>\n",
              "      <td>1.000000</td>\n",
              "    </tr>\n",
              "  </tbody>\n",
              "</table>\n",
              "</div>\n",
              "      <button class=\"colab-df-convert\" onclick=\"convertToInteractive('df-81e4e263-7fbf-4253-a161-01b6c6a6f131')\"\n",
              "              title=\"Convert this dataframe to an interactive table.\"\n",
              "              style=\"display:none;\">\n",
              "\n",
              "  <svg xmlns=\"http://www.w3.org/2000/svg\" height=\"24px\"viewBox=\"0 0 24 24\"\n",
              "       width=\"24px\">\n",
              "    <path d=\"M0 0h24v24H0V0z\" fill=\"none\"/>\n",
              "    <path d=\"M18.56 5.44l.94 2.06.94-2.06 2.06-.94-2.06-.94-.94-2.06-.94 2.06-2.06.94zm-11 1L8.5 8.5l.94-2.06 2.06-.94-2.06-.94L8.5 2.5l-.94 2.06-2.06.94zm10 10l.94 2.06.94-2.06 2.06-.94-2.06-.94-.94-2.06-.94 2.06-2.06.94z\"/><path d=\"M17.41 7.96l-1.37-1.37c-.4-.4-.92-.59-1.43-.59-.52 0-1.04.2-1.43.59L10.3 9.45l-7.72 7.72c-.78.78-.78 2.05 0 2.83L4 21.41c.39.39.9.59 1.41.59.51 0 1.02-.2 1.41-.59l7.78-7.78 2.81-2.81c.8-.78.8-2.07 0-2.86zM5.41 20L4 18.59l7.72-7.72 1.47 1.35L5.41 20z\"/>\n",
              "  </svg>\n",
              "      </button>\n",
              "\n",
              "\n",
              "\n",
              "    <div id=\"df-e760985e-3e02-4926-9450-c2eb80030528\">\n",
              "      <button class=\"colab-df-quickchart\" onclick=\"quickchart('df-e760985e-3e02-4926-9450-c2eb80030528')\"\n",
              "              title=\"Suggest charts.\"\n",
              "              style=\"display:none;\">\n",
              "\n",
              "<svg xmlns=\"http://www.w3.org/2000/svg\" height=\"24px\"viewBox=\"0 0 24 24\"\n",
              "     width=\"24px\">\n",
              "    <g>\n",
              "        <path d=\"M19 3H5c-1.1 0-2 .9-2 2v14c0 1.1.9 2 2 2h14c1.1 0 2-.9 2-2V5c0-1.1-.9-2-2-2zM9 17H7v-7h2v7zm4 0h-2V7h2v10zm4 0h-2v-4h2v4z\"/>\n",
              "    </g>\n",
              "</svg>\n",
              "      </button>\n",
              "    </div>\n",
              "\n",
              "<style>\n",
              "  .colab-df-quickchart {\n",
              "    background-color: #E8F0FE;\n",
              "    border: none;\n",
              "    border-radius: 50%;\n",
              "    cursor: pointer;\n",
              "    display: none;\n",
              "    fill: #1967D2;\n",
              "    height: 32px;\n",
              "    padding: 0 0 0 0;\n",
              "    width: 32px;\n",
              "  }\n",
              "\n",
              "  .colab-df-quickchart:hover {\n",
              "    background-color: #E2EBFA;\n",
              "    box-shadow: 0px 1px 2px rgba(60, 64, 67, 0.3), 0px 1px 3px 1px rgba(60, 64, 67, 0.15);\n",
              "    fill: #174EA6;\n",
              "  }\n",
              "\n",
              "  [theme=dark] .colab-df-quickchart {\n",
              "    background-color: #3B4455;\n",
              "    fill: #D2E3FC;\n",
              "  }\n",
              "\n",
              "  [theme=dark] .colab-df-quickchart:hover {\n",
              "    background-color: #434B5C;\n",
              "    box-shadow: 0px 1px 3px 1px rgba(0, 0, 0, 0.15);\n",
              "    filter: drop-shadow(0px 1px 2px rgba(0, 0, 0, 0.3));\n",
              "    fill: #FFFFFF;\n",
              "  }\n",
              "</style>\n",
              "\n",
              "    <script>\n",
              "      async function quickchart(key) {\n",
              "        const containerElement = document.querySelector('#' + key);\n",
              "        const charts = await google.colab.kernel.invokeFunction(\n",
              "            'suggestCharts', [key], {});\n",
              "      }\n",
              "    </script>\n",
              "\n",
              "      <script>\n",
              "\n",
              "function displayQuickchartButton(domScope) {\n",
              "  let quickchartButtonEl =\n",
              "    domScope.querySelector('#df-e760985e-3e02-4926-9450-c2eb80030528 button.colab-df-quickchart');\n",
              "  quickchartButtonEl.style.display =\n",
              "    google.colab.kernel.accessAllowed ? 'block' : 'none';\n",
              "}\n",
              "\n",
              "        displayQuickchartButton(document);\n",
              "      </script>\n",
              "      <style>\n",
              "    .colab-df-container {\n",
              "      display:flex;\n",
              "      flex-wrap:wrap;\n",
              "      gap: 12px;\n",
              "    }\n",
              "\n",
              "    .colab-df-convert {\n",
              "      background-color: #E8F0FE;\n",
              "      border: none;\n",
              "      border-radius: 50%;\n",
              "      cursor: pointer;\n",
              "      display: none;\n",
              "      fill: #1967D2;\n",
              "      height: 32px;\n",
              "      padding: 0 0 0 0;\n",
              "      width: 32px;\n",
              "    }\n",
              "\n",
              "    .colab-df-convert:hover {\n",
              "      background-color: #E2EBFA;\n",
              "      box-shadow: 0px 1px 2px rgba(60, 64, 67, 0.3), 0px 1px 3px 1px rgba(60, 64, 67, 0.15);\n",
              "      fill: #174EA6;\n",
              "    }\n",
              "\n",
              "    [theme=dark] .colab-df-convert {\n",
              "      background-color: #3B4455;\n",
              "      fill: #D2E3FC;\n",
              "    }\n",
              "\n",
              "    [theme=dark] .colab-df-convert:hover {\n",
              "      background-color: #434B5C;\n",
              "      box-shadow: 0px 1px 3px 1px rgba(0, 0, 0, 0.15);\n",
              "      filter: drop-shadow(0px 1px 2px rgba(0, 0, 0, 0.3));\n",
              "      fill: #FFFFFF;\n",
              "    }\n",
              "  </style>\n",
              "\n",
              "      <script>\n",
              "        const buttonEl =\n",
              "          document.querySelector('#df-81e4e263-7fbf-4253-a161-01b6c6a6f131 button.colab-df-convert');\n",
              "        buttonEl.style.display =\n",
              "          google.colab.kernel.accessAllowed ? 'block' : 'none';\n",
              "\n",
              "        async function convertToInteractive(key) {\n",
              "          const element = document.querySelector('#df-81e4e263-7fbf-4253-a161-01b6c6a6f131');\n",
              "          const dataTable =\n",
              "            await google.colab.kernel.invokeFunction('convertToInteractive',\n",
              "                                                     [key], {});\n",
              "          if (!dataTable) return;\n",
              "\n",
              "          const docLinkHtml = 'Like what you see? Visit the ' +\n",
              "            '<a target=\"_blank\" href=https://colab.research.google.com/notebooks/data_table.ipynb>data table notebook</a>'\n",
              "            + ' to learn more about interactive tables.';\n",
              "          element.innerHTML = '';\n",
              "          dataTable['output_type'] = 'display_data';\n",
              "          await google.colab.output.renderOutput(dataTable, element);\n",
              "          const docLink = document.createElement('div');\n",
              "          docLink.innerHTML = docLinkHtml;\n",
              "          element.appendChild(docLink);\n",
              "        }\n",
              "      </script>\n",
              "    </div>\n",
              "  </div>\n"
            ],
            "text/plain": [
              "         Unnamed: 0       fLength        fWidth         fSize         fConc  \\\n",
              "count  19020.000000  19020.000000  19020.000000  19020.000000  19020.000000   \n",
              "mean    9509.500000     53.250154     22.180966      2.825017      0.380327   \n",
              "std     5490.745396     42.364855     18.346056      0.472599      0.182813   \n",
              "min        0.000000      4.283500      0.000000      1.941300      0.013100   \n",
              "25%     4754.750000     24.336000     11.863800      2.477100      0.235800   \n",
              "50%     9509.500000     37.147700     17.139900      2.739600      0.354150   \n",
              "75%    14264.250000     70.122175     24.739475      3.101600      0.503700   \n",
              "max    19019.000000    334.177000    256.382000      5.323300      0.893000   \n",
              "\n",
              "             fConc1         fAsym       fM3Long      fM3Trans        fAlpha  \\\n",
              "count  19020.000000  19020.000000  19020.000000  19020.000000  19020.000000   \n",
              "mean       0.214657     -4.331745     10.545545      0.249726     27.645707   \n",
              "std        0.110511     59.206062     51.000118     20.827439     26.103621   \n",
              "min        0.000300   -457.916100   -331.780000   -205.894700      0.000000   \n",
              "25%        0.128475    -20.586550    -12.842775    -10.849375      5.547925   \n",
              "50%        0.196500      4.013050     15.314100      0.666200     17.679500   \n",
              "75%        0.285225     24.063700     35.837800     10.946425     45.883550   \n",
              "max        0.675200    575.240700    238.321000    179.851000     90.000000   \n",
              "\n",
              "              fDist         class  \n",
              "count  19020.000000  19020.000000  \n",
              "mean     193.818026      0.648370  \n",
              "std       74.731787      0.477492  \n",
              "min        1.282600      0.000000  \n",
              "25%      142.492250      0.000000  \n",
              "50%      191.851450      1.000000  \n",
              "75%      240.563825      1.000000  \n",
              "max      495.561000      1.000000  "
            ]
          },
          "execution_count": 28,
          "metadata": {},
          "output_type": "execute_result"
        }
      ],
      "source": [
        "df.describe()"
      ]
    },
    {
      "cell_type": "code",
      "execution_count": null,
      "metadata": {
        "colab": {
          "base_uri": "https://localhost:8080/",
          "height": 1000
        },
        "id": "jLodC5zJltPP",
        "outputId": "063de3a9-aecd-4d38-8030-4a4571b02263"
      },
      "outputs": [
        {
          "data": {
            "image/png": "[encoded data removed]",
            "text/plain": [
              "<Figure size 640x480 with 1 Axes>"
            ]
          },
          "metadata": {},
          "output_type": "display_data"
        },
        {
          "data": {
            "image/png": "[encoded data removed]",
            "text/plain": [
              "<Figure size 640x480 with 1 Axes>"
            ]
          },
          "metadata": {},
          "output_type": "display_data"
        },
        {
          "data": {
            "image/png": "[encoded data removed]",
            "text/plain": [
              "<Figure size 640x480 with 1 Axes>"
            ]
          },
          "metadata": {},
          "output_type": "display_data"
        },
        {
          "data": {
            "image/png": "[encoded data removed]",
            "text/plain": [
              "<Figure size 640x480 with 1 Axes>"
            ]
          },
          "metadata": {},
          "output_type": "display_data"
        },
        {
          "data": {
            "image/png": "[encoded data removed]",
            "text/plain": [
              "<Figure size 640x480 with 1 Axes>"
            ]
          },
          "metadata": {},
          "output_type": "display_data"
        },
        {
          "data": {
            "image/png": "[encoded data removed]",
            "text/plain": [
              "<Figure size 640x480 with 1 Axes>"
            ]
          },
          "metadata": {},
          "output_type": "display_data"
        },
        {
          "data": {
            "image/png": "[encoded data removed]",
            "text/plain": [
              "<Figure size 640x480 with 1 Axes>"
            ]
          },
          "metadata": {},
          "output_type": "display_data"
        },
        {
          "data": {
            "image/png": "[encoded data removed]",
            "text/plain": [
              "<Figure size 640x480 with 1 Axes>"
            ]
          },
          "metadata": {},
          "output_type": "display_data"
        },
        {
          "data": {
            "image/png": "[encoded data removed]",
            "text/plain": [
              "<Figure size 640x480 with 1 Axes>"
            ]
          },
          "metadata": {},
          "output_type": "display_data"
        },
        {
          "data": {
            "image/png": "[encoded data removed]",
            "text/plain": [
              "<Figure size 640x480 with 1 Axes>"
            ]
          },
          "metadata": {},
          "output_type": "display_data"
        },
        {
          "data": {
            "image/png": "[encoded data removed]",
            "text/plain": [
              "<Figure size 640x480 with 1 Axes>"
            ]
          },
          "metadata": {},
          "output_type": "display_data"
        }
      ],
      "source": [
        "for label in df.columns[:-1]:\n",
        "  plt.hist(df[df['class']==1][label], label = 'Gamma')\n",
        "  plt.hist(df[df['class']==0][label], label = 'Hydrons')\n",
        "  plt.show()"
      ]
    },
    {
      "cell_type": "code",
      "execution_count": null,
      "metadata": {
        "colab": {
          "base_uri": "https://localhost:8080/",
          "height": 963
        },
        "id": "UYxRcKvmzsN8",
        "outputId": "c08f5d54-9e82-466b-a6e0-8c89671c5603"
      },
      "outputs": [
        {
          "data": {
            "text/html": [
              "\n",
              "\n",
              "  <div id=\"df-293bbd80-2a30-4460-a7de-307bef847281\">\n",
              "    <div class=\"colab-df-container\">\n",
              "      <div>\n",
              "<style scoped>\n",
              "    .dataframe tbody tr th:only-of-type {\n",
              "        vertical-align: middle;\n",
              "    }\n",
              "\n",
              "    .dataframe tbody tr th {\n",
              "        vertical-align: top;\n",
              "    }\n",
              "\n",
              "    .dataframe thead th {\n",
              "        text-align: right;\n",
              "    }\n",
              "</style>\n",
              "<table border=\"1\" class=\"dataframe\">\n",
              "  <thead>\n",
              "    <tr style=\"text-align: right;\">\n",
              "      <th></th>\n",
              "      <th>fLength</th>\n",
              "      <th>fSize</th>\n",
              "    </tr>\n",
              "  </thead>\n",
              "  <tbody>\n",
              "    <tr>\n",
              "      <th>0</th>\n",
              "      <td>28.7967</td>\n",
              "      <td>2.6449</td>\n",
              "    </tr>\n",
              "    <tr>\n",
              "      <th>1</th>\n",
              "      <td>31.6036</td>\n",
              "      <td>2.5185</td>\n",
              "    </tr>\n",
              "    <tr>\n",
              "      <th>2</th>\n",
              "      <td>162.0520</td>\n",
              "      <td>4.0612</td>\n",
              "    </tr>\n",
              "    <tr>\n",
              "      <th>3</th>\n",
              "      <td>23.8172</td>\n",
              "      <td>2.3385</td>\n",
              "    </tr>\n",
              "    <tr>\n",
              "      <th>4</th>\n",
              "      <td>75.1362</td>\n",
              "      <td>3.1611</td>\n",
              "    </tr>\n",
              "    <tr>\n",
              "      <th>...</th>\n",
              "      <td>...</td>\n",
              "      <td>...</td>\n",
              "    </tr>\n",
              "    <tr>\n",
              "      <th>19015</th>\n",
              "      <td>21.3846</td>\n",
              "      <td>2.6161</td>\n",
              "    </tr>\n",
              "    <tr>\n",
              "      <th>19016</th>\n",
              "      <td>28.9452</td>\n",
              "      <td>2.2672</td>\n",
              "    </tr>\n",
              "    <tr>\n",
              "      <th>19017</th>\n",
              "      <td>75.4455</td>\n",
              "      <td>3.4483</td>\n",
              "    </tr>\n",
              "    <tr>\n",
              "      <th>19018</th>\n",
              "      <td>120.5135</td>\n",
              "      <td>3.9939</td>\n",
              "    </tr>\n",
              "    <tr>\n",
              "      <th>19019</th>\n",
              "      <td>187.1814</td>\n",
              "      <td>3.2093</td>\n",
              "    </tr>\n",
              "  </tbody>\n",
              "</table>\n",
              "<p>19020 rows × 2 columns</p>\n",
              "</div>\n",
              "      <button class=\"colab-df-convert\" onclick=\"convertToInteractive('df-293bbd80-2a30-4460-a7de-307bef847281')\"\n",
              "              title=\"Convert this dataframe to an interactive table.\"\n",
              "              style=\"display:none;\">\n",
              "\n",
              "  <svg xmlns=\"http://www.w3.org/2000/svg\" height=\"24px\"viewBox=\"0 0 24 24\"\n",
              "       width=\"24px\">\n",
              "    <path d=\"M0 0h24v24H0V0z\" fill=\"none\"/>\n",
              "    <path d=\"M18.56 5.44l.94 2.06.94-2.06 2.06-.94-2.06-.94-.94-2.06-.94 2.06-2.06.94zm-11 1L8.5 8.5l.94-2.06 2.06-.94-2.06-.94L8.5 2.5l-.94 2.06-2.06.94zm10 10l.94 2.06.94-2.06 2.06-.94-2.06-.94-.94-2.06-.94 2.06-2.06.94z\"/><path d=\"M17.41 7.96l-1.37-1.37c-.4-.4-.92-.59-1.43-.59-.52 0-1.04.2-1.43.59L10.3 9.45l-7.72 7.72c-.78.78-.78 2.05 0 2.83L4 21.41c.39.39.9.59 1.41.59.51 0 1.02-.2 1.41-.59l7.78-7.78 2.81-2.81c.8-.78.8-2.07 0-2.86zM5.41 20L4 18.59l7.72-7.72 1.47 1.35L5.41 20z\"/>\n",
              "  </svg>\n",
              "      </button>\n",
              "\n",
              "\n",
              "\n",
              "    <div id=\"df-3020006f-30fc-435a-a4a6-ed321c3e4da8\">\n",
              "      <button class=\"colab-df-quickchart\" onclick=\"quickchart('df-3020006f-30fc-435a-a4a6-ed321c3e4da8')\"\n",
              "              title=\"Suggest charts.\"\n",
              "              style=\"display:none;\">\n",
              "\n",
              "<svg xmlns=\"http://www.w3.org/2000/svg\" height=\"24px\"viewBox=\"0 0 24 24\"\n",
              "     width=\"24px\">\n",
              "    <g>\n",
              "        <path d=\"M19 3H5c-1.1 0-2 .9-2 2v14c0 1.1.9 2 2 2h14c1.1 0 2-.9 2-2V5c0-1.1-.9-2-2-2zM9 17H7v-7h2v7zm4 0h-2V7h2v10zm4 0h-2v-4h2v4z\"/>\n",
              "    </g>\n",
              "</svg>\n",
              "      </button>\n",
              "    </div>\n",
              "\n",
              "<style>\n",
              "  .colab-df-quickchart {\n",
              "    background-color: #E8F0FE;\n",
              "    border: none;\n",
              "    border-radius: 50%;\n",
              "    cursor: pointer;\n",
              "    display: none;\n",
              "    fill: #1967D2;\n",
              "    height: 32px;\n",
              "    padding: 0 0 0 0;\n",
              "    width: 32px;\n",
              "  }\n",
              "\n",
              "  .colab-df-quickchart:hover {\n",
              "    background-color: #E2EBFA;\n",
              "    box-shadow: 0px 1px 2px rgba(60, 64, 67, 0.3), 0px 1px 3px 1px rgba(60, 64, 67, 0.15);\n",
              "    fill: #174EA6;\n",
              "  }\n",
              "\n",
              "  [theme=dark] .colab-df-quickchart {\n",
              "    background-color: #3B4455;\n",
              "    fill: #D2E3FC;\n",
              "  }\n",
              "\n",
              "  [theme=dark] .colab-df-quickchart:hover {\n",
              "    background-color: #434B5C;\n",
              "    box-shadow: 0px 1px 3px 1px rgba(0, 0, 0, 0.15);\n",
              "    filter: drop-shadow(0px 1px 2px rgba(0, 0, 0, 0.3));\n",
              "    fill: #FFFFFF;\n",
              "  }\n",
              "</style>\n",
              "\n",
              "    <script>\n",
              "      async function quickchart(key) {\n",
              "        const containerElement = document.querySelector('#' + key);\n",
              "        const charts = await google.colab.kernel.invokeFunction(\n",
              "            'suggestCharts', [key], {});\n",
              "      }\n",
              "    </script>\n",
              "\n",
              "      <script>\n",
              "\n",
              "function displayQuickchartButton(domScope) {\n",
              "  let quickchartButtonEl =\n",
              "    domScope.querySelector('#df-3020006f-30fc-435a-a4a6-ed321c3e4da8 button.colab-df-quickchart');\n",
              "  quickchartButtonEl.style.display =\n",
              "    google.colab.kernel.accessAllowed ? 'block' : 'none';\n",
              "}\n",
              "\n",
              "        displayQuickchartButton(document);\n",
              "      </script>\n",
              "      <style>\n",
              "    .colab-df-container {\n",
              "      display:flex;\n",
              "      flex-wrap:wrap;\n",
              "      gap: 12px;\n",
              "    }\n",
              "\n",
              "    .colab-df-convert {\n",
              "      background-color: #E8F0FE;\n",
              "      border: none;\n",
              "      border-radius: 50%;\n",
              "      cursor: pointer;\n",
              "      display: none;\n",
              "      fill: #1967D2;\n",
              "      height: 32px;\n",
              "      padding: 0 0 0 0;\n",
              "      width: 32px;\n",
              "    }\n",
              "\n",
              "    .colab-df-convert:hover {\n",
              "      background-color: #E2EBFA;\n",
              "      box-shadow: 0px 1px 2px rgba(60, 64, 67, 0.3), 0px 1px 3px 1px rgba(60, 64, 67, 0.15);\n",
              "      fill: #174EA6;\n",
              "    }\n",
              "\n",
              "    [theme=dark] .colab-df-convert {\n",
              "      background-color: #3B4455;\n",
              "      fill: #D2E3FC;\n",
              "    }\n",
              "\n",
              "    [theme=dark] .colab-df-convert:hover {\n",
              "      background-color: #434B5C;\n",
              "      box-shadow: 0px 1px 3px 1px rgba(0, 0, 0, 0.15);\n",
              "      filter: drop-shadow(0px 1px 2px rgba(0, 0, 0, 0.3));\n",
              "      fill: #FFFFFF;\n",
              "    }\n",
              "  </style>\n",
              "\n",
              "      <script>\n",
              "        const buttonEl =\n",
              "          document.querySelector('#df-293bbd80-2a30-4460-a7de-307bef847281 button.colab-df-convert');\n",
              "        buttonEl.style.display =\n",
              "          google.colab.kernel.accessAllowed ? 'block' : 'none';\n",
              "\n",
              "        async function convertToInteractive(key) {\n",
              "          const element = document.querySelector('#df-293bbd80-2a30-4460-a7de-307bef847281');\n",
              "          const dataTable =\n",
              "            await google.colab.kernel.invokeFunction('convertToInteractive',\n",
              "                                                     [key], {});\n",
              "          if (!dataTable) return;\n",
              "\n",
              "          const docLinkHtml = 'Like what you see? Visit the ' +\n",
              "            '<a target=\"_blank\" href=https://colab.research.google.com/notebooks/data_table.ipynb>data table notebook</a>'\n",
              "            + ' to learn more about interactive tables.';\n",
              "          element.innerHTML = '';\n",
              "          dataTable['output_type'] = 'display_data';\n",
              "          await google.colab.output.renderOutput(dataTable, element);\n",
              "          const docLink = document.createElement('div');\n",
              "          docLink.innerHTML = docLinkHtml;\n",
              "          element.appendChild(docLink);\n",
              "        }\n",
              "      </script>\n",
              "    </div>\n",
              "  </div>\n"
            ],
            "text/plain": [
              "        fLength   fSize\n",
              "0       28.7967  2.6449\n",
              "1       31.6036  2.5185\n",
              "2      162.0520  4.0612\n",
              "3       23.8172  2.3385\n",
              "4       75.1362  3.1611\n",
              "...         ...     ...\n",
              "19015   21.3846  2.6161\n",
              "19016   28.9452  2.2672\n",
              "19017   75.4455  3.4483\n",
              "19018  120.5135  3.9939\n",
              "19019  187.1814  3.2093\n",
              "\n",
              "[19020 rows x 2 columns]"
            ]
          },
          "execution_count": 62,
          "metadata": {},
          "output_type": "execute_result"
        },
        {
          "data": {
            "text/html": [
              "<h4 class=\"colab-quickchart-section-title\">Values</h4>\n",
              "<style>\n",
              "  .colab-quickchart-section-title {\n",
              "      clear: both;\n",
              "  }\n",
              "</style>"
            ],
            "text/plain": [
              "<google.colab._quickchart_helpers.SectionTitle at 0x7e4752c61840>"
            ]
          },
          "metadata": {},
          "output_type": "display_data"
        },
        {
          "data": {
            "text/html": [
              "      <div class=\"colab-quickchart-chart-with-code\" id=\"chart-c2755dfc-5a11-4fdd-a90f-6225435f7f4a\">\n",
              "        <img src=\"data:image/png;base64,iVBORw0KGgoAAAANSUhEUgAAAMQAAABgCAYAAABCK92TAAAAOXRFWHRTb2Z0d2FyZQBNYXRwbG90\n",
              "bGliIHZlcnNpb24zLjcuMSwgaHR0cHM6Ly9tYXRwbG90bGliLm9yZy/bCgiHAAAACXBIWXMAAA9h\n",
              "AAAPYQGoP6dpAAAPcElEQVR4nO3deVgUZ54H8G9DQ6NyiYZLBEVRJ6MLG8QQjdfDmNHojDhuHnej\n",
              "RswYTaJrZjbZ8ZiMiptIDsfb6KyOROMx8dxJvC9EQQ0gGAxyQ0ODHNpC0yB9v/tHh6aKprGBppuG\n",
              "3+d5+pGueuvtt8r+1Vtv1fu+LWCMMRBCAAAOti4AId0JBQQhHBQQhHBQQBDCQQFBCAcFBCEcFBCE\n",
              "cFBAEMJBAUEIBwWEFajVasyfPx9eXl5wdXWFTCazdZGMiMViCAQCFBQU2LooNkUBYQUnT55EQkIC\n",
              "xGIx6uvrERoaiv3799usPBs2bMCrr75qs8/vziggrKCwsBDBwcFwd3e3dVHIc1BAdLGYmBhs3LgR\n",
              "d+7cgaurK2bMmNFmeoVCgbVr12LYsGHo378/Jk2ahIyMDMP6prN7bGws/Pz84OXlhWXLlkGj0RjS\n",
              "pKSkICIiAm5ubhg7diy2bNkCgUAAADhy5Ag2bdpkKI+rqytu3bpl2DY5ORmhoaFwc3NDZGQkHj58\n",
              "aOEj0s0x0uXWr1/PJkyYYHgfFBTE9u3b12raRYsWsaioKCaRSJharWY7d+5kL7zwAqupqTHkJRQK\n",
              "2ZdffsmUSiXLzc1l/fv3ZwcOHGCMMVZTU8O8vLxYbGwsUyqVLDs7m4WEhDDuf3XL8jDGWHFxMQPA\n",
              "oqKi2KNHj1hjYyObO3cumzRpkoWPRvdGNUQ3IpVKcfDgQezevRsBAQEQCoVYsWIFPDw8cPbsWUO6\n",
              "wYMH46OPPoKzszNGjBiBqKgopKSkAADOnj0LJycnfPzxx3B2dsaoUaOwcuVKs8uwbt06+Pn5wcXF\n",
              "BYsXL0ZqaqrF97M7E9q6AKRZ0x2el19+mbdcpVKhrKzM8N7f35+3vl+/fpDL5QCA8vJyDB48GA4O\n",
              "zee6IUOGmF0Gbt79+vVDY2MjNBoNhMLe8VXpHXtpJ3x9fQEAmZmZCAwM7FAegwYNgkQigU6nMwRF\n",
              "SUkJLw03WAgfHRkb0Wg0UCgUvFdgYCCio6OxfPlyw5dYLpfjwoULqKioMCvfWbNmQaVSIS4uDiqV\n",
              "Cnl5edixYwcvja+vL0pLS6FQKCy+X/aOAsJG3nvvPfTp04f3KiwsxNGjRxEeHo5p06bBzc0NI0eO\n",
              "xL59+8DMHOnr6emJ8+fP48yZM/Dy8sKbb76Jt99+GyKRyJBm3rx5GDlyJPz9/eHp6YmkpKSu2k27\n",
              "I2DmHmlit7Zt24Y9e/YgNzfX1kXp9qiG6IGuXbsGiUQCxhjS0tKwefNmzJ8/39bFsgvUqO6BcnJy\n",
              "sHDhQtTW1sLb2xsLFizAqlWrbF0su0CXTIRw0CUTIRwUEIRwUEAQwkEBQQiHXQTE9u3bbV0E0kvY\n",
              "RUC07ItDSJPY77MwfdtNNKq0FsnPLgKCEFPik8XIqZTj+8xHFsmPAoLYlEarw9EfSlH4uL5T+eh0\n",
              "lnmcRgFBjCg1WsQnF2PN6Qd4LFdi8pcJGLL6HG7kVhulVai1uPqwCg1KjdG6a9lVmPDZdaSKn5r8\n",
              "rMN3S7D2zANE/TXRrLKt++dPmL07GSqNzvwdagcKCMIjV6jxLxsuI/b7hziWUopfb7uJEukzAEBM\n",
              "fKpR2rCNl7HkUBr+81iGUY/c3x9MQ3ltI+bv+8Hk590rreW912h1UKi1KKt5hpj4FCQXPOGtP3Sn\n",
              "BD9KavH5xRzeckt1t6CAIDxJ+U+g5Jx9nzaoeOtrnzW//+O396FQ69Nez6nGb3clQ9vKpYtKa/7Z\n",
              "/LVtN/HL9Zfw/pF03Mh9jPn7m4Np86Xm3rp/Tyq22GUSV7sCQqFQIDo6GiNGjEBoaCimTZtmGPY4\n",
              "ZcoUDB06FGFhYQgLC8PWrVsN21VXV2P69OkICQnB6NGjcfPmTcvuhQWcy6xAdkWdrYvR7e1JLDT8\n",
              "fTWbfwn1oFxmdEZv8sdv7xv+Vmt1+L+McqNgA4Cixw3Q6hgyy5onc4s7n40HZTLsSuBPoqbl1EiW\n",
              "6pHX7t6uS5cuxYwZMyAQCLBr1y4sWbIEN27cAABs3boV0dHRRtusXr0akZGRuHjxIlJTUzFnzhwU\n",
              "FxfDycmps+W3iLtFUiw/mg4AEH8208al6d6U6rbP9m8dSGn1GJ7JKMenc0ajr7MQIX++0K7P/NvN\n",
              "IvztZpHR8uVH0g1/rz3zAIl51dgzPxwODoJ25c/VrhrCxcUFr7/+umGOn8jISIjF4udud/z4cbz7\n",
              "7rsAgIiICPj7+yMx0bxGlDXkUM1gtq9vi3ln+9Z8daMAQ1afM1q+90YhpPVKi5Xl8sMq3vtLWVVI\n",
              "zHvcqTw71YbYvn07Zs+ebXi/evVqjBkzBvPmzUNRkT6ipVIp1Gq1YQA9oJ8ForS0tNU8lUol6urq\n",
              "eC+t1jIPXYhlnMkox51Cqcn1X1xsfWTejusFCP/kqsntLNEmqFOoO7V9hwNi06ZNKCgoQFxcHADg\n",
              "m2++QU5ODjIzMzFx4kTMmjWrQ/nGxcXBw8OD92qac8jeaHXM7LHQ3YXAzKuN/9h31+KfHbz2fKfz\n",
              "aK1R3x4dCojNmzfj9OnTuHDhAvr27QtAP3kWAAgEAqxYsQJFRUWQSqUYMGAAhEIhKisrDduLxWKT\n",
              "06ysWbMGMpmM9xo3blxHimlTaq0OUzYn4N/23rF1UXoVqwfEli1bcOzYMVy5cgWenp4A9FOqVFU1\n",
              "X8+dOnUKPj4+GDBgAADgjTfewN69ewEAqampKC8vx+TJk1vNXyQSwd3dnfdydHRsbzFtLrdSDsnT\n",
              "RtwrqbF1Udrleo7xwzd70tmAaNddprKyMnz44YcIDg7G1KlTAei/wNevX8fMmTOhVCrh4OCAgQMH\n",
              "4rvvvjNs9/nnn2PhwoUICQmBs7MzDh8+3G3uMPUW5bWN8OjjBFdR8395g1KDs5mPEPULHwx0FYEx\n",
              "huNpZW3k0v01dLKTX7sCIiAgwOQ1cVpamsntfHx8cPny5faVrBvJrZQjpViKN18OgiPnll5GaQ3e\n",
              "PXwPf575In4byp9e0txrcWuQPH2GiV8koI+TI7L/Z7ph+V/++RNOp5djlK8YF/8wCV3wnMvq9t8q\n",
              "wu9fHdrh7WnWDTP8epv+QaJAIMCCyCDD8ncO3cOTeiVWHsswDgh0n4i4Xah/WNao5p89LzzQt+ty\n",
              "KvXzwurs7AZAaypknZuNkLpumPBMZdxZ7ady/k9hqTSmq+fuVEOYCs6WZewJAdFZFBCA4UFjkw3f\n",
              "ZeHFdZdwr8R0L01TEvMe49vUUhy6I+5QWY6llCLBBg3bx3Klxbo/2DO7DYgrD6swPu4aUorb/tKe\n",
              "y6zAb3YmQfykodX1GaU1+OwCv+fk17fFAIC/Xs5rM++W35+7RVIsOpCCVace4FiKpM1tW5NbKcea\n",
              "0w+w+Ou2f5NB/KQB6aX6u1d5VXLsTijAlit5uF34BBWyRuN2nonairs44tOruNLiyW9vZLdtiHcO\n",
              "6RvxC/b/gLxPTf9MVVMfpT+dysTxZa/w1tU0qDDnq9smt215CdHWZVC1XIF//9/WH1Yxxni1UJ1C\n",
              "jR1X8zE7bBDGBHgYln9zV2y0rbReidPp5Zjz0iAMdNVPWDxl8w0AwK0/TcVrW5s7Su64pv9XJHRA\n",
              "7ifNx4RbbJ2O4VR6Gf410NOoZtx+Ld/0DvYSdltDNGnqWlwpU+DkvTI0qrS4ll2F/beKoORc4zco\n",
              "NSiorsfvvko29HdZ8HfT/fQB4G4Rv/a5XSjFH/6RgXcOpUHWqIZc0dzOkDxtNJkPY/xuCZvOZWN/\n",
              "UjF+s4s/6/bx1OZbnpqf9+v9I+n49Hw2lhw0votXYGKUmbLF4BkN57N3XM/Hf5/MxK+23DSqOAqq\n",
              "OzdqrSew2xqipde2JqJOocFHJ340LKvnjOJydBDg/SP3kFdVj0UHUjD9l77IemTcqa/lYPXT6c1f\n",
              "0hLpM8NgmZ0tzqZt9aGZ+EUCnjao8En0aMwND0AGZ1DMucwK/OpFb4iEjrxxA4fvliBmwlD88PMl\n",
              "4X1JLVpSqp9/z12nY8h61Hwz4Ksbzd235a2McuvtekRA6HQMdQrj/9xtV5u/tNz+9QBwMauyZXIA\n",
              "wC/WXeS9/6/jP7aabn9SMe/94njT1/3ltfra48MTP2L88AHIrZIb1jVd0rWUXCiFyIn/hL7wcT0O\n",
              "/dy+AYCN35v+hdBX4q61eguyq4Ze9hQ9IiAs0SnMWl6Ju25WuisPq4wauS3HHT9q4557Z+/H91Z2\n",
              "34YgxJIoIAjhoIAghIMCghAOCghCOCggCOGggCCEgwKCEA6rBUR+fj7Gjx+PESNGICIiAllZWdb6\n",
              "aELMZrWAWLZsGZYuXYq8vDysWrUKMTEx1vpoQsxmlYCorq5GWloaFixYAACYO3cuJBKJYV7YjnBz\n",
              "6RG9ToiFzQ7zf36iNlglICQSCfz8/CAU6r/EAoEAgYGBrc7eZ+7Mfel/mQaRkJpAhG/bvLBObd/t\n",
              "TrNxcXGIjY3lLYuMjDRK5+TIHwRDLEenY4YJg2saVPDo4wQHBwGq6hTwdhOBMf04FBcnRzDGIFdq\n",
              "4O7iZDQQ6plKA5HQETmVdRjl6w4HgX56/QE/D3QC9IOnLmVVoapOgUXjhwDQjxz0dXeBR1/TUxUp\n",
              "1Fq4OFl+vi4Bs8Jci9XV1Rg+fDiePn0KoVAIxhj8/PyQlJSE4cOH89IqlUoolfwJcd966y0EBwfz\n",
              "lmm1WqSkpGDcuHF2OZFZV6Hj0rqgoCB88MEHz0/IrGTy5MksPj6eMcbYiRMnWHh4eKfyk8lkDACT\n",
              "yWQWKF3PQcelc6xSQwBAbm4uYmJiIJVK4e7ujvj4eIwZM6bD+dXV1cHDwwMymQzu7u4WLKl9o+PS\n",
              "OVZrQ4wcORJ37tDEv6R7o9s0hHDYbUCIRCKsX78eIpHo+Yl7ETounWO1NgQh9sBuawhCugIFBCEc\n",
              "FBCEcNhtQPTU7uQrV67EkCFDIBAIcP/+fcPytva3K9b1WrZ9LthxU6dO5T35Hjt2rG0LZCGJiYlM\n",
              "IpGwoKAglpGRYVje1v52xbreyi4Doqqqirm5uTG1Ws0YY0yn0zEfHx+Wn59v45JZDjcg2trfrljX\n",
              "m9nlJVN7upP3BG3tb1es683sMiAI6SrdbjyEOQYPHoyKigpoNBpDd/LS0lKTPwZv79raX3d3d4uv\n",
              "683ssobw9vbGSy+9hMOHDwPQ/1B8QECA0diKnqKt/e2Kdb2aTVswnZCTk8MiIyNZSEgICw8PZ5mZ\n",
              "mbYukkUsXbqUDRo0iDk6OjJvb282bNgwxljb+9sV63or6stECIddXjIR0lUoIAjhoIAghIMCghAO\n",
              "CghCOCggCOGggCCEgwKCEA4KCEI4KCAI4aCAIITj/wHjSX9UuDs2fQAAAABJRU5ErkJggg==\n",
              "\">\n",
              "        \n",
              "      </div>\n",
              "      <script></script>\n",
              "      <script type=\"text/javascript\">\n",
              "        (() => {\n",
              "          const chartElement = document.getElementById(\"chart-c2755dfc-5a11-4fdd-a90f-6225435f7f4a\");\n",
              "          async function getCodeForChartHandler(event) {\n",
              "            const chartCodeResponse =  await google.colab.kernel.invokeFunction(\n",
              "                'getCodeForChart', [\"chart-c2755dfc-5a11-4fdd-a90f-6225435f7f4a\"], {});\n",
              "            const responseJson = chartCodeResponse.data['application/json'];\n",
              "            await google.colab.notebook.addCell(responseJson.code, 'code');\n",
              "          }\n",
              "          chartElement.onclick = getCodeForChartHandler;\n",
              "        })();\n",
              "      </script>\n",
              "      <style>\n",
              "        .colab-quickchart-chart-with-code  {\n",
              "            display: block;\n",
              "            float: left;\n",
              "            border: 1px solid transparent;\n",
              "        }\n",
              "\n",
              "        .colab-quickchart-chart-with-code:hover {\n",
              "            cursor: pointer;\n",
              "            border: 1px solid #aaa;\n",
              "        }\n",
              "      </style>"
            ],
            "text/plain": [
              "import numpy as np\n",
              "from google.colab import autoviz\n",
              "df_7445405500556573315 = autoviz.get_registered_df('df_7445405500556573315')\n",
              "\n",
              "def value_plot(df, y, sort_ascending=False, figsize=(2, 1)):\n",
              "  from matplotlib import pyplot as plt\n",
              "  if sort_ascending:\n",
              "    df = df.sort_values(y).reset_index(drop=True)\n",
              "  _, ax = plt.subplots(figsize=figsize)\n",
              "  df[y].plot(kind='line')\n",
              "  plt.title(y)\n",
              "  ax.spines[['top', 'right',]].set_visible(False)\n",
              "  plt.tight_layout()\n",
              "  return autoviz.MplChart.from_current_mpl_state()\n",
              "\n",
              "chart = value_plot(df_7445405500556573315, *['fLength'], **{})\n",
              "chart"
            ]
          },
          "metadata": {},
          "output_type": "display_data"
        },
        {
          "data": {
            "text/html": [
              "      <div class=\"colab-quickchart-chart-with-code\" id=\"chart-aa6a7ee3-1cff-4c1b-973e-87a1b696cdde\">\n",
              "        <img src=\"data:image/png;base64,iVBORw0KGgoAAAANSUhEUgAAAM4AAABgCAYAAABVCU1aAAAAOXRFWHRTb2Z0d2FyZQBNYXRwbG90\n",
              "bGliIHZlcnNpb24zLjcuMSwgaHR0cHM6Ly9tYXRwbG90bGliLm9yZy/bCgiHAAAACXBIWXMAAA9h\n",
              "AAAPYQGoP6dpAAAQ8ElEQVR4nO3deVhTV94H8G9YBIGAIiK4AGXR1iqLC1q17TBiX7FqHWxf27FT\n",
              "plWs70yfyrTTznQYaytWxreV6qtW6uu+USpaZVxaxSpLRUUgUlFWCYtIUJSwJmQ580dsJCYEciEk\n",
              "sb/P8+R5Qs659557yffec29yT3iMMQZCiEGsTN0AQiwRBYcQDig4hHBAwSGEAwoOIRxQcAjhgIJD\n",
              "CAcUHEI4oOAQwgEFx0zJZDIsXrwYrq6ucHJyglgs1lv/wIEDGDNmTD+1jlBwzFRKSgrOnTsHoVCI\n",
              "lpYWCIVCzJ07F+7u7uDz+fD29kZkZCQ6OjoAAIsXL0ZxcbGJW/3rQcExU+Xl5fD19YWzszNaW1sR\n",
              "Hh6OSZMm4ebNm2hqakJWVhZmzZoF+qqhiTBidqKiopitrS2zsrJijo6ObPbs2QwAa2ho6HKaXbt2\n",
              "sREjRjDGGLt79y5zdHTUeFhZWbGoqCh1/T179rDAwEDm7OzMxo4dy5KSkoy9Wo8VCo6ZWrVqFZs+\n",
              "fTpjjLHm5mbm6enJwsPD2YEDB1hRUZFW/c7BedTZs2cZn89naWlp6rqjRo1iOTk5TKFQsMzMTMbn\n",
              "81lmZqbxVugxQ101C+Dk5IRLly5h/PjxWLduHcaNGwcPDw/Ex8d321XLy8tDZGQktm/fjpkzZwIA\n",
              "EhISEBsbi0mTJsHKygozZszAokWLsHv37n5Ym8eEqZNLdOt8xHlUS0sL27lzJ7OxsWG7du1ijOk+\n",
              "4pSVlbFhw4axTZs2abxub2/PHB0dmYuLi/rh6OjIIiIijLIujyM64lggR0dHvPnmmwgMDEReXp7O\n",
              "OnV1dXjhhRcQHR2Nd955R6PMw8MDX331FRobG9WPlpYWnDx5sj+a/1ig4FiAoqIirFmzBsXFxZDL\n",
              "5ZDJZPj2229x7do1PPfcc1r1m5ubERERgZkzZyIuLk6rPCYmBnFxccjJyYFSqYRUKkVOTg5yc3P7\n",
              "Y3UeCzambgDpHp/PR1FRESIiIlBfXw9bW1v4+vpiy5YtePnll7Xq5+bmQiAQoKSkBAcPHlS//vrr\n",
              "ryMxMRErVqyAm5sbli9fjvLyctjY2GDcuHFYvXp1f66WReMxRh8EEGIo6qoRwgEFhxAOKDiEcEDB\n",
              "IYQDCg4hHFBwCOGAgkMIB2YZnI0bN5q6CYToZXBwfHx8MGbMGAQHByM4OBjJyck66+3YsQMBAQHw\n",
              "8/NDdHQ0ZDJZj5dRWVlpaLMIAQDszRZixrofUdnQatTlcDriJCcnQyAQQCAQYNGiRVrlFRUVWLly\n",
              "JTIzM1FWVgaRSIRt27b1urHE/IjbZJAplH0yrzPXRbhQfrdX8/j4WCFq7rcj7vj1PmlTV4zSVUtJ\n",
              "ScH8+fPh4eEBHo+H5cuXIykpyRiLIiYkapIgaPVpvPBlRq/nVd8kQfTeK/j9/1/qg5YBHQrjfpOM\n",
              "U3DeeOMNjB8/HkuWLMGdO3e0yquqquDt7a3+28fHB1VVVTrnJZVK0dTUpPFQKBRcmmUwmUKJvyQL\n",
              "8G1Odb8szxI0S2T43++LcON2U7d104tV//uKu7q7RUplz9+8d1s61M/rmyV6b9BTKhn+eugqtmfe\n",
              "7LKOsb+CaXBwMjIyUFBQgLy8PLi5uSEqKqpXDYiPj4eLi4vG4/Lly72aZ099l38L3+XfwoeHC3o1\n",
              "n7YOeZ91V0xt3fdF+Op8OSI2ZvZqPvuyhQiJO4Nrt/QPa6VL6GdnEXf8RpflP5XfRUpuDdaceFhH\n",
              "Klfgn0d/5tRWLgwOjpeXFwDA1tYWMTExyMzU3sBeXl4aJ/hCoVA93aM++ugjiMVijUdoaKihzeKk\n",
              "sa1D6zWZQom1J28gq7Rnfe1WqRxjP/4Bz64719fN63Np10V699IAcO1W90eanlh5rBDidhn+eugq\n",
              "p+l3/lQBQHV0aWiRapS1Sh/2SOZtysLZGyLsv1iF/Rcf9mqyynp3rtQdg4LT2tqKxsZG9d9JSUkI\n",
              "CQnRqrdw4UKkpqairq4OjDEkJibi1Vdf1TlPOzs7ODs7azysra0NW4s+dOBiJbZl3MTrO3rW1y6o\n",
              "Ue1R65okAABxuwynC+vQITe/I9DSvVew5sQN5FXd77IOj9f19Aol63K9yu+04M8H87S6eNZWPPW0\n",
              "v1AqWY+7cW/uzsHENWkabe7cxp9vibFkzxXUids1pjP2zTIGBUckEiEsLAyBgYEYP3480tPTsXfv\n",
              "XgDA0qVLkZqaCgDw9fXFp59+iunTp8Pf3x9Dhw7F22+/3fet76HNP5biv7/OhkTW/blT1b32buvo\n",
              "E7XzMpbty8UXp813cMDqe21Y8U0+ThTc1lsvt/K+xrnCrC/TEbo2DVK5AvEnb2h0cWclpONEwW1E\n",
              "bMzE858/PPryeEBtYzuCV59G3PHrYIxh/pYszN6YoREeXYG9Wt2I9BLVedTeC0J1aHVlm6djBq1S\n",
              "ucbfSiWDuL3nH4voY9AdoL6+vsjPz9dZtn37do2/o6OjER0dzb1lBmKM6dx4APDF6RIAwP6LlVj6\n",
              "rG/fLheauzZBdSMA4HBuDf4x56k+XVZf2ZlVgas1YhwT1OLFwBc1yjpvwYVbL+D/XgvB/KDhAICb\n",
              "d1QXAXZkVeDrDM0uX+cDSGVDm/q5FY+HrefL0SyRY0dWBWLCA9TdwQ8PF2CGvxvuNEvVXbPOXtry\n",
              "k/r5UUEtjgpqEf7UMMwa665VV6pjp/j0qh8AqI562R/9FjHfCHChvAFp7z0Pf3cnXZumx8zymwOG\n",
              "ivkmH+EJ6ZDK9R9ROp9MMsaQI7yv8TeguecrETVrTF/fLEH1vTb861QRCmoaIZUr8O+rtTqX9WhP\n",
              "Qa5Q4p2DefgktRCMqbo8SiXDvE1Z8Pn7CeRWanefzhXX44NDV7X2nLrsyxZiWvxZNElUe9Siuias\n",
              "+CZf5xWvzlewki5XIeabfMgfXNx4dOdz/MH6dT46/FzT8xP+ghox9l18eL47/pPT6ucpuTWISRbg\n",
              "s5M3cFss6dH80m6I8LfD2hcB9mR3/aG5QskQ+tlZXChvAACEJ6T3tPldstgxB1qlcnx4uAB+Q51w\n",
              "VKD6565IEmBByHBM93cD394WAFBzv01jOnGbDC4OtkjJrcGZ6yL16xPXpGHTayEae9wXvszAa6Gj\n",
              "8FqoF6x4PMzdlKUuS0wv19s+JWMQt8kgqGnEDH83fJ1xE8cfdI2O5NWgSSLHKxNH4ucHV50Wbr2A\n",
              "AdZWKF4zW/3mfXNXDgDgUG4Nlsx4AivnjtVYhkSmgL2t6nxw5bFCAED0nitIfvsZ/G7LBbTLFBBU\n",
              "NyL9gzCt6X7x0RHVm/DMdRE2vBqi1Q3KEd4DYwypnXYQp67V6V33XwOLC45CyXC/rQN/SRYg85Er\n",
              "X98X1uH7wjo8G+CGfUumAACW7dUcuSVo9Wn4DXVEs0RzL36vtQOLt2tfEEi6XI2ky9X4w1RvrTJ9\n",
              "Gttk+N3Wn9Tdm86aHiz7UG6NxusdCiWybzYgwJ2PoXw7jbIdWRX4e8STsLHiYVvGTcSfKlKXLZww\n",
              "Uv38UoXqjd7+IByVDW1IL7mDqJ0PL/E3tGpfTWztUCB67xUMcrDVeP1+mwyrUgvh/kh7fu0sKjii\n",
              "JgmmrD3bbb3M0rsormvGmhPXcV3HB3nlOt7M3enc3egpXaHpzi+fnAv/9aJWWUDsKTw93BmFtZrr\n",
              "dDhPM4DHBJrdx86h6U5jm/bJ897sSgyweSx69Wr3Wjvg6jiA8/QWtTU+SOn5B5X/tSFD64hkbG/t\n",
              "zumzeR0v0H3u9GhodIlJFvRZO35hjpfXe2Pzj2W9mt6igpNRov31HnPyY1F9n83rnYO6r16SvqHr\n",
              "Kp4hLCo4hJgLCg4hHFBwCOGAgkMIBxQcQjig4BDCAQWHEA4oOIRwQMEhhAMKDiEcUHAI4cCg4Egk\n",
              "EixYsACjR49GUFAQZs2ahbIy7S/LCYVCWFtbq0f7DA4ORnm5/vtXCLEkBt9WsGzZMkRERIDH42Hz\n",
              "5s1YunQpzp8/r1WPz+dDIBD0QRMJMT8GHXHs7e0xZ84c9R2KU6dOhVAoNEa7CDFrvbqRbePGjXjp\n",
              "pZd0lrW2tmLy5MlQKBRYsGABYmNjdQ77JJVKIZVqjpvVXyN5EsIV54sDa9euRVlZGeLj47XKPD09\n",
              "cevWLeTk5CAtLQ2ZmZlYv369zvmYciRPQrjiFJwvvvgCR44cwalTp+Dg4KBVbmdnB3d31RA+rq6u\n",
              "eOutt3SO+AkYNpLnb5/UHhaIEFMwODgJCQlISkrCmTNnMGjQIJ116uvr1b+HI5VKceTIEZ0jfgKG\n",
              "jeS59NknDG0uITp9Mm9s95X0MCg4NTU1eP/999HY2IiwsDAEBwdjyhTVaDIff/wxEhMTAQBZWVkI\n",
              "CQlBUFAQJkyYAA8PD8TGxvaqoQAQ6uPa63kQAgBR03x6Nb1BFwdGjhzZ5c8nrF69Wv08MjISkZGR\n",
              "vWqYLjbW9Hkt0W2U60BUPzJ88R+memP2OA8s3n4Jgx1scf/BCD6H/2dal6O+9pRFDQ8FqIZNyhHe\n",
              "wyuJ2XjjGW98l39LPUba5y8HwtNlIPZdFOKHQhHWvxKEp0c449PU67gtbseffuMPN/4ACO+24d8F\n",
              "tcivagQAbPn9BPz5YB7+OM0H784MwOc/FMHZ3hbDBw1E2g2Rxmg584KGY7S7EzwHDVSPxD8/aDg2\n",
              "LApGs0SOVanXcFRQi+RlU7Fo20XYWvNgxeNBKldi9tMe8BrigD/9xg/niuuxLaMCA6x5eMLNEUcF\n",
              "tZgXNBzPjx6KKU+4IvboNQCqAUoiJ4yAO98eienl+OM0H4wcPBDrT5dgiNMA1IklkCsZHAZYo61D\n",
              "dTUyJjwAwaMGYYa/G6RyJabGn0WzRA5rKx68XR0Q+oQr5gUNx5dnSnCl8j6eHz1UPUbzl4uCcK9V\n",
              "hgHWPDCofuHslYkjYWtjhbem+2CIox1kCiU2nC2FFQ8avxDwt9lP4tkANwQMc8Kx/Fpk32zAM35D\n",
              "cOBiJeqbpXh6uDP+MecpuAy0hb2tNRztbNAhV+LzH4oQNc1H9b/LFiLEazAaWqWY6OWKU9duI+xJ\n",
              "dwxztkeJqBneQxywIa0UW8+rPlC/8s9wDHYYoB7cvU4sgUSmgFzJ1MPc/jLU1pnrItSJ2zHRe3Cv\n",
              "34c8Zuxf4OHgvffeQ0JCgqmbYTH0jZttbDKFEjPXp+Pt532xeIphgzb2drm2JuyBmGVwIiMj4ePj\n",
              "o7NMoVDg8uXLCA0NNenPgVgK2l6G8/b2xooVK/TWMcvg6NPU1AQXFxeIxWI4Ozubujlmj7aXcdDZ\n",
              "NiEcUHAI4YCCQwgHFhccOzs7rFq1CnZ29LMTPUHbyzgs7uIAIebA4o44hJgDCg4hHFBwCOHAooJT\n",
              "WlqKadOmYfTo0Zg8eTIKCwtN3SSje/fdd+Hj4wMej6cxhoO+bWGMMvIIZkHCwsLYrl27GGOMHTp0\n",
              "iE2aNMm0DeoH6enprLq6mnl7e7P8/Hz16/q2hTHKiCaLCY5IJGJ8Pp/JZDLGGGNKpZINGzaMlZaW\n",
              "mrhl/aNzcPRtC2OUEW0W01Wrrq6Gp6cnbGxUd0LweDx4eXmhqqqqmykfP/q2hTHKiDaLCQ4h5sRi\n",
              "bmQbNWoUbt++DblcDhsbGzDGUFVVBS8vL1M3rd/p2xbOzs59Xka0WcwRx93dHRMmTMD+/fsBAIcP\n",
              "H8bIkSPh7+9v4pb1P33bwhhlRAeTnmEZqKioiE2dOpUFBASwiRMnsoKCAlM3yeiWLVvGRowYwayt\n",
              "rZm7uzvz8/NjjOnfFsYoI5rou2qEcGAxXTVCzAkFhxAOKDiEcEDBIYQDCg4hHFBwCOGAgkMIBxQc\n",
              "Qjig4BDCAQWHEA4oOIRw8B9Fk9MkZdjJYgAAAABJRU5ErkJggg==\n",
              "\">\n",
              "        \n",
              "      </div>\n",
              "      <script></script>\n",
              "      <script type=\"text/javascript\">\n",
              "        (() => {\n",
              "          const chartElement = document.getElementById(\"chart-aa6a7ee3-1cff-4c1b-973e-87a1b696cdde\");\n",
              "          async function getCodeForChartHandler(event) {\n",
              "            const chartCodeResponse =  await google.colab.kernel.invokeFunction(\n",
              "                'getCodeForChart', [\"chart-aa6a7ee3-1cff-4c1b-973e-87a1b696cdde\"], {});\n",
              "            const responseJson = chartCodeResponse.data['application/json'];\n",
              "            await google.colab.notebook.addCell(responseJson.code, 'code');\n",
              "          }\n",
              "          chartElement.onclick = getCodeForChartHandler;\n",
              "        })();\n",
              "      </script>\n",
              "      <style>\n",
              "        .colab-quickchart-chart-with-code  {\n",
              "            display: block;\n",
              "            float: left;\n",
              "            border: 1px solid transparent;\n",
              "        }\n",
              "\n",
              "        .colab-quickchart-chart-with-code:hover {\n",
              "            cursor: pointer;\n",
              "            border: 1px solid #aaa;\n",
              "        }\n",
              "      </style>"
            ],
            "text/plain": [
              "import numpy as np\n",
              "from google.colab import autoviz\n",
              "df_7445405500556573315 = autoviz.get_registered_df('df_7445405500556573315')\n",
              "\n",
              "def value_plot(df, y, sort_ascending=False, figsize=(2, 1)):\n",
              "  from matplotlib import pyplot as plt\n",
              "  if sort_ascending:\n",
              "    df = df.sort_values(y).reset_index(drop=True)\n",
              "  _, ax = plt.subplots(figsize=figsize)\n",
              "  df[y].plot(kind='line')\n",
              "  plt.title(y)\n",
              "  ax.spines[['top', 'right',]].set_visible(False)\n",
              "  plt.tight_layout()\n",
              "  return autoviz.MplChart.from_current_mpl_state()\n",
              "\n",
              "chart = value_plot(df_7445405500556573315, *['fSize'], **{})\n",
              "chart"
            ]
          },
          "metadata": {},
          "output_type": "display_data"
        },
        {
          "data": {
            "text/html": [
              "<h4 class=\"colab-quickchart-section-title\">Distributions</h4>\n",
              "<style>\n",
              "  .colab-quickchart-section-title {\n",
              "      clear: both;\n",
              "  }\n",
              "</style>"
            ],
            "text/plain": [
              "<google.colab._quickchart_helpers.SectionTitle at 0x7e4752b88b50>"
            ]
          },
          "metadata": {},
          "output_type": "display_data"
        },
        {
          "data": {
            "text/html": [
              "      <div class=\"colab-quickchart-chart-with-code\" id=\"chart-e6198539-e767-4f2a-9166-c3bceaa761bd\">\n",
              "        <img src=\"data:image/png;base64,iVBORw0KGgoAAAANSUhEUgAAAMMAAABgCAYAAACg98bqAAAAOXRFWHRTb2Z0d2FyZQBNYXRwbG90\n",
              "bGliIHZlcnNpb24zLjcuMSwgaHR0cHM6Ly9tYXRwbG90bGliLm9yZy/bCgiHAAAACXBIWXMAAA9h\n",
              "AAAPYQGoP6dpAAAKxklEQVR4nO3dXUxT5x8H8G9dpWopBYYKKm3DkJIMgo4X3xaNYSZbZiKTGBOd\n",
              "Ur2YMRpfiIl/jYzBBRhnCMqWbdHMadyMEfUG54USE/Flo2aaLlMZGBBULIqKTsub/f0vPBwp1toD\n",
              "hdPT8/sk56Lnedr+2vTb55zT0+doiIjAGMMouQtgLFhwGBgTcBgYE3AYGBNwGBgTcBgYE3AYGBNw\n",
              "GBgTcBgYE3AYgkRPTw+WL1+O6OhohIeHo6OjQ+6S3tDU1ASNRoOGhga5SxkWHIYgUVlZiXPnzqGp\n",
              "qQn//fcf0tLSsH//ftnq+eabb/Dxxx/L9vxy4DAEiVu3biEhIQERERFyl6JaHIYgYLPZUFxcjMuX\n",
              "LyM8PByfffaZz/6dnZ3Yvn07PvjgA0RFRWHu3Lm4evWq2N73rV5UVIS4uDhER0djzZo16O3tFfvU\n",
              "1tYiMzMTBoMBGRkZKCsrg0ajAQD8+uuvKCkpEesJDw9HTU2NeN+LFy8iLS0NBoMBM2fOxPXr1wP8\n",
              "jsiEWFAoLCykOXPmiLfNZjPt27fPa9+8vDzKzs6mlpYW6unpoYqKCho/fjw9fvxYfCytVkvffvst\n",
              "dXV1UV1dHUVFRdHPP/9MRESPHz+m6OhoKioqoq6uLrpx4wZNnTqV+n8cBtZDRNTY2EgAKDs7m+7d\n",
              "u0cul4tyc3Np7ty5AX435MEjg8K0t7fj4MGD+P777zFlyhRotVqsX78eRqMRVVVVYr/4+Hhs2bIF\n",
              "YWFhSEpKQnZ2NmprawEAVVVVGD16NHbs2IGwsDAkJydjw4YNftfw9ddfIy4uDmPGjMGqVatgt9sD\n",
              "/jrloJW7ACZN35GcGTNmeKzv7u7GnTt3xNuTJk3yaNfr9Xj27BkA4O7du4iPj8eoUa+/Cy0Wi981\n",
              "9H9svV4Pl8uF3t5eaLXK/jgpu3oVio2NBQA4HA6YTKZBPcbkyZPR0tICt9stBuL27dseffoHRS3U\n",
              "94oVpLe3F52dnR6LyWRCTk4O1q1bJ36Anz17htOnT6O1tdWvx124cCG6u7tRWlqK7u5u/Pvvv9i7\n",
              "d69Hn9jYWDQ3N6OzszPgrytYcRiC2Nq1azF27FiP5datW/jtt9+Qnp6OBQsWwGAwwGq1Yt++fSA/\n",
              "/8EbGRmJ33//HSdPnkR0dDSWLVuG1atXQ6fTiX2WLl0Kq9WKSZMmITIyEhcuXBiulxk0NOTvO8hC\n",
              "Wnl5OX744QfU1dXJXYpseGRQqerqarS0tICIcOXKFezevRvLly+XuyxZ8Q60St28eRMrVqzAkydP\n",
              "MGHCBHz55ZfYunWr3GXJijeTGBPwZhJjAg4DYwIOA2MCDgNjAlWFYc+ePXKXwIKYqsIw8Pwbxvrj\n",
              "3xl8sPzv1BvrmnZ+LkMlbCSoamRgzBcOA2MCyWFwOBx+rWNMaSSHwWaz+bWOMaXxOwxtbW1wOBxw\n",
              "uVz4+++/4XA44HA4UFNTg+fPn3u9j8VigdVqxbRp0zBt2jQcPXoUAFBfX4/Zs2cjKSkJmZmZ+Oef\n",
              "f8T7DLaNsSHzd+aA8vJyslgsFBYWRhaLRVzS0tJo//79Xu9jNpvp6tWrb6yfP38+HThwgIiIjh07\n",
              "RhkZGUNu88fmzZsl9TdvrXpjYaFL8lQxxcXFfvf1Fgan00kGg4F6enqIiMjtdtPEiROpvr5+0G3+\n",
              "4jAwXyT/zlBQUAC324379+97TEr1tj+nr1y5EkSErKws7Ny5Ey0tLYiLixNnUtBoNDCZTGhubobR\n",
              "aBxUW2Ji4hvP29XVha6uLo91L1++lPpymYpI3oE+ePAgIiMjkZqaivT0dKSnpyMjI8Nr3/Pnz8Ph\n",
              "cOCvv/5CTEwM8vLyhlywv0pLS2E0Gj2WvnmDGPNGchiKi4tht9vR3t6OBw8e4MGDB2hra/Pat2+0\n",
              "GD16NDZt2oSamhrEx8ejtbVVHFWICM3NzTCZTINu82bbtm3o6OjwWLKysqS+XKYiksMQExMDq9X6\n",
              "zn7Pnz/HkydPxNtHjhzB9OnTMWHCBHz00Uc4fPgwAOD48eOYMmUKEhMTB93mjU6nQ0REhMfy3nvv\n",
              "SX25TEUk7zPk5OSgvLwcy5Ytw5gxY8T1A2ePdjqdyM3NxcuXL0FESEhIwKFDhwAAP/30E2w2G0pK\n",
              "ShAREYEDBw6I9xtsG2NDJfk/0P1nWtNoNCAiaDQaReyc5ufno6yszO/+fKKeukgeGdxu93DUwZjs\n",
              "+EQ9xgSSR4ZRo0aJF7XoTwmbSYz5IjkMfdOaA4DL5cKhQ4c4CCwkSN5M0uv14hITE4P8/HxUVlYO\n",
              "R22Mjagh7zPcvHkTDx8+DEQtjMlK8mZSVFSUuM/Q92twRUVFYKsKYt4OtwJ8yDUUSA7DtWvXXt9Z\n",
              "q0VsbKzif9l92wecqYvkMJjNZrx48UIMRVRUFMaNGxfouhgbcZLDcOnSJeTm5orXFnM6nTh+/Dhm\n",
              "zZoV8OIYG0mSw9B39GjOnDkAXoVj8+bN+OOPPwJeHGMjSfLRJJfLJQYBAGbPnq2qi+Cx0CV5ZAgP\n",
              "D8fZs2fxySefAHh1OSS9Xh/wwpSGjzIpn+Qw7N27F4sXLxaPILndbpw4cSLghTE20iSH4d69e7hy\n",
              "5QqcTicAYOLEifx3Sh94xFAOyfsMBQUFGD9+PFJSUpCSkoKYmBgUFBQMR22Mjaghz8KtlD/2BBv+\n",
              "41DwkTwyGAwGXLp0Sbx98eJFGAyGgBbFmBwkjwy7du3CF198geTkZACvpnw8efJkwAt7m/r6euTl\n",
              "5eHhw4cwGo345Zdf8OGHH47Y87PQJTkMs2bNwo0bN3D58mUAr35niIyMDHRdb7VmzRp89dVXsNls\n",
              "qKyshM1mg91uH7HnH068sy0vRV0Uva2tDYmJiXj06BG0Wi2ICHFxcbhw4cJbp4zp720TAij1RD0O\n",
              "SWAp6jJWvqamHBgGNUwvGYgQc6BeU1QYpCgtLUVRUZHHuuTkZOTn5wN4FYza2lpkZWVhscJPQR+K\n",
              "/Pxqj9v93xeln5rfn9lsxsaNG332CdnNJG8jg06ng06nAwA8ffoURqMRHR0db0yApmZqfl8UNVWM\n",
              "lCkmvU0v2RcExrxR1MgAAHV1dbDZbGhvbxenmExNTZX8OGr+BvRFze+L4vYZrFareFiXsUBS1GZS\n",
              "IOl0OhQWFvKm0wBqfl8Ut5nE2HBR7cjA2EAcBsYEHAbGBKoNg1ovsN7Z2YmcnBwkJSUhLS0NCxYs\n",
              "QENDA4BXP2p++umnmDp1KlJSUnD+/Hnxfr7aQsZIX2s3WAz1AutK5XK56NSpU+R2u4mIqKKigubN\n",
              "m0dERKtWraLCwkIiIqqtraXJkydTd3f3O9tChSrDEIgLrIcKu91OZrOZiIj0ej21traKbZmZmXTm\n",
              "zJl3toUKVW4m+Tr7VW327NmDRYsWob29HT09PeJMiQBgsVjQ3Nzssy2UKO4XaBY4JSUlaGhoQHV1\n",
              "NVwul9zlyE6VI4PUC6yHot27d+PEiRM4ffo0xo0bh/fffx9arRb3798X+zQ1NcFkMvlsCyWqDIPU\n",
              "C6yHmrKyMhw5cgRnzpzx+MvukiVL8OOPPwIA7HY77t69i3nz5r2zLVSo9nSMQJ39qjR37txBfHw8\n",
              "EhISxFlNdDod/vzzTzidTqxYsQKNjY0ICwvDd999h/nz5wOAz7ZQodowMDaQKjeTGPOGw8CYgMPA\n",
              "mIDDwJiAw8CYgMPAmIDDwJiAw8CYgMPAmIDDwJiAw8CY4P+FzjKFQg4b6gAAAABJRU5ErkJggg==\n",
              "\">\n",
              "        \n",
              "      </div>\n",
              "      <script></script>\n",
              "      <script type=\"text/javascript\">\n",
              "        (() => {\n",
              "          const chartElement = document.getElementById(\"chart-e6198539-e767-4f2a-9166-c3bceaa761bd\");\n",
              "          async function getCodeForChartHandler(event) {\n",
              "            const chartCodeResponse =  await google.colab.kernel.invokeFunction(\n",
              "                'getCodeForChart', [\"chart-e6198539-e767-4f2a-9166-c3bceaa761bd\"], {});\n",
              "            const responseJson = chartCodeResponse.data['application/json'];\n",
              "            await google.colab.notebook.addCell(responseJson.code, 'code');\n",
              "          }\n",
              "          chartElement.onclick = getCodeForChartHandler;\n",
              "        })();\n",
              "      </script>\n",
              "      <style>\n",
              "        .colab-quickchart-chart-with-code  {\n",
              "            display: block;\n",
              "            float: left;\n",
              "            border: 1px solid transparent;\n",
              "        }\n",
              "\n",
              "        .colab-quickchart-chart-with-code:hover {\n",
              "            cursor: pointer;\n",
              "            border: 1px solid #aaa;\n",
              "        }\n",
              "      </style>"
            ],
            "text/plain": [
              "import numpy as np\n",
              "from google.colab import autoviz\n",
              "df_7445405500556573315 = autoviz.get_registered_df('df_7445405500556573315')\n",
              "\n",
              "def histogram(df, colname, num_bins=20, figsize=(2, 1)):\n",
              "  from matplotlib import pyplot as plt\n",
              "  _, ax = plt.subplots(figsize=figsize)\n",
              "  plt.hist(df[colname], bins=num_bins, histtype='stepfilled')\n",
              "  plt.ylabel('count')\n",
              "  plt.title(colname)\n",
              "  ax.spines[['top', 'right',]].set_visible(False)\n",
              "  plt.tight_layout()\n",
              "  return autoviz.MplChart.from_current_mpl_state()\n",
              "\n",
              "chart = histogram(df_7445405500556573315, *['fLength'], **{})\n",
              "chart"
            ]
          },
          "metadata": {},
          "output_type": "display_data"
        },
        {
          "data": {
            "text/html": [
              "      <div class=\"colab-quickchart-chart-with-code\" id=\"chart-d11594e1-4fdd-425f-a5ec-dc96ce024445\">\n",
              "        <img src=\"data:image/png;base64,iVBORw0KGgoAAAANSUhEUgAAAMQAAABgCAYAAABCK92TAAAAOXRFWHRTb2Z0d2FyZQBNYXRwbG90\n",
              "bGliIHZlcnNpb24zLjcuMSwgaHR0cHM6Ly9tYXRwbG90bGliLm9yZy/bCgiHAAAACXBIWXMAAA9h\n",
              "AAAPYQGoP6dpAAAKmklEQVR4nO3de0hT7x8H8PfW/CrNzayV2s0aWlGzIi0sowtpZEmaFUEXNDAr\n",
              "CKwFIYREGforxDIpgqJ1MyO0Ivj1R82i7L4Ku1AuNdbdhkZeSk3b8/vDb+d3zJkeO9vZ3OcFg3bO\n",
              "c7bPGb19nvPsnDMZY4yBEAIAkEtdACGuhAJBCA8FghAeCgQhPBQIQngoEITwUCAI4aFAEMJDgSCE\n",
              "hwLhZlpbW7Fq1SoMHDgQvr6+qKur+2P7goICjB071knVuT8KhJspKirC9evXYbFY0NjYCIvFgri4\n",
              "OAwZMgQqlQrBwcFITEzEjx8/AACrVq2C2WyWuGr3QYFwM1VVVdBqtVCr1fj27Ruio6MRERGB169f\n",
              "o76+Hrdu3UJMTAzoFLVeYsRtJCUlMS8vLyaXy5lSqWQLFixgAFhtbW2X2xgMBjZs2DDGGGM1NTVM\n",
              "qVR2eMjlcpaUlMS1P3HiBJs4cSJTq9Vs/PjxrLCw0NG75VIoEG5mx44dLCoqijHGWENDAwsKCmLR\n",
              "0dGsoKCAlZeXd2rPD8TvSkpKmEqlYkajkWs7YsQIZjKZ2M+fP1lpaSlTqVSstLTUcTvkYmjI5MZ8\n",
              "fX1x//59hIWFYc+ePdDpdAgMDER2dna3Q6bHjx8jMTERR48exbx58wAAubm52L59OyIiIiCXyzFz\n",
              "5kysWLECx48fd8LeuAipE0mE4fcQv2tsbGTHjh1jCoWCGQwGxpj9HqKyspIFBASw/Pz8Dst9fHyY\n",
              "Uqlkfn5+3EOpVLLY2FiH7Isroh6iD1EqlVi7di0mTpyIx48f221TXV2N+fPnY926ddi0aVOHdYGB\n",
              "gTh06BC+fv3KPRobG3H58mVnlO8SKBBurLy8HLt374bZbEZbWxtaW1tx7tw5PH/+HLNmzerUvqGh\n",
              "AbGxsZg3bx4yMzM7rd+8eTMyMzNhMplgs9nQ0tICk8mER48eOWN3XIJC6gJI76lUKpSXlyM2NhZW\n",
              "qxVeXl7QarU4ePAgli1b1qn9o0ePUFZWhlevXuHMmTPc8tWrV+Pw4cNIS0uDRqPBhg0bUFVVBYVC\n",
              "AZ1Oh127djlztyQlY4wmrAn5hYZMhPBQIAjhoUAQwkOBIISHAkEIDwWCEB4KBCE8HhWIvLw8qUsg\n",
              "Ls6jAvHmzRupSyAujk7dEMmo9P/aXW75zyInV0L+BgXCwSgo7sWjhkyEdEdwIJ4+fdqjZc3NzUhI\n",
              "SMCYMWMwadIkxMTEoLKyEgAwZ84cjB49GpMnT8bkyZOxb98+bjur1YoFCxYgNDQUOp0ON2/e7NE6\n",
              "QsQgOBDJyck9WgYAqampMJvNePLkCeLj45GSksKt27dvH8rKylBWVoYtW7Zwy9PT0xEZGYmKigoY\n",
              "DAasXLkSra2t3a4jRAw9PoawWq2orq5GU1MTnj17xl2zW1dXh2/fvnVq7+Pjg4ULF3LPIyMjkZOT\n",
              "0+37nDt3jutJpk6diqFDh+LGjRuIjo7+4zpCxNDjQBQWFmL//v34+PEjFi9ezC338/PDtm3but0+\n",
              "Ly8P8fHx3PP09HRkZGRg/PjxyM7OhlarRW1tLVpbWxEYGMi1GzVqFN6+ffvHdfa0tLSgpaWlw7Kf\n",
              "P3/2dHeJh+pxINLS0pCWlobMzExkZGQIepOsrCxUVlaipKQEAHDq1CmMGDECjDEcPHgQcXFxePHi\n",
              "hbDKu5GdnY2dO3d2WBYZGSnKa3c1c0TcX6+umLPZbKiurkZbWxu3bOTIkXbb5uTk4OzZszAajRgw\n",
              "YIDdNj4+Pvjw4QMGDRoEpVKJqqoqrieYNm0asrKyEB0d/cd1v7PXQ2RkZIjybbUjA0HTsdISfFB9\n",
              "4sQJDBgwAGFhYQgPD0d4eDgiIiLsts3NzUVhYSGuXr3KhaGtrQ2fP3/m2hQXFyMgIACDBg0CACxf\n",
              "vhyHDx8GAJhMJnz48AGzZ8/udt3vvL29oVarOzz69esndHeJhxH8xdyuXbtgMpm6vaP0+/fvsXXr\n",
              "Vmi1WsydOxdA+3/Sa9euYdGiRWhpaYFcLodGo8GlS5e47fbs2YM1a9YgNDQU//zzD06fPg0vL69u\n",
              "1xEiBsGB0Gg0Pbq9+vDhw7u8e9zDhw+73C4gIABXrlwRvI4QMQgeMiUkJGD//v2wWq2or6/nHoT0\n",
              "BYJ7iO3btwMA9Ho9ZDIZGGOQyWQ0pUn6BMGBsNlsjqiDEJdAZ7u6GHtTujQV6zyCAyGXyyGTyTot\n",
              "pyET6QsEB6KhoYH7d1NTE06ePElhIH2G4FkmpVLJPTQaDfR6PYqKihxRGyFO99fHEOXl5aipqRGj\n",
              "FpfjKucs0VV3ziM4EP7+/twxxK9zmfLz88WtihCJCA5EWVnZ/zdWKBAYGEjnCJE+Q3AggoOD8f37\n",
              "dy4Y/v7+6N+/v9h1ESIJwYG4c+cOli5dyp2C/fnzZxQXF2P69OmiF0eIswkOxK9ZpaioKADtAdmy\n",
              "ZQvu3bsnenHkz+hgW3yCp12bmpq4MADAjBkz0NzcLGpRhEhFcCB8fX1hNBq55yUlJVAqlaIWRYhU\n",
              "BA+ZDhw4gMTERG5myWaz4fz586IXRnqPhlK9JzgQHz9+xMOHD7nLQAMCAvDgwQPRCyNECoKHTBkZ\n",
              "GRg8eDB0Oh10Oh00Go3gu3AQ4qr++t6udHEQ6UsED5lUKhXu3LmDGTNmAABu374NlUolemFEfHSt\n",
              "RfcEB2Lv3r1YsmQJxo0bBwCoqKjAhQsXRC+sKxUVFUhKSkJNTQ38/Pxw/PhxTJgw4a9e01VO4iPS\n",
              "ExyI6dOn4+XLl7h79y6A9u8huroBmSOsX78eqampSE5ORlFREZKTk2EymZz2/n0NzUh11Ks790nF\n",
              "arUiJCQEX758gUKhAGMMQUFBuHXrFkJCQrrdXq/XIzc3t9Ny6iF6rq8Hxa2uqX737h2CgoKgULSX\n",
              "LZPJMHLkSLx9+7ZTIOhmx44h5I+HO4bHrQIhhL2bHY8bNw56vb5T20S0h+XBgweYNm0anc4OcT4P\n",
              "vb5E5Kp6Lzg4GGlpad2267NDJns9hLe3N7y9ve2+dn19Pfz8/FBXVwe1Wu2wfXAXnvp5uNVvzA0Z\n",
              "MgRTpkzB6dOnAbTfKHn48OF2jx/s3ey4qzAQ8otb9RAAYDabkZycjNraWqjVahgMBoSFhf3163rq\n",
              "X8SueOrn4XbHEGPHjuWmfAkRm1sNmRzJ29sbO3bsoGHVvzz183C7IRMhjkQ9BCE8FAhCeCgQhPB4\n",
              "fCCam5uRkJCAMWPGYNKkSYiJieF+HN7TGQwGyGQyXLx4UepSnMbjAwEAqampMJvNePLkCeLj45GS\n",
              "kiJ1SZKzWCw4cuSIaL/t7S48PhA+Pj5YuHAhd7/ayMhIWCwWaYuSmM1mQ0pKCvLz8z1u2tXjA/G7\n",
              "vLw8xMfHS12GpHJzcxEVFYXw8HCpS3E6t/um2pGysrJQWVmJkhLXOUvT2Z4/f47i4mLcvHlT6lIk\n",
              "QYH4V05ODs6fPw+j0ejRN28uLS2FxWJBaGgoAKC6uhqpqan49OkTNm7cKHF1jkffVKN9iFBQUACj\n",
              "0Qh/f3+py3Epc+bMwebNm5GQkCB1KU7h8T3E+/fvsXXrVmi1WsydOxdA+3k89+/fl7gyIgXqIQjh\n",
              "oVkmQngoEITwUCAI4aFAEMJDgSCEhwJBCA8FghAeCgQhPBQIQngoEITwUCAI4fkfd6U/ON5cE44A\n",
              "AAAASUVORK5CYII=\n",
              "\">\n",
              "        \n",
              "      </div>\n",
              "      <script></script>\n",
              "      <script type=\"text/javascript\">\n",
              "        (() => {\n",
              "          const chartElement = document.getElementById(\"chart-d11594e1-4fdd-425f-a5ec-dc96ce024445\");\n",
              "          async function getCodeForChartHandler(event) {\n",
              "            const chartCodeResponse =  await google.colab.kernel.invokeFunction(\n",
              "                'getCodeForChart', [\"chart-d11594e1-4fdd-425f-a5ec-dc96ce024445\"], {});\n",
              "            const responseJson = chartCodeResponse.data['application/json'];\n",
              "            await google.colab.notebook.addCell(responseJson.code, 'code');\n",
              "          }\n",
              "          chartElement.onclick = getCodeForChartHandler;\n",
              "        })();\n",
              "      </script>\n",
              "      <style>\n",
              "        .colab-quickchart-chart-with-code  {\n",
              "            display: block;\n",
              "            float: left;\n",
              "            border: 1px solid transparent;\n",
              "        }\n",
              "\n",
              "        .colab-quickchart-chart-with-code:hover {\n",
              "            cursor: pointer;\n",
              "            border: 1px solid #aaa;\n",
              "        }\n",
              "      </style>"
            ],
            "text/plain": [
              "import numpy as np\n",
              "from google.colab import autoviz\n",
              "df_7445405500556573315 = autoviz.get_registered_df('df_7445405500556573315')\n",
              "\n",
              "def histogram(df, colname, num_bins=20, figsize=(2, 1)):\n",
              "  from matplotlib import pyplot as plt\n",
              "  _, ax = plt.subplots(figsize=figsize)\n",
              "  plt.hist(df[colname], bins=num_bins, histtype='stepfilled')\n",
              "  plt.ylabel('count')\n",
              "  plt.title(colname)\n",
              "  ax.spines[['top', 'right',]].set_visible(False)\n",
              "  plt.tight_layout()\n",
              "  return autoviz.MplChart.from_current_mpl_state()\n",
              "\n",
              "chart = histogram(df_7445405500556573315, *['fSize'], **{})\n",
              "chart"
            ]
          },
          "metadata": {},
          "output_type": "display_data"
        },
        {
          "data": {
            "text/html": [
              "<h4 class=\"colab-quickchart-section-title\">2-d distributions</h4>\n",
              "<style>\n",
              "  .colab-quickchart-section-title {\n",
              "      clear: both;\n",
              "  }\n",
              "</style>"
            ],
            "text/plain": [
              "<google.colab._quickchart_helpers.SectionTitle at 0x7e4752c4fee0>"
            ]
          },
          "metadata": {},
          "output_type": "display_data"
        },
        {
          "data": {
            "text/html": [
              "      <div class=\"colab-quickchart-chart-with-code\" id=\"chart-2f11d843-8ee5-4113-8dec-7d5d58288401\">\n",
              "        <img src=\"data:image/png;base64,iVBORw0KGgoAAAANSUhEUgAAAPYAAAD2CAYAAADlEnrIAAAAOXRFWHRTb2Z0d2FyZQBNYXRwbG90\n",
              "bGliIHZlcnNpb24zLjcuMSwgaHR0cHM6Ly9tYXRwbG90bGliLm9yZy/bCgiHAAAACXBIWXMAAA9h\n",
              "AAAPYQGoP6dpAABgmUlEQVR4nO29eZxcdZnv/z5b1am99y2ddCedTkIISVhFIJdlFJeRwMVxxFn0\n",
              "oqC4jDri1R8qAuoV5w563UZRcRidURQVGEUYdRRCBNmEEAIkpDvd6SS9d3XXXmf//XGqKr2nO+lO\n",
              "d7rP+/VqSFedOvU9XfWc5/t9vs/zeQTHcRw8PDyWFOJCD8DDw2Pu8Qzbw2MJ4hm2h8cSxDNsD48l\n",
              "iGfYHh5LEM+wPTyWIJ5he3gsQTzD9vBYgniG7eGxBFkShv21r31toYfg4bGoWBKGffDgwYUegofH\n",
              "omJJGLaHh8dYPMP28FiCeIbt4bEE8Qzbw2MJ4hm2x6LHsGziGR3Dshd6KKcM8kIPwMNjOtr603zv\n",
              "sQMMpDWqI36u37aGtTXhhR7Wosfz2B6LFsOy+d5jB2gfSKMqEu39ab6384DnuWeA57E9Fi2pvMlA\n",
              "WqMmqhILKAAMpDRSeZOKkG+BR7e48Ty2x6IlospUR/z0J/Mkcgb9yTzVET8R1fNHx8IzbI9FiyKJ\n",
              "XL9tDS01YfKGRUtNmOu3rUGRvK/tsfBufR6LmrU1Yb5w1SZSeZOIKntGPUO8v5LHokeRRCpCvkmN\n",
              "2tsKmxzPY3ucsnhbYVPjeWyPRcmxPLG3FTY9nsf2WHTMxBN7W2HT43lsj0XFTD2xtxU2PZ5heywq\n",
              "xnvimqha8sSj8bbCpse7vXksKoqeuL0/DUB/Mk9LTXhST+xthU2N95fwWFTM1hNPtxW2nPE8tsei\n",
              "w/PEJ868/sWam5tZv349W7duZevWrfz0pz+d9Ljvf//7tLa20tLSwvXXX49hGPM5LI9pmMk208lI\n",
              "CPE88Ykx7x77pz/9KVu3bp3y+Y6ODm6++Waee+45amtrufLKK/nud7/LBz/4wfkemsc4jrXNNB8J\n",
              "IYZle555Hljwv+TPf/5ztm/fTl1dHYIgcMMNN3DPPfcs9LCWHcfaZpqPhJC2/jSfuX8PH//ZC3zm\n",
              "gT20FQJmHifOvBv2O9/5Ts444wze8573MDAwMOH5rq4umpqaSr83NzfT1dU15fk0TSOZTI75sSxr\n",
              "Xsa+nDjWNtNMt6HGM9XU3cscm1/m1bAfe+wxdu/ezXPPPUdVVRXvete7Tvict99+O7FYbMzP008/\n",
              "PQejXd4cK+FjJgkh4414Oo98vDcKj5kxr4a9atUqABRF4aMf/Sg7d+6c9JjRnTw6OztLr5uMm266\n",
              "iUQiMebnvPPOm/vBLzOOtc10rOfHG/HenuS0HtnLHJtf5u2vmMlkMAyDsrIyAO655x7OPPPMCce9\n",
              "9a1v5aKLLuLWW2+ltraWO++8k2uuuWbK8/r9fvx+/5jHJEma07EvV461zTTV86On1TVRlfb+NHfu\n",
              "aCeRM6bM5S7eKL638wADKe2EM8e8INxY5s2w+/r6eOtb34plWTiOw5o1a/jhD38IwHXXXcf27dvZ\n",
              "vn07a9as4bbbbuPCCy8E4JJLLuF973vffA3L4xgUt5lm8/xkBRkjOYOygMLh4RwweQbZXO1Xe+Wb\n",
              "ExEcx3EWehAnysc+9jG+8pWvLPQwli2GZfOZB/bQ3u967KIRX3thM3c/3slAav4MzrBsPnP/ntJs\n",
              "ofjeX7hq07L23N6CZhkwX9PU0eedbFp9MjLIvPLNyfEMe4kzX9PUvb1J7nz06Dr6+m1rJjXiY03t\n",
              "T5TZFI0sJ5bvXGWJUtxyyuomfck833m0fc73ivf2JHn/fzzHI3sH2N+fZs+RBN/beQDgpKeBeuWb\n",
              "k7O8b2tLjKJ37hzK0J/SqAj66E7kaK2JzNk01bBs7ny0nXhaI+CXyRtuclB/Mr9g01+vaGQinmEv\n",
              "EYpbTvv7U/SnNIYzOoZpo5s2L3cnCPolBgvr3xOZpqbyJiN5g0hAIW9YyJJIKmcSCygLOv2d7yn/\n",
              "qYZ3a1siFINIFSE/tuMQCSjYOKyri6DIIum8OSfT1IgqU1sIVKmKRFYzKQsqXLdttecpFxHeJ7FE\n",
              "KAaR4hkNURBI5QxEQUA3LC5aW8WX/3oLX7hq0wkHzopr2k0rYtTHVMqCPmqifv79yS6viGMR4Rn2\n",
              "EqFocK21EVaUBaiJqqwoC7C2NsL7Lm6hNqrOmUddWxPmlis2siIWoCrsozqizllgzmsAMDd4a+wl\n",
              "xOggkqqI5A173oJJecMmqZnUxQIzDswdaz/dyyCbOzyPvcQ4Wcojsy3iOFbttVfGObd4hr0EmamA\n",
              "wfhpb1Y3aR9Ik9WPXTo5m/3jqYw2q5ul95+LMk5vGn8Ubyp+ijN+ejtZpdX3dh6YkDs9ftq7eUWM\n",
              "u/7YQTJnEA0o3PyWjVy2oWba955s6m9Y9gTjnizts2Mww4337iJv2NREVa69sPmEMsi8afxYPMM+\n",
              "hZnsy1wR8o0xIttxODKcI57RqY2qwMQyy1d7k/x6dzeOA5GAQn8yz+cffJnz11QQ9E39FSneVPpT\n",
              "ee7+Y+eURjU+7bNzMENXPIOIQDSo0J/SuPvxTq69oJm7n+icdRnnTG9mxzrHUkpw8Qz7FGWqL/Mt\n",
              "V2wsGVE6b/JydwJFFrnjN/t438UtrK0JT/Cg6bwPzbQpDyqECoaczBkcimepjqiTftmLN5W+VJ6D\n",
              "Q1mCPommytCkRjW69ro/mSejmeBAMDA2c60mqh5XBtmJFoIsRW9/6t+alinxjM6RkRxVEf+YNWne\n",
              "sLl+2xpWV4XY358CAVprwnQMZkrBqPGBr1Rexy+LZDSLjG6SyhmoisR3Hzsw6Tp99E1FFkXiaY1E\n",
              "ziCiypOujQ3LpiLk45YrNvKZt2ykqSpIWciHadmIAqRyRilzbSbBv/FraVURiaoyvYncrNVYlmrQ\n",
              "zvPYpyBt/Wm+s8Mt7jBMm40NMbK6WVqTVoR8fPwN6+lN5AmpMuVBH4mcMcaLjS6zXFcX5a/OXlla\n",
              "Y1dH/KwoD9A2kKY+FhjjhQG64ln6Uq6HjfhlIgGFVM5kKK0xkjXGrI3He8NrL2imPhagu7A80E0b\n",
              "VRH5yzPqZ+Shx5/vDafX8Zs9vfQk8gxnDRRJnNU0fqmWfXqGfYpR9DAdgxlaa8K83JNkf3+Ki9ZW\n",
              "jfkyV4R8NJS7RikKQikYpSoi8YxOU2VwwrT3LVvqae/PkNJ0/r+f78GwbJI5g7pYgP5knucODnPP\n",
              "010MZ3W64rnS9DsWUFAkEct2SkYFlKrLOoYypeXC3U908vfnr+LpjjiyALGIn/Kgwn/v7eeSDTXH\n",
              "9NSjlx/7+1I83RGnIqhQGwtgWjb1MZVbrtg4bWxgNEu17POkjP7uu+/m3e9+N/fffz9XXXXVmOc6\n",
              "OztpaWnhjDPOKD32i1/8gpaWlpMxtFOO8R4m6JfJ5E0+/ob1peAYjF3XFoNRbzi9jtt++TL9qTyx\n",
              "gMINl7SwoS6KYdn8+eAwP3m6i8G0xqt9KQbTGjYwlNE5FM9RE/HxsXt3kc5bRAKymyeuW2R1k00r\n",
              "Ylx7QTPlBQ83nNX5zP176B7J0TaQnlBdFvDJNFUGaakOUxnykdLMGXnJ8deumzYHh7K0VIdK50/m\n",
              "TfKGTXCGznautdcWC/Nu2J2dnXzve9/j/PPPn/KYSCTCrl275nsoS4LxHqZYsTWZQYzfjrrtly+z\n",
              "pztBImuQyOk81zXM//fm03jk5X7+2D6IYdm0VIfpT2k4Aji2gwM4jkMyb6KZ7lq5GPBqqQ5x81s2\n",
              "sqoiyMGhLF/57atjgmkrK4IY1sTqsvqYSm3Bg/tkcUZe0rDcrbTKkI+OwQwA8YxGNKAwnNHxydJx\n",
              "e9ulWPY5r1dg2zbXXXcd3/jGNyYoi3ocH8fbjTJv2PSn8gylNfpTGmnN4lA8x40/3cULR4YxbQfT\n",
              "duhN5JEEwAFZdH8UScQnCoiCgGk5pVLN8qCPVRVBgEmDabGAwsb66ITqsqBPnnAN117QTCpvjgla\n",
              "FYNke3uTfOb+Pdx034ukNZPqiJ+8YdFaG+Hmt2xkbW3khEUWllqvsHn12F/5yle48MILOfvss6c9\n",
              "LpPJcO6552JZFldddRWf/vSnp5QU1jQNTdPGPLbcOoEUPUw8owPMKMgTUWUiqsxQWse0j+pX5gyb\n",
              "ZM4k7JcZzupkdBO/LOEYroE5OMQCCqbtEFAEAj6JVM6gIuznhktaUCR3zT6Q1qiK+FFlcUwwLau7\n",
              "1WUff8P6MYYz2kt2j2THyBUX1+iTbaf1J/Osrgpx6/aj59vWWrWkvO1cMG+GvWfPHn7xi1/w2GOP\n",
              "TXtcfX09R44coaamhng8ztvf/na+/OUv84lPfGLS42+//XZuu+22MY9NN81fqrT3p7nz0XZG8gbV\n",
              "YT/XnLeKzY2xaT33376mid++1IdhO0gCrge2HVKaSVNliGTOQBIFzlpTgSAIDKS0UmJL8eaRMyzK\n",
              "Ago3XOyuz8HdbhJweKYjjigKGKZNJCCPCaaNXv/D0YSQ7pEs/3DPLuJpnYgq05PI8y+P7MeyHA6P\n",
              "5KgI+YmnNYySkIPKUEZHkcSTpqt2KjJv8sPf/va3+dznPleagvf29hKNRrntttt4//vfP+Xr7rnn\n",
              "Hn784x/zq1/9atLnJ/PYN998M1/72tfmbvCLlKIxHBhI8ZGf7CKZMwj6ZTTDxi8LbF1Vzj9cupZN\n",
              "jWWTZlIZls07//UpnmyPU/zQRQH8skjIJ+GXJWpjKi3VYd6zbTU1EXVMlRgw4Zxt/Wm+82g7j77a\n",
              "TzJvEvJJiKLA2U3lfO7KTZNOb0cntxwYyBDP6KiySFozsXEQEfDJItGAwvqaMHv7UqTzFueuLmc4\n",
              "o7OyIsgXrz5jxpHv5ci8/WXe//73jzHgSy65hI9+9KMTouL9/f2Ul5ejKAqapnHfffdN2jGkyHLt\n",
              "BFI0hpe7E7zck8QqWGZasxAEcBz471f6eLxtkE+8cQMvHUlOmklVpvoI+yQyuoWN+7p1tREODWfJ\n",
              "m27edsdghu/v7ODjb1hPRJVLBjRVY71X+1MguNP0aEBhfV0Ew3LGeNXxr2kfSFMW9DGS0bAdSGkm\n",
              "lm1j2SCKgGnRk7AYSGmoikhYVUjkDAbTOpIocNuvXl4SGWLzxYLc8j772c/S0NDADTfcwB//+Ec+\n",
              "+9nPIkkSpmly2WWX8elPf3ohhrVoKRlQX5K2gXTJqIFC1Nr9t227hn77Q6+wtjpMdWGvt5hcksqb\n",
              "5EyLoF8mb9rYhaj3q30pVEVCkiDokwj6JP7YNkj3SI7qiJ/rtq1GMx1+8lQXQ1l9Ql56fVmAZN6t\n",
              "1MpoJr3JPBvqopNGp0dvWUX8MtGgj+GMDo57HaIAkgC65eA4YAOSKLCqIsDBoSzpvIHlOKQ1i2/+\n",
              "Yb/nuafgpP1FHn300dK/P/e5z5X+ffXVV3P11VefrGGckhSNQRLdafFUFO09Z9js60vRNpAmoipI\n",
              "olAKtAV9IkMZDXPUaXKGjWU7RFR36+il7iSW49A5mOGFwyP89yt9qLKIg8C62jBtffqYvPQ9RxJk\n",
              "NZOsbqKLInWFANhk6/3R23VW2Icqi1SF/WiGRd60yBs2umWD48YA/IrIutowzx8awTBtfLJIMmcQ\n",
              "z+j0JvN86r4X+dBlrZ7nHocXQjwFiKgy5UGFvT0JZhoQMW2HvGEzkNJ46UiCmx94kQ/f8zzPHxyh\n",
              "OKMWAEFwvwQBRcInCew6NEJWt5AF0CzX4LO6VcgpN9h1aIQjIzkODKTJGzbXXthMVrfIGxY1ET+r\n",
              "KgJEVYWmSncbbHxed3G7LuCTeOzVQQ7FcxiWzbsvWs3/WFeNqkioioRPFpEKW217e9JYhXJQw3LI\n",
              "aCZ5w0KVRbri2SWR2z3XeHOYU4CDQ1kODWdJ67P78o724H9qHyKqKiTzJn5ZJF9w2bIoEFAkyoMK\n",
              "5SEf5SE/z3fFSeRd9VHTdvDJIrppQ2Gv290HdyPaDWXBCVlkQxmdeEbn8HCOnzzdxVBGH7PWbyhT\n",
              "ORTPIuBQFnLXzvc8c4if3XA+X3jwFQ4OZVAVmVd7k8iyiAD4FT+aaZPXLfKmQ1CR2NJYhiAKSyK3\n",
              "e67xPPYix7BsvrOjnf29qVm9zh63Dk9rFkNZnYDiBriqQgqKKFAeVDi3uYLaWID6siC1UZXTV5Qh\n",
              "iyJ53UIWRRzH3R4r4pPdr81dOztQFZHaqMpIVielmfQn8/hlkf/78F4+9OPn+MPefnKGxat9Kb75\n",
              "h/1kdZOehNtcIBr0EfYrRAIKyZzBUFrn71/bzNqaCAGfxGWn1fL1d5zJttZqqsJ+wn4ZRRII+USa\n",
              "KgMIouD11Z4C76+xyIlndDqG0tiOTSEh7LixLJvhnLsvXRkNcH5LkJvedBrlIR+3/epl2vvT2I5D\n",
              "Km+wdVWMI3G3DNJyRCRFIKtbRPwyoiigKlJhem7y1+esLOWZN5SpaIZN20AazbBJawbPHxxGFAQ6\n",
              "BjJ86r4XuW7baqIFQQdwyzbLgj6++9gBhrMGlSEfH7x0bWlfvjLk53s7D9CXzFMWUHjz5np+/0r/\n",
              "ksrtnms8w17EtPWnueU/9/DcwZExHvh4EAQw3ZgUA8k8umlTE/GTypusKA9y/bY1fPm3+9h1aATb\n",
              "thFFgfKgj7W1YQZTOhUhhc6hLMMZg6BfKjUMuOO/9jGU1VEkAREYSuu0D6RZWRFEN00sB0z76KL+\n",
              "4FCGf3+yi5vevIHbH9pbKhNdWcg3L2633fvsITY3xoDJc7kvXV/jZZtNg2fYixTDsvn2I2082znM\n",
              "XKQQ2Y4bLAOwbEjnDZ7pHOaG//gz//RXmzljRYywTybilxjJ2vQl3KyzRM5At9wg3PsvbeHZzjip\n",
              "vElV2E86b9IxlKEq4ufZjjgA6+sjDGcNhtIjCAIIuFtqPlkk5JeoDLtCDOc0VfDrD19ETyKPKovc\n",
              "/J8vEYkqU9ZEj88u87LNpscz7EVCMXpsWjZywQMdHslh47gGUtjTnQ0CUB5y16+mTek8Dm7UPCgK\n",
              "HBnJ8eF7nuc1qys4MJDh8Ege3XSTVzTToXskT9AnYVom33qkjQvXVvGhy1ppLA9w030vUhN1s9ME\n",
              "0d2HPhzP4ZdFNNPCtkESBMoDMhndwi9LxDMarbWRkqdtqQ5jWPaYirW+RI6VFUFUZXLFU89THxvP\n",
              "sBcBbf1pvvybfTx7ME5aswj5JTY1RJElwHGOexruABnNcre1cJM/zMK5BAcyuvucZdm09aXpjGfI\n",
              "6TaCMPYcmmmhKhKWA219Kf79T53cduXpJWOsivjdZBLbIaubiKLAirIg1RE/XUNZ6stUhrMGNRE/\n",
              "zVWhCWvi0TXRnYMZ4lkDWcqPyS4zLJvdhxOTRtk9JjJvueInk4997GN85StfWehhzIqi51EVkVse\n",
              "eIk/7OsnlTcwSzXQJ3Z+ofAfSQBBEBAEMEynFHyTBDejS5FERAF8skQqb4DjYBS8u+OAJLqvD/gk\n",
              "YqqCbTvkTZttrVVs37qC37zUy0BKwy+L2I7D7sMJDMtmY32UrG6xuipUSk09VmeSrG7yqV+8SNdw\n",
              "tqTaUizp/P7ODna2DaBbNhvrY6UyzdkokS4nPI+9AIzW7YqqMl3xrDtNFgUcyzmhyHcRB1AlgTMa\n",
              "Y+w5ksJ2XOFAq5C2GfBJmJaDYdkFb+yUXgeuUftkAVWR0U0bWRDQTZu0ZlIe8tEVz/Kbl3q55YqN\n",
              "Y4pEdh9O8OOnDtKf1FhdFSr1DQPGqJqMnlIDpVrs8W2D+pN57ny0nVd6k4xkDSzb5oXDI2xpLDuu\n",
              "/evlMpX3DPskM16361A8W8rM0g17Toy6iINA3rAI+0TSmlMyXttxp+hh1d0XlkSBiF9BEiCRMwmr\n",
              "IpphE1EVLl5Xzf9YV83vX+nj8bYhyoIKp9VFkSShpIpaNKxS9ldhHW87DomcMaGJwOgbm18WsW2H\n",
              "jG5RG/XjLyiqgGvUDWUqvSl339sBEATyusXLPQn+YkPtrPavl6LM8FR4hn0SGO0lJlPFlCSRvGGR\n",
              "zM28nc1M0E2bqOqjZqXK0weGEIWjiSsOkM6bBH0iK8qDKKJIx6CBA6TyFmWqxMryIB97/ToCPplL\n",
              "1lfzsZ/uYtehBLsOj+DYDueuriiJI/an8u50ef8AumnTXBVix74kT7QPcUFLJX/zmqbS9lXxxlYV\n",
              "8fOn9iFyukU0ILO3B05riLK6KlRaR2umTcdAhnhWJ+STyRluNZtfErnmvFWAu9d/LA88F00FTiU8\n",
              "w55nJsjvTtLKpqFMxbQtcoZFNm9izJHbFgDVJ/KPr1vHB3/0POl4dszzIm50/HA8S37cbGEkb7Gv\n",
              "N8ltv3oJ04bKkA/dcgqBNXfvLJU3+MTPXyCe0ekecb3scEbHchx2Hx7Br0hYts0je/t5on2Ii9ZW\n",
              "cc15q0o3Np8skDMsLMct8cwaFm39ab509RnIksgd/7WPjqEMrbVhnukcJqOb1IT9hFWZzY1lhHwS\n",
              "n7l/zwQPPNl0e6nKDE+FZ9jzyGRe4u7HO/n716zirj92MFJIzohndF4+kirlb88Fkgh+WeLl7hQR\n",
              "v8z/fmMr//ve3eTMo+ZrAZbpMFU+m2baPHtwmPNWV/Jqf4r+pMZZTeWE/a44/zOdw1iWjSSJaKZd\n",
              "2icvns3SLPIiBH0yku3wal+KnzzdVRIkjBZaEIkCiOLRULxcqOMeyupURfwEFYlzmstp60/TXB2i\n",
              "sTzItRc2c/cfOyd44OLj4419qcoMT8XSvKpFwmReonMww107OxjO6aiKhGHZvNKTOpqdNUeEfCKC\n",
              "4HrEv7nrKbK6he2APGrL61hIoogkCAR9EvWxAP1Jjb5Enqyq8GznMHqhMNw2i/poE3Ec0AyLqrCP\n",
              "+rIAQxmdD166lnufPURfMk9tVCVdqNYSBdjcGCt5UL8s8kxH3A0q2g5nNx9VZZnsb9tXCLQdHs5N\n",
              "Ot2+9oJm7tzRzkjOmJNU1MUciPMMex4Z7yX6EjniWbf8MZkzC1ldVkFsf27fO5m3kbCxgUTWwK+I\n",
              "rngB7hT8WG/nE93abQfI6hYDyTwb66NEAzKPtw1ijdpcn+pcQb+EadnYDtRFAyX54c2NMTY3xkoN\n",
              "/f7f715l16ERFFwl1Pb+NOUhH7ZTTJdz/y8KQklqKaLKVIZ8vNqXwnbcczeWB0qCiOOn2/2pPHfu\n",
              "aGc4q1Me9HHthc0nFDibLBDXVBlcNIbuGfY8Ml6MfmVFEEnM0T2SJ29a4NhopoNmzo/KavGsouAm\n",
              "j8giGPb0Ri3gevX1dVEaygOIgivS4CaNuHvVpu1Olx3TnvJcAnB6fZREziBnWCiywKrK8IRuJRFV\n",
              "JupXqIuq1JcF6Ipnef+PnqOhTOXAQIYN9VFqIn6yuoVm2qU18cGhLGnNpD/lyilvXVnGDRe3cPcT\n",
              "nROm293DWf7hJwXBxIBMLKBz9+Odxx04m2yJ9eXf7iPslxdN8sxJua3cfffdCILAAw88MOnzDz74\n",
              "IBs2bKC1tZWrr76aZDJ5MoY150zWeL1YwHDH27bwxavPoKEswEhOJ5HTSc2yvvp4sR3cPesZvJ0o\n",
              "gKJISJJIVFX44KUt1EfVUr327sMJMppZEEI4ui4uZrcVqYv5QRDQLYfaqJ+QT+Lvz19V+rIX/1bx\n",
              "jM5QVmdFeZBYQdcsnnabBBqWzd7uJGnNpGckR2XhRlA0rIGUxpaVZdRE3ZLO4vS6qFe+uirE1Weu\n",
              "4LuPHSCe1gj4JfKGVWrcN7px4GwYvwyoivjZdWiEV/tTi6ax34J3Akmn07znPe9hx44dbNiwgQ99\n",
              "6EN8/vOf55//+Z/ne2hzynR7pKMLFq7btprfvdyLMYdOuqiEMl3q6fiv2FQloI4D+UL9dF43+X+/\n",
              "08kYBmG/4jYNEAVCBdHCjGwiCAJvP7eR+547wmBaBxy2rCzjU2/cwL89cZB03qAnofFqb5q9vWm+\n",
              "/XdnIYsi3360jSMjOepjamnvWg/6SOYMwn6ZyrCfjfVRXulJ8kLXCKIoUBdT2X04QWN5YIxhiYLA\n",
              "UEYnlTdLN9LdhxP85KkuvvmHNvb3pwoJOXap2UGsJGc8e8YvsXpGcgDUj0qsWeiI+7wa9uhOIDfe\n",
              "eOOkxzz88MOceeaZbNiwAYAPfOADXH755aeUYc9mj7ShLEhrbYTdhxKzLuqYioAItigeM6pezBcv\n",
              "iiGON24BNzotiaCbFq/2p9nf74onioDqk5BEAb8ssr4uQm8yz7qaCB/+i3W8/5K1PLavn/ueP4Jm\n",
              "2vzrE510Feq5NdMm4JeJp3W+9Ugbg2ndrVrDQRQENq2IsaYqROdQBttxSOaNkuJL2C8TCchEVR9/\n",
              "7hzmQ4ef44KWygmJLOMj3Pc+c6hUeWbaDqblEFblCc0OjofxS6x1tREaygIMpLQxDRAXMuK+4J1A\n",
              "urq6aGpqKv3e3NxMT08PpmkiyxOHtxg7gUy1RxovCNuPDqZEVJnVVSFeOJSYs/fXbIiq0pSG7Sus\n",
              "rcVCfrg1RdqqA1i2Q0FLcAw2kNctVJ/EmavKMCyHDXXR0pq5vT/NP/3mVeJpnYDPFV3MmxamZVMW\n",
              "dHthh1WJtr4Ur/SmcXC35Czb4eXuJP/01k188/ftZDSTZN7t0S0JArVRPxVhP6/2pjAdB8F2aOtP\n",
              "UxdTaShTSY1qHTTVnvXG+ij7+9OsqghSE/GPaXZwvIyvET84lF1Ujf0WvBPIbFmMnUCKjde7Cgkg\n",
              "RbmeogjB6Km5Iomc01zBA893z9n7O8Cq8gDDWWPS56Vi0MwB25po0j4Rist9cZopvSwJqIrIxy9f\n",
              "T1kh8bsi5MOwbL71aBuDaY2gT2Ika2A7DiG/TMZ200rLg275aE8iX7pp2DZQCOzF0wZJzaS5KkxI\n",
              "kehLadjYVIX8dAxlSOZ1bMch7JeIqDK7DydYXRWiptBze3RiiqqIY6bKU7UZOlFGL7EWW2O/eTPs\n",
              "nTt30tnZSWtrK+B2Annve99LT0/PmEYCq1at4ne/+13p987OTurr6yf11gA33XQTH/vYx8Y8dvPN\n",
              "N8/DFcyM4tq62HhdEqEy7Me07TF9oYtT86xu8qsXjsxpTrhfEuhP60ijptmjyZlH9cLddfBYRsfw\n",
              "qkJ+dMskkbMYn7pi2g5hn8xgWuOuxzpKN60LWip5uiOObrr57jauJnjYL9NaG+ZAf7pQ/umMCbA5\n",
              "hf9Uhn2sr4+UpIwTOaM0ZX7Xa5v5+Z8P82pvGtO2ySoWe44kkUWBaEDh8HCOu5/oHJOYUhnycVFr\n",
              "FbbtMJTRp2wzNNcsJvGHk1a2OVUnkFQqRUtLC4899lgpeKaqKnfccceMz71QZZtZ3eRT973IoXiW\n",
              "2liAfb1JepN5FFEgb9isrwuzoS5GqpCAceXWBr700Cv0JLVjn3wWCBSnte7voz9QsfB7RUjhtWsr\n",
              "+e2Lvej25MEzETeaXVVI29zVNUJ2VChdVUTOWlVGx2AWw7TZ2BAjoxmlwJVu2WiG5aaeAmG/hG66\n",
              "XlYU3T5hummjmVZJ1zyoCHztmrN4/el17O1J8v4fPTdqW8qdRpu2zZ4jSbK6WagCczi7qZyVFUES\n",
              "OYOsblJWMPKgT+bl7gSKLI7JUV9oD3qyWfBOIJFIhLvuuourrroK0zTZtGkTP/jBDxZiWLOirT/N\n",
              "N3+/n8f2D+BXJCrDPnoSeTTDwhdQ0EybFw8nGUzrxAIKzVVB/u9/7aUvNbdGDe70ecood+H/8YxB\n",
              "z8jRafD4Y4M+ibBfQjMd1lSH+csz6rllcA96SgMHfIpALKCQ1ixM28Z0HA6PZGmuDNIxmKG5KsRg\n",
              "SiNu26VEmJRmIQKyJGMW9Ml9sogoCCgS1ER8/MvfnMXWVRUA1ERVmiuDtFSHqAy7emztA2mOjOSw\n",
              "HYeIX6GxPkjXUJZU3mA4q9OTyNFUMPCqyOi1uCuoOFo77WSwWLLRFrwTCMD27dvZvn37yRrKCTO6\n",
              "Z1XetBnJuV8y3bRRJAHdst0gle0wnDUYzugcHMqQmad9a1GEioCPgbQ+IdI+2oDb+9Nuex/dQhs1\n",
              "Z5dF2LqqDE23WFkR5LYrT+eW/3yJjGa7xpy3sCyHoYxBQyxAxK8Qz+qkcgYHBzPkTZsXjyQQnKN7\n",
              "5cUbjY0bIFtbE6GtP40kCoR9EhsbovzvN24YE8SKqHJp6eKTJXoTuUJegINlO8QtnWTe4OymcgBe\n",
              "ODQCQF1URVUkukdypDSzcC6F+lhg0m2n+TK+xVQWurzmJ3NEPKNzaDjLYFrDtOxCPrT7jdZNh6xm\n",
              "YdoOflkk7BfRLHvejBrAsGAgo7vN7KYhnTdZVa66jQGCSinop0gSed1ibW2EGy5uYTCtM5zVCfsl\n",
              "UnkL23EwLAfTdOWJMrqJbTukNZMjIzk008a0HPRR0fTRN5RkzmB/XwpFEjinuYzPXbWJb/zNWRMi\n",
              "08VtpGKCyaqKINGAq39uWG6zAAGBvzq7kaAiURFUOKMxxlDaDaytrAggCW4ThMYyN810vOZ4W3+a\n",
              "z9y/h4//7AU+88Ae2goBthP/DNyb/f7+FKIglHqmLVSSipdSOkva+tN8Z0c7bf1pBlJ6oQ2NgIPr\n",
              "pWzbKRVZ5E2bfOrkZZf5pIIE0mQRNNzijxe708gChe0mAVERCEoiNRE/bzt7RSmfun0gQyJvYNpu\n",
              "rrcsCvgkActxo8yO49BQpjKcNRnO6AiCm4o6WXZb0eAbywM8fWCY57sSXLS2ivdd3DLGoxmWK9pQ\n",
              "VGWRRLjqX54grbneNZHVyeoG//JIG/t60wQUiZxpUxF0M+LWVIc4vSGKXGgF1FITGLPtNBc12VN5\n",
              "+1TepHMoQ39KozeZLyw3xAVLUvEMexYUu3K82p9idVWQgbSGZYOiuCokecOaE6ng4yU/Luo8Fabj\n",
              "ap6F/DJhv5ui+acDQ+zcP4AguGvpRNYsLC3c1E7LdtCAgCzQWhumcyBDU2UY00oznNGn3CJTZbAd\n",
              "V6LpcDyH6Thg2bzcneA7O9r54tVnoEhiqc92TzJPfUzlfRe3UBHyURPxl95fFEVw3Cou9zEby7E5\n",
              "Es8RVmUiqsJgSivprBUNqijEcKI12dNNtVVFpD+lMZzRiQQUElk3h2EypdWTwazf9c9//jP//u//\n",
              "DsDw8DA9PT1zPqjFyu7DiVJ72YGUTkVQQZaEUm8r0z5aeLFQzPS+Egsq1MdUTNtxI9qmQ063MQoa\n",
              "4hndRBBgU320NCOxbQfNtDnQnyEWUBjJ6qysDJaaBTiOu15XRPeLJQIBn0JNoQVQMu/m0ecNi/6U\n",
              "xh/bBkvih1/+zT4e2dfPvr4Uj+zt58u/3YeqiDQX9qpbayLIAkSDCiBQFlCQJbesFAHW1UUoD/qo\n",
              "iaoMFRKDDg5lx0y7i/kF/cl8KV98pu2BRnv7yfLB84bbgKE85EMUoLxwU5quO+p8MivD/ta3vsW7\n",
              "3/1ubr31VgDi8Th/8zd/Mx/jWnQYls2PnzqIZloYlkM8q2M5UBX2kdctzCmmv4uV1powac1kMK3h\n",
              "OKAqAookoJlOKapt2m7k2zAdRMAvC9iOK8DwD3/RSmttBJ8kcvH6ajavjOGTij2uBUTRbRKwpbGM\n",
              "W96ykfpYgFTOJKNZbvDOdG8iP3m6i/5knl2HRzAdB1WWMB2H57qGGc7oXL9tDa21EUQRKiNuMYoo\n",
              "uFuN5QGFFeUBGmIq+qjijuqIH1URJxhicb+7pSZMTjdpLA9w7YXNM5qGj/f2NVG15O3BDfw1V4Wo\n",
              "jbg57rUFqeWFSiudlWF/97vf5cknnyQadYMeLS0tDAwMzMvAFhu7Dyd4on0Ix3F1uEVAlV2PIksC\n",
              "seCps6qJqjJBn7tPXB5QsGyLvG6XhBOKOeWiAPGsUUpUsSkWgYhcuLaKL1y1iQ9eupaoqtCbyONT\n",
              "JGTRreiybDcavvvwCPfvOkwqb+BTREQotP1xU1KHMjpp7WiVlWHZZDWTkazB7Q+/QiJncMsVG/nK\n",
              "X2/l2393Fk2VIXTTxsF9n8byIDdfcTprayOliq6/PmfllIZYE1G59oJmYqrCSM7g7sc7ZxRAKxZ+\n",
              "TOXti4G/tbURbAfW1kYWNK10Vt9Gv99PIBAYe4IpMsSWEoZl85OnujBMVxdMLGwcb6iLsKc7Sc6w\n",
              "yeon3jRvPvEJsLExRk4zqAirvNKTIpU3yOjFxYONhLt1JggCAVkkoVmIhU4ktgOG6fb08itupZRh\n",
              "2dz7zCHaBtJYjoMgCJgFqSMHMGyHeNbg4Rf7EHAlj1WfhGa4a+ZkXue0+hgrK4JsbozxdEec4ayG\n",
              "7UCZKvOntiH+3DnCuavL+cCla2mpDhP2yzSUB6iLqvQm84T9Mttaq9jWWlWq6PqXR9qoDPkmLRRR\n",
              "FZG7H+/k8MjkKitTMb7wY7J88MWUVjorq6yurubVV19FKLSK+Ld/+zdWrVo1LwNbTKTyJkNZnY0N\n",
              "MQ6PZEnlTUTcKWuqqCwqnLjI/3wiiHBoKENaszgwmC016BuNBayIqeiWQ38hO04YXQ0muN5eMyw+\n",
              "du8L1Eb99CU1d5qdN9FSGk4x/3vUyYse323zI5a25Zor3a4g3SNHo8iO42bJ+SSJZN4gk9N5dN8A\n",
              "Lx5J8qWrzyikjPoJKK5cUzHrLaLKpYquYmO/6oi/pHhaNMS8YdOfylMWLJZtqjMOoM3EcBdLWums\n",
              "DPurX/0q73jHO9i7dy8rV64kGo3y4IMPztfYFg2j62/X1UboGEiT0Uxe7k6Uems5C1dTPyNsB3IF\n",
              "xZPp4jn9KR1JdEqJLqNDB5LgtrwVBYG2/hSv9qUIKCJ53aQhppLIGiiyiOPYGNbksxfNtPFJAq9t\n",
              "qeRLb92MIomu0mhK48xVZTzTGcewHGy7qIPmdiGJpzXu3NHO/r4U/YXyyIAi8dqWylLEe7zB5g2L\n",
              "W7evH1Nht7cnSedQdkza6qYVsRmvhReL4R6LWRn22rVreeqpp9i3bx+O47B+/XokSZqvsS0aRk/D\n",
              "+grKGynNQDOskmDCVAUYiwXDBkO3UcTpN8Q000ae4hBZFMiZDhIOIzkDx4FEFjKaiV+ROXNVjItb\n",
              "a3j8wCBPtQ8xPE4nXSzMahwcJAG6R/JUhHxj1sKbGmLs73MLPhzcQhLLdmupX+5Jki8seSzbIWe4\n",
              "6a3xjM5AMj+pwY6u5jIsm7sf7yTokzACbm22IokzDqCdSszqat7znvewb98+TjvtNDZu3IgkSaUI\n",
              "+VJnbU2YW67YyPYtDcQzmptdNmpvazEb9WiMY3T4k0Um1TUXwM3BplD+WSwDBRJ5i4GUxo59g3z1\n",
              "9/t5oSvBuroo1WFlzL66XegQIgkCPYk839nRTk43qQz5SkGpjGZyTnM5t16xkRVlgVILorDf9UE+\n",
              "WaAmqlIT9RP0Sew+lOBj9+7iH36yC0mASMFgs7o1wWCLAbWmyhAXtlRx7upKmiqD1ETmt+prIZiV\n",
              "Yf/yl7/kL//yL9mxY8eYx5YDbhP6l/jSw3vJmw6WM/u2tqcCU03Tw6qEgEg0oEyaBHM0WKaT1k32\n",
              "96eQRJFzmsupj/pLXzRFAlWRGMro7Hh1gE/8YjdpzaQ64mcordGX0njywBBfeGgvK8oDnNVUzqqK\n",
              "IBsbomysj2I7biprRjPHpO7G0zp50+a1qyunNNjRke2UZjKS1amNqktSW3xWht3Y2MiDDz7Idddd\n",
              "xz333APAEmjWeUwMy+Y7j7bzUncCY54URRcjRQOWBbdO2ycLpd7ZU33qbmKZK3nk4LYZOq0hhlrY\n",
              "6nIcyGomfUk3S+vgYJaueBZVEYkFZLKaiVGYZr90JMmBgQypvMnzXSMMZXQCPhlFFFBliWhA5vSG\n",
              "KNURteSph7I6A6k81eGJiSfjc9EXg9LJfDGrW5UgCGzcuJEdO3ZwxRVXcPDgwVKEfKmS1U3+++U+\n",
              "/rCvr1BzvPRvZEUUCXTLTUHtimepCiukNPuYuuRZ3UIRBc5uqSSqKvSl8oiigCy7skx64U8Y8omu\n",
              "fFLa5vGUhmZaaIZNNKggCzCQcivIZEnEchyqDIv6sgCNZQGuu6iZHz7ZxcGhLImcQdAnYVoWLx8Z\n",
              "QRBFGsoCHBzKTmj5M1Vke7GUW84VszLsonduaGhgx44dvPWtb+XFF1+cl4EtBv6wt5/P/+olDo/k\n",
              "piysWKoIuEYNbnGJbjkMpI1CX213FyDok0btg4/FsGz+6qxGLtlQQ1c8yyd/sZuXu5M4tu02AgDS\n",
              "mkVEhOG0RTgg45NEkjmT/qQ2JidAKtSbJ3IGK8oCPNs5zHDWIKLKBHwSf+6Mk9bcijO/IrG5McpA\n",
              "SuN7Ow+47ZR2djCSN6gO+7nmvFVjuo0Yls3TB4b44Z86yZk29bEA117QTE1hij4bI19MN4dZGfZv\n",
              "f/vb0r/D4TAPPfQQjz/++JwPajGQ1U0+/+DL9KXyp1y66Iki4OqbFW9mzuig2ag/Rc6wqAkrDGeM\n",
              "SQNuv9rdzeaVZdTHVBpiKvt6UqiqTEpzVVBMB4az7o0hnTPxjSqYKJ7OjYDbpSn+7sMJREGgBbez\n",
              "ykBadxVZLDdXX7dM2gdSbG4so2MgzQd+/DyJrE7AJ7HLsPlj22Cpsgzgs/+5h6cODGE5biFHTdjP\n",
              "0x1xmiuD1ETVCTXVUxnvYqrFhhka9v79+2ltbaWnp2dC0UdZWdl8jGvB6UnkSeYMgj6ZnD5RJ2yp\n",
              "UZRQEgr1zKNb+EwWUCsuwEzbQRAn7vUZps1T7UPceO8LhPwSHQOpkgjCZFhAbtQbFeWeBMHt2+U4\n",
              "bpKNKIAiCxwcymCYNoMZrSSzVKQnoZHThwgoEmnNdPfBMwYODrIEr/an+M6OdoYzOk8eGCrdrPKG\n",
              "zeGRHCGfREt1aEJW2lTGuxhb9M7IsP/xH/+RBx98kCuvvHLCc4IgcODAgUlfd/nll9Pb24soikQi\n",
              "Eb7+9a9z5plnjjnm0Ucf5U1vehPr168vPfanP/1pQurqyaY+phINKPQlcws6jpNF0TYch2PGEYrT\n",
              "5FhARi8UxYzHcGA4Z5DWDJ7uGGSKGfuUuEUoIAoOAUVEL2giG7aDZVj0JnJIQkHpdBJM22Yoa4Pj\n",
              "kNGPltMqokRlyMeRkSz7etMTyk1tx+0OWhn245OlUlZaRJWnNN7F2KJ3RoZdzC7r6OiY1cnvvffe\n",
              "kke///77+V//63/xwgsvTDhu/fr17Nq1a1bnnm+CPpmb37KRzzzwIlk9v9DDWTBkkQkesWgLI9np\n",
              "W+RIosDuw4lpO5QcCwEwLRsBNw999HLAFiYP4smAptsYzkQtuHhG45kOg7Kga4DCJKnA5UHFzWQb\n",
              "Jfw/nfFOJj99SjYMOHDgAL/85S9Zu3Ytb3nLW6Y8bvQ0PZFInHIR9PPXVHB6Q5R4Ko9hnzpJKHPJ\n",
              "iSj75E6wFlkSXCMbyRmoioiujXX7U30eJpSs2eHonq4NaJaD7Vik8kKh/xhjEo0ifgnNtBlKjy30\n",
              "KBrvoXHG25/Mc/fjnSX5aUUSF8U22owM+3Wvex133HEHW7dupbu7m3POOYfXvOY13Hnnnbz00kt8\n",
              "8pOfnPK173znO3nkkUcAeOihhyY9pr29nbPOOgtJkrj22mv5wAc+MOX5TlYnkKIK6Z/a4+SXz9b1\n",
              "BObrXiYAAUXENF3PKgqF/mOjuoFGAoq7dSYJ6MdoXzQdNmMTNiy7EBuwbMpUpdTlRBJFVJ9IJOCK\n",
              "UNxyxUaCPrmk7tIVzzKc0ZELxlvUMi9Oz03LHvO6hWRGt5QjR46wdetWAH784x9z8cUX8/DDD/On\n",
              "P/2JH/3oR9O+9oc//CGHDh3iC1/4wqQ3gLPOOovDhw/z3HPPcf/993PnnXdy7733Tnm+22+/nVgs\n",
              "Nubn6aefnsllzJhiMKRzKE1WP76OjB5TIxXKOrOGje64aaBhVcYnS8SCMlsbY9TH/Ni2W2DTEAsi\n",
              "CO6XdSZzvvGdP4uBuCI2kNEsMrpNwCdTEVQI+mUkSSCiKjSUBUjmTfKGXVJ3+cO+frri7p552C9z\n",
              "yxUbqYmoY6bn1VGVobR+3F0855IZGfboQNYTTzzBm9/8ZgDKy8tnXI/9rne9i0ceeYShoaExj0ej\n",
              "UWIxV/e5sbGRd7zjHezcuXPK89x0000kEokxP+edd96MxjBTUnmTvlQeRZZOaH3oMTnjp9DpnIlf\n",
              "FpEFOLe5gmsvaOK0ugg+WURVJOrLA4T9MkGfSGXIXd9KoltCWiSgSKyI+krR/eJbiAKcuzqGqkj4\n",
              "xtUrxQKuTppluzsBk6mbxjM6zx6Mk8obpDWTtGay+3CiFFArpqgeGc7ybEectoE0d/xm35ypnx4v\n",
              "MzJsURQ5fPgw6XSaHTt2cPHFF5eey2azk75mZGSE7u6j/akeeOABKisrqaioGHNcT08PdiG0mUql\n",
              "ePDBBydEzkfj9/uJRqNjfua6wqw/laetL83zXcNzel6PybGBVM5E9ck80xHnI/fu5g/7BhlK6+QN\n",
              "m4ODGSzTIq3bjGQNAopIYyzA5sYY62tDrIiprCpXiWcn6qorksg7X7uGqrAfRZJQZQFJcG8E5zRV\n",
              "0FwVorkqxO1Xb+bS9TWlaXZxjWxaNmnNwrJdIQmrILtsWnYpRXV1VYj9BUNurYnQMZg5Nfpjb9++\n",
              "nTPPPBNZlrn00ktZt24d4Hrv5ubmSV+TSCR429veRi6XQxRFqqurefDBBxEEgeuuu67UJOAXv/gF\n",
              "3/72t5FlGdM0edvb3sa11147Zxc4WwzL5vs7O0jrZiHY57nsk0FFSHEbLIwq9XRw01M1M1eKzFsO\n",
              "2IX95p5knvKQjzVVIZ7rGmH8NrlfElBEgfufO8La2jBZ3QLHRhTdYhYHGCgEwS5qreKi1qoJySey\n",
              "JBL2yyRsG8dx3IYHfhm58PzamjAff8N6ehJ5wqpMedBHImcs+HbXjHp3nXXWWTz00EO0tLSQyWRK\n",
              "j3d3d2Oa5oKrqMxl7654Rucj9zzP3r4kflkilTdJ5CbvYukxN5QFFGoiPjoGM9OKQIxGBAJ+EdN0\n",
              "UH0yyZwx4RYc9YtEg35My6Y2plIfC9AxmCadd9NPEQS2rizjxsvXT5klZlg2H77neZ7uiJe2xs5b\n",
              "XcHX33HmmDzzzzywh/Z+N4hWjJgv+gSVfD7Pjh07qKur41e/+tWEiq6FNuy5JKLK1MVUXuxOMJJd\n",
              "fumkJxu/LJDXDQ7FzRkbNbh12VHVx1BaY6pdVN20XQEMQaA+FiCmKmQ0i3Te4uzmMobSOmG/TFNl\n",
              "cMr3USSRGy9fz3d2tNOTOKp5PtpgJ9NDu/aC5gXNG5+RYX/pS1/izjvvpL+/f4JnFAThlOq7dSwU\n",
              "SeQ921bzp/Yh0nnTm4jPI5IAsiCQMUeHuyYyWTWZKEBac2dSAgWBiHEHGTYMZXS2rCxjMKVhWg6p\n",
              "nEEkoFAdUVEVmaGMTrygQz6VEa6tCfPFq8+YtiJsdNVYfypfaum7UHnjM15jb9++nY985CN87Wtf\n",
              "m+8xLTjlQR9NlUHKghJ7uhc2urnUKHYGtQoZZNkp3LQw6nhJcss9rUIHk7U1IbrieXTTIaIqbrXZ\n",
              "qPuC2+FTIBZU0A0bVZZoiAXoS+UpC/oI+eVSZll1xM8dv9nHUEaf1gjHa51NlTceUWX+6eHOBc8b\n",
              "n9U7LQejbutPc8d/7aN9IM3eXs+o54Ji2aUAUEhGkUWhtC0lCmP3mQuH4ZNEzmiMURdRifglVsRU\n",
              "/s//PINNK8porQ1zQUslADndQhql5eaqqSo4jpvkYjsOf3VOIxVBH7VRPznDYijttgIC6BjMTNrd\n",
              "YyqKrZ729iXxyeKY1x2rscDJ4tSvKJ9DiokpHUMZmipDJ5RO6XGUWFApJaUU1VdEoCIgl8pBx/+t\n",
              "BWB9bZj6WIDV1SE2ryxnY0OUB3f38ETbECG/K1goCK6ssWG5eubgzgZypit1HFAkyoIKP3/mMIeH\n",
              "c1QVuonUx1Q++rpWNNMu1V6XBRVXNukYRji61dOrfSmCvrHFIsfbRmguWXpiTydA8W6r+iTa+lLe\n",
              "+nqOSGQNLGd0qadbtZXIm8ji0Wk5jC3a6E3lUWSR6qjKsx1xwO3RFc/oDGY0aiJ+V6rJGTsbAPBL\n",
              "IkMZncGUTkYzqQr7aawIlgo4knkTWRKpjvjZcyRBImu421NhV1hxqm2q0c0jTMchntFJ5gwuXV9T\n",
              "Wn8fq7HAycDz2KNwPxiBZw7E6U1qx36Bx5SMTusc3XCg1MO7IAZp2G7gK6gIxYdLxt2f0pElAVUW\n",
              "Syc9MpxzWwUJAsm8SURVUOWjteSCAKosuU0FHYeykEIiZ3BgME3vSHaMF60I+bj2wmayukUqbxAJ\n",
              "yAR9Enc/0TnldHx084iitLEiiVxz3qqS8RYDaXe8bQtfuGrTjAJnhuXKKM9VUovnscdhWg7WMhBo\n",
              "nC+CikhdWYBEVncb8I0r3rBt15tUhn3EM8VMMbcZ4GTsOZKkK54jkTcQcUs4JVGgLupnTXUYB/jo\n",
              "69Zx669eIm/Y+GWRqrCfvkSeaEgh7FcQBIG8blEbU8eIGIIbFFtZEaClOkxlyEdKM6dNLhnfPKJn\n",
              "JMe62gibG2NjjptNY4H5UF/xDHsUqbyJ5ThUhHz0pzyPPVtEYEN9lKAi0TOSm2jUhSmzJAlohSm0\n",
              "A1iWgzNqL3q0iWd0i4xuESusUXOGmwEmAi8eSXBucwVXnbmC0+oj/Msj7WR1d9r95IE4I1kdQRBI\n",
              "5QxqoipfeutmLNs1zmKL3f5UnkPxHEGfhK/Q62u6WurxU+0N9dETmmrPl/qKZ9ijiKgy1WH/spBU\n",
              "ng8c3C/+M53DaFNMKSvDPlprwrQPZNAMV9jQwc3fDvtl4tnJs/xSmklt1I8gCAgCSJKIYzvYhXXu\n",
              "+rooX3/HmaUA1s79g3z+wZdJFoz65rdsJBY4KmA42piCPomsbpHVzRmtieey+d58qa94hj2Kg0NZ\n",
              "hrMaA+mlr3E2H7jbWGBN08hM000ODmWoi/rZWB9BkgT2HE5i2jaN5QGGsxNTQ8Hdpx7OGggIXNha\n",
              "SdSv0J/W2H04wcfvfYGG8sCYKexlG2o4f00FPYk8VWEflu0atCKJJWOqKvTRXlkRRDMsPvOWjayq\n",
              "CM7IUOeqh9foqT3MnfqKFzwrYFg2X/7tPp5oGzr2wR6T4gCv9KYIja+PHEXasOlOaOzrS/HikSSy\n",
              "KPL1d5zJWU3lvNqXmbLeWhShIugj7JcYSGpkDYu93UkMyyakypPuQQd9Mo4DX/z1Xj7+sxf4zAN7\n",
              "aOtPE1Fl/LLIsx1xdu4f4NnOOKoiTWvUcx3cKjJfTQw8j10gntF5rjM+ZSaUx7FxHEjmjAkaaUWK\n",
              "+uTuwa6x7D6UoLE8QECRUCSBkE8hmXfliYsRckUS2NgQRRLcvl1hv0xPwt0Ka60JUx70IQrChCns\n",
              "VOvXW67YOGohf+z+x/MtLTwffbU9wy7QOZhhKOtNwU8Eh6lVQ2Gs+qlhOViOm1jyck+SVN4kGlDI\n",
              "GxblIR8ZzeI1q8t529mN/O6VfoazRsmoGspUDsWzfPexA6VOIH2JHCsrgqijtMnjGZ0jIzkqwj5U\n",
              "WaQq4mcgpdGTyKNZNuesriCoSGQNC820SzeF0TngwEmRFp7r9ryeYVNIOnimy8s0mwMKfe+Pmdxj\n",
              "A9gOsk/gv/b0UhX205/SMC2boYyOJAjkDZvG8iBfeuvmkqEdHMpy2y9fZiCt4ZfFUjO/eNZAlvLc\n",
              "9quXS1tZ39nRzr7eJMmcScgvF9RUKqiPqaV1bU1UZbCQSBJR5Qne+a/PWbnopIVngrfGxo1Mti+w\n",
              "lM1SZrRWWTEzrNhtJORzO29ec94qNtZHERDwyyII8FTHENd870ke3ddfMqKi91QVN40z6JOojfop\n",
              "DypUhl1j/c6Odr6zo532gTSiKGA5DlnjaKXeVOva8edv70/zk6e7xrT5XagU0dmyuEd3klAVkcQk\n",
              "hfoe0yNNbADiZpwVlq3Fckt79HO4tdSO4+aQ53SLsoDC5sYYjeXrOTySZVfXCKblIEkiOd3mCw++\n",
              "woVrq8gb9gTv2Vfo81UXC5Qe60nkEYCyoM+diocUREFkY0OkNOWebF0bz+gTzj+U0fngpWu599lD\n",
              "C5oiOls8w8Zt7VId8XMwvjy6fkyFKDAr8cZiGeVo4/ZJIqbtZoC9dk0Fe7oTbnudwrEIbgmmTxbd\n",
              "zpqqzPYt9cQzuluIEVAwLBtJEsFx2/mkNIOeRJ5VFcEJW0OjK7RGP5bMGzzbOUxGMzFsm6qQn0TW\n",
              "YG1tpORtx69rp9p62twYY3NjbNE03JsJ8zrCyy+/nM2bN7N161a2bdvG888/P+lx3//+92ltbaWl\n",
              "pYXrr78ewzi5UkQRVaYi5D+p77kYUWbxbSh6X0USiKoSiiigSO6018GdBak+mRWxAFVhP621YRAE\n",
              "TNutq46qCrpp05PIc/0P/8wbv/oYN977Atu3rEBVJLfIwrLRTfcnp5uTTqHfd3EL77u4Zcxj77lo\n",
              "NaLgjsUudA8ZyRlUFYJvUxnmdFtPxZvAqWDUMEPNs+NlZGRkTIufW2+9dUKLn46ODi688EKee+45\n",
              "amtrufLKK3nDG97ABz/4wRm/z1xonv3y+cN8+KcT2w95TMQvCdiOgySKBP0ioiBi267ogatqIrC5\n",
              "MYYgCFSGfAxndR57daCk9Fk0ttGIQFlQ4S9Oq+WitZXcdP+LaIaNX5FoiKmc3VxRikRP1vFy9GOp\n",
              "vMmN9+5if1+arOE2HMjqFpeur+bLf711gnGOP99iaod7vMzrqGfS4ufnP/8527dvp66uDkEQuOGG\n",
              "G7jnnnvmc1gT2NuT5NuPtp3U9zyV0SxXrVO3bHK6mxYqigIrywPYjtuzqyyo8MFL1/Kei1YznNHR\n",
              "CwooDo47JR9PYQrQPpDmv17qQ1UkqiN+trVWsa4uOkasYDLvOfqxiOrWaqfyJj5ZxLIdYgF3f3x8\n",
              "rXVbf5rP3L9nTALLqeadJ2Pe19jHavHT1dVFU1NT6ffm5ma6urqmPN9ct/jZ25vkff/+Zw7GJ9dH\n",
              "95gcvyy6KaQSnFYfRZFE9hxJkNUsgn7Y+eogWd0i7JfpGMyUtsAs222ZOx7bAdO0Gc7oOLhZY8MZ\n",
              "nZe6k1QEFdbXRSdEoqfyrIokcsMlLbxwOEE8rREJKMQCCrUFQYXRr19s7W/nink37B/+8IcA/OAH\n",
              "P+CTn/zklP27Zsrtt9/ObbfdNuax888//7jOZVg233qkjYG0V8k1W/KGWz5pWgL7elMIOCQLHT3C\n",
              "foWUZvDcwRGaqoJIBf2xxKg88IqgWyddDLyJgKrIVEX8VEdUGmIB/nwwzkBKwzBtVpSb7OtNEvDJ\n",
              "1MdUukfyE7LBmiqDJUPfUBfl2397FnfuaGckZ1BbaGI/2mAXY/vbueKkRcXf9a53ccMNNzA0NERl\n",
              "ZWXp8VWrVtHe3l76vbOzc1o545tuuomPfexjYx67+eabj2tMuw8neKZjGMNcxl33jhPNcggIoNsO\n",
              "Rs6NgpuWg4Pb7yqrmSAI9CXyGKZDVjfdqiwBgopEWJVxHAdFEmgoC9Cb1NBMm/6kRla3WFkRxLAc\n",
              "Qn6JzStj7O1Ncs13n3T7e6kyjRVBcrpV8rRf/u0+wj6ZoexRUcIN9VH++W1bplyPq4o4LwUYi4F5\n",
              "u4KRkRGy2SwNDQ3A1C1+3vrWt3LRRRdx6623Ultby5133sk111wz5Xn9fj9+/9gI9vG0+ClK3OiW\n",
              "jT2jXCmP8fhkEUO3sGxXw5vCdlk8q2E5UBlUiPglTNspBbGqI37WVIVKnTVfOjLCK71pLNuhMuzD\n",
              "r4hkNJN4RscnCawoD9LWl6YrnsV23O20vpRGb1Jj27oqYgWxwl2HRqiJ+FlRHpwwpZ5OXfQNp9fx\n",
              "G3pntEd9KgXV5s2wZ9riZ82aNdx2221ceOGFAFxyySW8733vm69hlShK3KyrjfDUAa+iazRFnW7L\n",
              "nryxfJG0ZpWm0nZRNQHHTc0tFHmM5EwaylQ2N8boSeRoKAsymNJKe82IAo7jdtVM50000yavW0T9\n",
              "bgVWW38G07ZLmmmG7RBRZUayBkeGs8iiSE/CzT+oLwtMO6XO6ibf/MN+DsWz1MYCtPen+Q293HLF\n",
              "RvKGPa3BznchyFwzb4bd1NQ0ZXvbu+66a8zv119/Pddff/18DWVSiskIuw4OTfvlXW6IuFFt03am\n",
              "ncOIjE1mMR33ZiALIAgiOdMmmTNI5AySeYPr/moNj746QH8yT2N5gKvObODbjx7grKZy9vem6Unk\n",
              "0AwLzbRwHDfjK6TK5JJaSfjCAfKG2yCvOuJnQ12U4azBupoIDbEAAykNURAmnVIX+53vbBsk4JOo\n",
              "iwVK0sB5w552TX0qBtlO/cXEcaJIIn//mlX86vlDCz2URYcozKyIQxRAEd0OlJbjqo/KsoBPEdFM\n",
              "G9txo+c48JuXernuotXctbODIyM5Pn3/ntLW08ryAN2JnDs9d0AUBYZzBg3lqptbLgiU+WQ32GY7\n",
              "rCjz89krTmfbqCZ6B4eyUyqDFg2zazhLwCcxnNF54fAItRH/mEy0qTgVg2zL1rDb+tP839/sI7vw\n",
              "PcoXFW6DUQe50F1jqtZlRT1wGKssalgOumVi49ZfB30iQb/CcFbnrp0ddA1nOTKSYyitF7qCCBwZ\n",
              "yVEf9TOSM8gbNpbtYGLT1p8h5JdRZQkbh5BPoirs51t/dxYryt1+W0XDmq6muWiYdbEA9bEALxwe\n",
              "IVcI0M0k73u+VE7mk8U5j5hnip0cXjg0stBDWXRYDmi2632n60eoyG6WiV4Q6g8qEkGfhCQKSIKA\n",
              "KIBlO6iKRCygUB70MZI3KAv6SOXMghSxgOqTEEWBT735NEJ+xW1w75cJF9bYWxrLqI362VAXoTLi\n",
              "Z11dhJqoOvmYpkgsGS3i7wA1hcSXL159xozWyfOlcjKfLN5bzjxhWDZd8SyHh7Pe2voE0E2nVL1l\n",
              "2mDaVskogz4JsxA4My2HVRVBbrikhbsf7+SV7kQhhxuUgjChKAic0VjGBS2V7O1N0RBT6U9rrKuJ\n",
              "8J5tq/naf+9nV+EmvKIswMGh7IwDV8VI9rUXNHP3E50MpDRaayNcv20NQd/Mv/7zoXIynywrwy5G\n",
              "NjsG07zUnSSje/vXJ4QAonM02JbTTaJBpbCPbVEZUqgK+wn7ZVqqXS9XbEebzJuosiv8v3VlGSnN\n",
              "JKtZxAvdL7euLON9F7fQVBkk7JOpifipL3MDZDMNXBU/7/5UnlhA4bptq2koCx63Yc61ysl8smwM\n",
              "uxhA2d+f4shIjqxn1MdFcS0tCgUBBUlAlSUCPpGMZqFKIgNpHQcHvyEynDXoimdJ5U2aKoN89HWt\n",
              "XH56LQ/u7qY3odFYUBcttp3dsrKMnpEcYb9MQ5lKVzzLQEZjRbnbnmcybbPJKH7ee7qPtu954XCC\n",
              "b//tWVSEoifrz7VgLBvDLgZQyoI+9vZ4fbkmQ8DNDLOZui7bGfUPWwDBdgpJJRaCANVhpRAEc8gV\n",
              "tMQUSaR7OMu/PNLOrsMjmJbtJquE3bVyRrfGRJ1FQaArnuVTv3iRRN7g4FCWoE+iqTI048BVsU91\n",
              "ImuQNy0Cfol4WuPOHe3889u2LPqp9ImybAw7ospUhny81D2CeQJFI0uZyrCC5YBhWKT16SMQkuiq\n",
              "lgyl85iWTWXIRyygUBbyEU7qgIXtOJQHFarDPr772AGe6Yxj2G66qWlDPGNweCRHWjOpDPlKYgl9\n",
              "iRzxrIFh2dTFArMW9AfGVHgF/O6aPxJwbzrHanS/FFg2hn1wKEtaMxnOmMs2aDY6cbYY+Cr+O6zK\n",
              "xFSF3kLCRvF4n3y0r9bo10uSSF3Uj2a6Qv8VQR+v9KY4OJTFsG1s26Y85Kcu6qehLEB/SkMQBYKS\n",
              "TLqwf+0Apu2w+3CCr759K/c9f4SBlMbKiiCylKcy7CcWUGiqDJHTzVkL+k9W4RVQJO74r31jcsoX\n",
              "cwbZ8bI0b1fjKK63BlIaq6uC00rkLlUEXNF9AVBlAZ8suo/hGrUsCfQm8zi2Q1SVEXENb7RRS+Ko\n",
              "VriWzbMHR4hndPqSeZ7tGiajm6g+V6jALPS8ro0FuOGSFlaUBXBsh7RulHp2yaIbFQdorgqVOlR+\n",
              "8eozaK4KjREQrImqMzbqIsUKr0s31LC2JszG+ig40DE0u0b3pyLLwmOP7nv9/MHhZeexi6YgIVAR\n",
              "lsloFiG/jN+00C0I+iRaakI8f3CErGGPaZogiUf19GVJxHFsHOeo95ZEyOkWecMi7JNQFZmQ363a\n",
              "qokejYi/7+IW0prJ813D6KaD4zhuTbfoRsWL+8/FgNhc9ZgeXeFlWDY33ffiKZVBdrwsC8Murq9/\n",
              "v7ePnLE81tdFPTJVkSgL+kjndBBgQ12MA4Np8obNtnXVXLl1BX5Z4EdPdk3aBUXEraVO5g1s26E8\n",
              "oLC6JsTBoSzJvIllO0iSgKU5mI675SUIEA0orKwIMpTRS6qgX3/HmcQzOp2DGe599hD9SY26mMr7\n",
              "Lm6ZYLRzuW9cvGEYln3KZZAdL0vviiah2Jj8kX39s1LhPJURBUpSVBFVomfEDVg90xlHVUQ21EXx\n",
              "SxLffewAr/QkpwwoWo4b3Q74ZfySyHmry+kZyeOTJQRcgUHNsKmNqpxWH2HPkSQONo1lgTFC/OB+\n",
              "DrVRldqoyllN5cc02rneNx7fAvdUyCA7XpaFYQOcVh9BKqrVLwNaa0IcGnYTQV7qTpUeNyx3Kn1o\n",
              "OItmWvQmNXK6xSRydABIgqtt5ldEzm4q50OXtnL3E53IBeXOqrCPFWUBbigohe4+nOAnT3cxlNFp\n",
              "qQlw7YXN0woPnmyjOtUyyI6XZWPYqbzpTkeXAaIAh4bz5CZJwhEECPnd7aOI6qM3mUeRxAlN6sGd\n",
              "zgd9rozwRWureP8la8cYhqqIE+qYz24qL2lw9yfzpcSTYgQaWPC65lMpg+x4WTaG3dafImMsj3m4\n",
              "KIBmWpMGCU3bTT4pDyqkchoCAvYU/az9skh5yM8/vXUzZzWVl4x3tGEEJ7GP4h7xPz3cOaaG+Ts7\n",
              "2ktR6cVW13wqqaPMhGVh2IZl89Nnlk/ddVCR0Ewbc5L8OlGALY0xLttYy7893klGM7FsN+NMLAj6\n",
              "SwKsKFdpqYngONBaG5n1l32yGubeRKG6apFFpU81dZSZMG+3pnw+z1VXXcW6devYsmULr3/962lr\n",
              "m6jd3dnZiSRJbN26tfQzWtxwLlhOTfdEAUKFPOvx+t0CEPKJ7OtN8b0dBwgoIltWlhP0SVSEfKwo\n",
              "D+CXRQRRoKEsSDJnUjNOsnemjC6VLO5F18VU6mNq6bG+RI6oKo9pfXuyGa2OspT2tufVY7/3ve/l\n",
              "TW96E4Ig8M1vfpPrrruORx99dMJxkUiEXbt2zds4JBE6hzLzdv7FhO3AcEbDcApqJIBfERAQkUUQ\n",
              "JVe2KJvVcfCztjpMNKCQzluc0RjCL7vqJ6oisapyomTvTJkqAg3wvZ0H6BjMMJjWkUSh1Pp2Ibzk\n",
              "qaiOMhPmzbBVVeXNb35z6ffzzz+fO+64Y77eblqeOzjiqmguE2xcuaLS746ATxZQJJGgT8bBIWeY\n",
              "9KU0/tg2hO3YhFUFx4Gtq8q59oLmkqc+EcXOqSLQf/+aVXzgx88zktGxHIeMbi3YWvtUVEeZCSdt\n",
              "9F/72te48sorJ30uk8lw7rnnYlkWV111FZ/+9KenlBSebScQw7J58IXuZZVGaoySPhEE928giQK2\n",
              "YJPSDBzHwXFcZdGUZiAKAptWuA3mZ9LaZjZr0vERaMOyuWtnB4msTlCVyRcShvqT+QXxkkt1b/uk\n",
              "GPYXv/hF2tra+P3vfz/hufr6eo4cOUJNTQ3xeJy3v/3tfPnLX+YTn/jEpOeabSeQVN6kazh7Spdp\n",
              "FvtNz4TRxR1Q6FNdCIz5FRnLdpVPNMEm4JeIqDIZ3aJ9wF2qHOsLfaKKnam8yUjeIBJQyBsWsiSS\n",
              "ypnEAsqCecmluLc971dwxx13cN999/Hwww8TDAYnPO/3+6mpqQGgoqKCd7/73ezcuXPK8910000k\n",
              "EokxP+edd96Ux6uKSF9SOyXzwyVcQcDRH1Kxfe1kiIJbjTWa4v2gLKjQEPPz2pYKvvvOsygLKoii\n",
              "gCicWLS7KOE7vtndVERUmdrCa1VFIqeZVIR93HDJxLTSk8lSaMQ3mnm9iq985Svcc889/O53vxvT\n",
              "eXM0/f39pX7YmqZx3333ceaZZ055Tr/fTzQaHfMzXSeQvGFTF1VPuTK28qDMha2VlIV8SKKALByV\n",
              "BS4qmIzOpPPJIptWxIgFffgkAUU8ekNwgFUVQerKgqQ1i7qyIGeuKkcWBPKmhSwcLcQ4FpNFu6sj\n",
              "/hl72+LUd9OKGGtrwly6oYZv/+1ZbKhb+qomJ5N5m/scPnyYG2+8kTVr1nDppZcCrlE+9dRTfPaz\n",
              "n6WhoYEbbriBP/7xj3z2s59FkiRM0+Syyy7j05/+9JyNI6LKrKwI8GznnJ1y3nEVgB2SeROhUOIo\n",
              "SiKKIGBYFrbtljw6gCBCQBGpCKlIooAiim67WtvB5qh37xrKohkWa2sjVIR83Hj5+pL+WP0UhRiT\n",
              "MRdr0qU49V1szGvj+5PFsRrf/+7lXq7/4Z9P4oimZqZdwgQg4JNKXTAE3Ol0zrCxbQfNtDBtSnvR\n",
              "hmVTH1PpSeTpimcZTLtdMcqCitsax3LY1lrFhy5rLQW6ZhLZnuqYpZaptdQ4tWP6M8CwbGrCvglB\n",
              "pZNNQBGpCvnoT2uuEH+he8ZUyCIYpo0kCUT8MrIokDNstq4swyeL7D6UQDMtNq6IkdddretiDyrb\n",
              "sfn0/XvoHs6yosIVLFhVEeSLV58xRnL3WDnTU0W/PaNe/Cxpwy5+MV/tSx374HlEkQT+x7pqBEHA\n",
              "6BomZ1hYjkM27+ZzC8LRzhoC7vrZctzpuGE7BBX3JuCTXUO8ftsaMrpVqqJaURMo6WR3j7jXPJI1\n",
              "SOtuI/nj0dGeKvp97QXN3P1455JKv1yKLFnDLn4x2/pTdI8sbHMAVRGxbBjJapzeEOXl7iSG7YAf\n",
              "8rqFOc5ziwVLtwt7zRnNJKwqrK+NcHAoy91PdPKFqzaxufGMMZ5zvDGahen5LVdsnJVRw+QZWf3J\n",
              "PHc+2s7hkdyiK+LwGMuS/TSKX8xYUCGRMxZsHNVhH1VhFdO2aakJ87/fsIGLWqtZURZg66pywqri\n",
              "RrgFqIn4aCwPIEsisYBCY1mAc1eXE/TLbG6MURXxUxXxl7aXxm/RjDfG2liAZN4siRPOhsmi37GA\n",
              "wkjeOO6trrnCsGziGf2Uz+eeT5asxy5+MV11kPmPD44OivlFCKkKpu0Q9sv8n6tOp6UmUjLC913c\n",
              "Uooq/491VXTFs1SE/FSH/STyBru6hqkM+1hZWB+H/DK7DycQC/pj5zZXTLq9NJfpkZNFv6+90J2G\n",
              "L2T65VKsxJoPlnRUvK1QA/zwnm7S2vzc3YsVVJIoUh5SqAj5aKoMEVMVuuJZOgbTtNZEaCh0vBgf\n",
              "kVYVkdt+9TLt/e70ubgvHPbLDGV0KkOuGMIr3UkEUcCxHc5dXcHX33HmpNPftsL0eCA1N1/88YGy\n",
              "uT7/bMfymfv3lJYaxRuLtxSYyJL12ODul37x6jN4/cYa3vvvz83Le5y7upxM3qShPMj/+Z+b+Off\n",
              "vEp7fxrbcdjXm0QQBEKqTFtfim/+YX8pMn0sRc6mymBJWfOTv9jN5pVlRP0yectGM+0p86rneo94\n",
              "fOR8Ifegl2ol1nywpA0b3C/mlpXlSMB86JN2j+TZ2BBDN21EwZ2+fvm3+3ju4DAZ3aI8qJDTLfqS\n",
              "Gp1DWT5134vccHHLmOqpqYylIuRjb2+Sg0PZMaL3m1bEpp3+zrf0z0JJCy3VSqz5YFn8RUzLnjK/\n",
              "+kRJ5U16RnJsqI8SUWUiqtvbuTbmR5FFhjM6z3TGEYDykI9X+1K8/0fP0VwZpCaqlqaykxmLYdnc\n",
              "/cdOgj4JI6CQyrkBs2svaF6WU8+lWok1HywLw5YlkXBAYiQ39z7bJ4usK+wTK5JIPKMzlNFpLA+x\n",
              "shye7xp2Az1hP2c0xHixO0EqZ9JSHTrmdlFx6rmyIkirLJLMGzgOUzZ+Xw546agzY1kYdkXIx3mr\n",
              "K/nty/1zet5YQOZLV2/motaq0hds9HSxJqpSF/UjSyKVIQXDdkjl3JLFyrAfnyxNu0aMqDJ+WeSZ\n",
              "jjjCMSLiy4nloDJ6oiyL250iibxxU/2cnEukUB4pCVy2oWaMURff6/pta2ipCZM3LFrroty6/XTW\n",
              "1UUxbZuKQqO5ojzvMSujSnsWwsySzD08WCYe27Bs/nPXkRM6hywKrpJnoaoq4pf5u/MnX+tONl3c\n",
              "1lpV6tl89+OdM1ojpvImmmVzzuoKgopEttBv2osCexyLZWHY8YzOK93Hny8e8cuEVYmMZrG5MUYy\n",
              "b7K+NsLmxtiUrxk/XSz+XhHyzXiNOH5aP75ljofHVCyLqTiAIxz/PFYzLRI5A9tx0Eyb0+qjM65f\n",
              "noyZqnWMn9Z7UWCPmbIsbv0VIR8b66PsSA0e1+sNy0EQwKeIRFXluIoqjhcvCuxxPCyLb4kiibzl\n",
              "jOMLnrmCByLVERUEgZd7kie96GGp6XF5zD8L3gkE4MEHH2TDhg20trZy9dVXk0wm53QshmWzc//s\n",
              "vbVUiH4rkogwbykuHh5zz7y6gPe+973s27ePF154gSuvvJLrrrtuwjHpdJr3vOc9PPDAA+zfv5+G\n",
              "hgY+//nPz+k4ipK3s0UQYNOKGIoozlr0z8NjIZk3wy52Aik2Xz///PPp7OyccNzDDz/MmWeeyYYN\n",
              "GwD4wAc+wD333DOnY+lP5TkUz836dTURP7dtP51LN9SwvjbCpRtquPHy9d6U2GPRs+CdQLq6umhq\n",
              "air93tzcTE9PD6ZpIssTh3c8nUCK+daKCLPRHHjna5vZ1FjGF6+OesErj1OKk/ItLXYCuf3220/4\n",
              "XLfffjuxWGzMz9NPPz3l8cV866bKEOeuLp/x+6gSvOM1qwAveOVx6rHgnUBWrVrFwYMHS793dnZS\n",
              "X18/qbeG2XcCGS3xE1FntjYOKgI3X7GJWMBbS3ucmix4J5A3vvGNPPfcc+zduxeAb33rW1xzzTVT\n",
              "nnO2nUBGJ3kUtbUrA+5lizAmi0sCtjbGeOyTl/G35zdNfkIPj1OABe8EEolEuOuuu7jqqqswTZNN\n",
              "mzbxgx/8YE7HMj7Joz+Z58afvUBAkdjXlyLok3AcOL0hiiDMvp+Vh8diY94Mu7Gxkank1D73uc+N\n",
              "+X379u1s3759voYCjM3dromqNFWGaOtLIQoCibxBechHImfQWhvxcrE9TnmWpWsqTs/X1kZYURag\n",
              "JqqyoixQEtb3gmQepzrL1jWNnp6rikjesL3tLI8lw7I1bBg7PQ96AXCPJYTnnjw8liCeYXt4LEE8\n",
              "w/bwWIJ4hu3hsQRZEr27rr76apqbm8c8ZlkWTz/9NOedd960mWmnCkvpepbStcDJvZ6mpiY+8pGP\n",
              "HPO4JWHYk5FMJonFYiQSCaLR6EIP54RZStezlK4FFuf1eFNxD48liGfYHh5LEM+wPTyWIEvWsP1+\n",
              "P7fccgt+v3+hhzInLKXrWUrXAovzepZs8MzDYzmzZD22h8dyxjNsD48liGfYHh5LkCVp2Pv37+eC\n",
              "Cy5g3bp1nHvuubz00ksLPaRp+fCHP0xzczOCILBr167S49Ndx2K+xum6wPT39/PGN76R1tZWNm3a\n",
              "xGOPPVZ63XTPLSSXX345mzdvZuvWrWzbto3nn38eWOSfj7MEufTSS527777bcRzH+dnPfuacc845\n",
              "CzugY7Bjxw7n0KFDTlNTk/P888+XHp/uOhbzNeZyOefXv/61Y9u24ziO841vfMO5+OKLHcdxnGuv\n",
              "vda55ZZbHMdxnKefftpZsWKFo+v6MZ9bSIaHh0v/vu+++5zNmzc7jrO4P58lZ9h9fX1OJBJxDMNw\n",
              "HMdxbNt2amtrnf379y/wyI7NaMOe7jpOtWt85plnnKamJsdxHCcUCjk9PT2l584991znd7/73TGf\n",
              "WyzcfffdzpYtWxb957PkFFQOHTo0RpdcEARWrVpFV1cXa9euXeDRzZzpriMWi51S11jsAjM0NIRh\n",
              "GNTV1ZWea25upqura9rnFgPvfOc7eeSRRwB46KGHFv3nsyTX2B6Lh7nsArOQ/PCHP+TQoUN84Qtf\n",
              "4JOf/ORCD+eYLDnDXrlyZan3F4DjOHR1dbFq1aoFHtnsmO46TpVrHN8FprKyElmW6e3tLR3T2dnJ\n",
              "qlWrpn1uMfGud72LRx55hMbGxkX9+Sw5w66pqeGss87iP/7jPwD4xS9+QWNj46Kcok7HdNdxKlzj\n",
              "VF1g3va2t3HnnXcC8Mwzz3DkyBEuvvjiYz63UIyMjNDd3V36/YEHHqCysnLxfz4nbTV/Etm7d69z\n",
              "/vnnO62trc7ZZ5/t7N69e6GHNC3vfe97nRUrVjiSJDk1NTVOS0uL4zjTX8divsZDhw45gLNmzRpn\n",
              "y5YtzpYtW5zzzjvPcRzH6e3tdV7/+tc7a9eudTZu3Oj84Q9/KL1uuucWis7OTufcc891Nm3a5Gze\n",
              "vNn5i7/4i1KAczF/Pl6uuIfHEmTJTcU9PDw8w/bwWJJ4hr1M+M///E9OO+00tm7dSmVl5ZjU1fnk\n",
              "q1/96phI96233spHP/rRk/LeyxnPsJcJd955J5/97GfZtWsXkUjkpL3veMP2ODl4hr0M+PCHP8zO\n",
              "nTv51Kc+xQUXXDDlcc888wyXXXYZ55xzDmeeeSY/+9nPAHc/uaysjFtuuYWzzz6btWvX8tBDD5Ve\n",
              "V5wNbNmyhU9+8pNUVVXR2dnJ5z73Obq7u3n729/O1q1bS7OEnp4errjiCjZu3Mhll11GPB6f1+tf\n",
              "lpzUGLzHgnHxxRc7999/v+M4zoRiE8dxCx22bt3qdHd3O47jOAMDA87KlSudw4cPOx0dHQ7g/Pzn\n",
              "P3ccx3EefvhhZ926dY7juDntFRUVziuvvOI4juP867/+qwM4HR0dk77XLbfc4jQ1NTmDg4OO4zjO\n",
              "29/+dueLX/ziPF318sXz2B4APPHEExw4cIA3velNbN26lde97nUA7Nu3DwBVVbn66qsBeO1rX0t7\n",
              "ezsATz75JJs3b2bDhg2Am5nl803fuvSNb3wjlZWVE87lMXcsuSIQj+PDcRxOP/10nnjiiQnPdXZ2\n",
              "4vf7EQQBAEmSsCzruN9LVdXSvyVJKqVeeswdnsf2AOCCCy6go6OD//7v/y49tmvXLnRdn/Z1559/\n",
              "Prt37y559v/4j/8Y85poNEoikZifQXtMieexlylveMMbUBSl9PuTTz7Jr3/9az7+8Y9z4403YhgG\n",
              "q1at4oEHHpj2PDU1Ndx1111cddVV+P1+Xv/61xMOh0v54R/+8Ie5/vrrCQaD/Nu//dv8XZDHGLyU\n",
              "Uo8TJpVKlbbQHnjgAW666SZeeeWVBR7V8sbz2B4nzDe+8Q1++tOfYlkW0WiUH/3oRws9pGWP57E9\n",
              "PJYgXvDMw2MJ4hm2h8cSxDNsD48liGfYHh5LEM+wPTyWIJ5he3gsQTzD9vBYgniG7eGxBPEM28Nj\n",
              "CfL/A0GR57b2HYixAAAAAElFTkSuQmCC\n",
              "\">\n",
              "        \n",
              "      </div>\n",
              "      <script></script>\n",
              "      <script type=\"text/javascript\">\n",
              "        (() => {\n",
              "          const chartElement = document.getElementById(\"chart-2f11d843-8ee5-4113-8dec-7d5d58288401\");\n",
              "          async function getCodeForChartHandler(event) {\n",
              "            const chartCodeResponse =  await google.colab.kernel.invokeFunction(\n",
              "                'getCodeForChart', [\"chart-2f11d843-8ee5-4113-8dec-7d5d58288401\"], {});\n",
              "            const responseJson = chartCodeResponse.data['application/json'];\n",
              "            await google.colab.notebook.addCell(responseJson.code, 'code');\n",
              "          }\n",
              "          chartElement.onclick = getCodeForChartHandler;\n",
              "        })();\n",
              "      </script>\n",
              "      <style>\n",
              "        .colab-quickchart-chart-with-code  {\n",
              "            display: block;\n",
              "            float: left;\n",
              "            border: 1px solid transparent;\n",
              "        }\n",
              "\n",
              "        .colab-quickchart-chart-with-code:hover {\n",
              "            cursor: pointer;\n",
              "            border: 1px solid #aaa;\n",
              "        }\n",
              "      </style>"
            ],
            "text/plain": [
              "import numpy as np\n",
              "from google.colab import autoviz\n",
              "df_7445405500556573315 = autoviz.get_registered_df('df_7445405500556573315')\n",
              "\n",
              "def scatter_plots(df, colname_pairs, scatter_plot_size=2.5, size=8, alpha=.6):\n",
              "  from matplotlib import pyplot as plt\n",
              "  plt.figure(figsize=(len(colname_pairs) * scatter_plot_size, scatter_plot_size))\n",
              "  for plot_i, (x_colname, y_colname) in enumerate(colname_pairs, start=1):\n",
              "    ax = plt.subplot(1, len(colname_pairs), plot_i)\n",
              "    ax.scatter(df[x_colname], df[y_colname], s=size, alpha=alpha)\n",
              "    plt.xlabel(x_colname)\n",
              "    plt.ylabel(y_colname)\n",
              "    ax.spines[['top', 'right',]].set_visible(False)\n",
              "  plt.tight_layout()\n",
              "  return autoviz.MplChart.from_current_mpl_state()\n",
              "\n",
              "chart = scatter_plots(df_7445405500556573315, *[[['fLength', 'fSize']]], **{})\n",
              "chart"
            ]
          },
          "metadata": {},
          "output_type": "display_data"
        }
      ],
      "source": [
        "df[['fLength','fSize']]"
      ]
    },
    {
      "cell_type": "code",
      "execution_count": 6,
      "metadata": {
        "id": "nDYOIBgA0eZJ"
      },
      "outputs": [],
      "source": [
        "train,valid,test = np.split(df.sample(frac=1),[int(0.6*len(df)),int(0.8*len(df))])"
      ]
    },
    {
      "cell_type": "code",
      "execution_count": 7,
      "metadata": {
        "id": "ww8ut9zADIuF"
      },
      "outputs": [],
      "source": [
        "import sklearn.preprocessing"
      ]
    },
    {
      "cell_type": "code",
      "source": [
        "from imblearn.over_sampling import RandomOverSampler"
      ],
      "metadata": {
        "id": "nnPAuOYaYI_H"
      },
      "execution_count": 13,
      "outputs": []
    },
    {
      "cell_type": "code",
      "execution_count": 14,
      "metadata": {
        "id": "F0mZEAq9DLz_"
      },
      "outputs": [],
      "source": [
        "from sklearn.preprocessing import StandardScaler"
      ]
    },
    {
      "cell_type": "code",
      "execution_count": 15,
      "metadata": {
        "id": "Rdw87a5XB2L-"
      },
      "outputs": [],
      "source": [
        "def scale_dataset(dataframe, oversample = False):\n",
        "  X = dataframe[dataframe.columns[:-1]].values\n",
        "  y = dataframe[dataframe.columns[-1]].values\n",
        "\n",
        "  scaler = StandardScaler()\n",
        "  X = scaler.fit_transform(X)\n",
        "\n",
        "  if oversample:\n",
        "    ros = RandomOverSampler()\n",
        "    X, y = ros.fit_resample(X,y)\n",
        "\n",
        "  data = np.hstack((X,np.reshape(y,(-1,1))))\n",
        "\n",
        "  return data, X, y\n"
      ]
    },
    {
      "cell_type": "code",
      "execution_count": null,
      "metadata": {
        "colab": {
          "base_uri": "https://localhost:8080/",
          "height": 424
        },
        "id": "fwExPXgmhUse",
        "outputId": "83571937-e3ad-4cd1-cae7-569611b19ef1"
      },
      "outputs": [
        {
          "data": {
            "text/html": [
              "\n",
              "\n",
              "  <div id=\"df-93183150-52c7-414e-8a71-4bdd8be27bd8\">\n",
              "    <div class=\"colab-df-container\">\n",
              "      <div>\n",
              "<style scoped>\n",
              "    .dataframe tbody tr th:only-of-type {\n",
              "        vertical-align: middle;\n",
              "    }\n",
              "\n",
              "    .dataframe tbody tr th {\n",
              "        vertical-align: top;\n",
              "    }\n",
              "\n",
              "    .dataframe thead th {\n",
              "        text-align: right;\n",
              "    }\n",
              "</style>\n",
              "<table border=\"1\" class=\"dataframe\">\n",
              "  <thead>\n",
              "    <tr style=\"text-align: right;\">\n",
              "      <th></th>\n",
              "      <th>Unnamed: 0</th>\n",
              "      <th>fLength</th>\n",
              "      <th>fWidth</th>\n",
              "      <th>fSize</th>\n",
              "      <th>fConc</th>\n",
              "      <th>fConc1</th>\n",
              "      <th>fAsym</th>\n",
              "      <th>fM3Long</th>\n",
              "      <th>fM3Trans</th>\n",
              "      <th>fAlpha</th>\n",
              "      <th>fDist</th>\n",
              "      <th>class</th>\n",
              "    </tr>\n",
              "  </thead>\n",
              "  <tbody>\n",
              "    <tr>\n",
              "      <th>3672</th>\n",
              "      <td>3672</td>\n",
              "      <td>34.3446</td>\n",
              "      <td>18.1795</td>\n",
              "      <td>2.7271</td>\n",
              "      <td>0.3955</td>\n",
              "      <td>0.2165</td>\n",
              "      <td>35.3808</td>\n",
              "      <td>28.1979</td>\n",
              "      <td>11.4743</td>\n",
              "      <td>13.5225</td>\n",
              "      <td>137.7770</td>\n",
              "      <td>1</td>\n",
              "    </tr>\n",
              "    <tr>\n",
              "      <th>367</th>\n",
              "      <td>367</td>\n",
              "      <td>18.8932</td>\n",
              "      <td>15.3311</td>\n",
              "      <td>2.4822</td>\n",
              "      <td>0.5239</td>\n",
              "      <td>0.3245</td>\n",
              "      <td>3.9150</td>\n",
              "      <td>-16.1011</td>\n",
              "      <td>-9.6919</td>\n",
              "      <td>14.7100</td>\n",
              "      <td>170.6150</td>\n",
              "      <td>1</td>\n",
              "    </tr>\n",
              "    <tr>\n",
              "      <th>13489</th>\n",
              "      <td>13489</td>\n",
              "      <td>43.8997</td>\n",
              "      <td>12.6323</td>\n",
              "      <td>2.7868</td>\n",
              "      <td>0.3105</td>\n",
              "      <td>0.1642</td>\n",
              "      <td>11.1747</td>\n",
              "      <td>26.8231</td>\n",
              "      <td>-9.8672</td>\n",
              "      <td>24.8735</td>\n",
              "      <td>144.9970</td>\n",
              "      <td>0</td>\n",
              "    </tr>\n",
              "    <tr>\n",
              "      <th>14550</th>\n",
              "      <td>14550</td>\n",
              "      <td>63.4161</td>\n",
              "      <td>35.3313</td>\n",
              "      <td>3.2855</td>\n",
              "      <td>0.2305</td>\n",
              "      <td>0.1543</td>\n",
              "      <td>-126.2016</td>\n",
              "      <td>47.0832</td>\n",
              "      <td>-21.3850</td>\n",
              "      <td>35.4344</td>\n",
              "      <td>242.1981</td>\n",
              "      <td>0</td>\n",
              "    </tr>\n",
              "    <tr>\n",
              "      <th>17024</th>\n",
              "      <td>17024</td>\n",
              "      <td>23.4398</td>\n",
              "      <td>11.1314</td>\n",
              "      <td>2.4939</td>\n",
              "      <td>0.6447</td>\n",
              "      <td>0.3615</td>\n",
              "      <td>26.5636</td>\n",
              "      <td>24.5997</td>\n",
              "      <td>-0.6816</td>\n",
              "      <td>36.5224</td>\n",
              "      <td>129.8960</td>\n",
              "      <td>0</td>\n",
              "    </tr>\n",
              "    <tr>\n",
              "      <th>...</th>\n",
              "      <td>...</td>\n",
              "      <td>...</td>\n",
              "      <td>...</td>\n",
              "      <td>...</td>\n",
              "      <td>...</td>\n",
              "      <td>...</td>\n",
              "      <td>...</td>\n",
              "      <td>...</td>\n",
              "      <td>...</td>\n",
              "      <td>...</td>\n",
              "      <td>...</td>\n",
              "      <td>...</td>\n",
              "    </tr>\n",
              "    <tr>\n",
              "      <th>9835</th>\n",
              "      <td>9835</td>\n",
              "      <td>28.6800</td>\n",
              "      <td>11.3248</td>\n",
              "      <td>2.4023</td>\n",
              "      <td>0.4713</td>\n",
              "      <td>0.2436</td>\n",
              "      <td>27.6661</td>\n",
              "      <td>24.5807</td>\n",
              "      <td>-6.2009</td>\n",
              "      <td>46.6020</td>\n",
              "      <td>136.0670</td>\n",
              "      <td>1</td>\n",
              "    </tr>\n",
              "    <tr>\n",
              "      <th>14531</th>\n",
              "      <td>14531</td>\n",
              "      <td>158.0310</td>\n",
              "      <td>49.8927</td>\n",
              "      <td>3.2558</td>\n",
              "      <td>0.2913</td>\n",
              "      <td>0.1518</td>\n",
              "      <td>-80.6675</td>\n",
              "      <td>-161.1670</td>\n",
              "      <td>26.1550</td>\n",
              "      <td>32.9065</td>\n",
              "      <td>380.7020</td>\n",
              "      <td>0</td>\n",
              "    </tr>\n",
              "    <tr>\n",
              "      <th>4460</th>\n",
              "      <td>4460</td>\n",
              "      <td>58.3577</td>\n",
              "      <td>26.2015</td>\n",
              "      <td>3.4777</td>\n",
              "      <td>0.1644</td>\n",
              "      <td>0.0841</td>\n",
              "      <td>44.1391</td>\n",
              "      <td>45.0066</td>\n",
              "      <td>10.9316</td>\n",
              "      <td>3.8040</td>\n",
              "      <td>239.9970</td>\n",
              "      <td>1</td>\n",
              "    </tr>\n",
              "    <tr>\n",
              "      <th>5327</th>\n",
              "      <td>5327</td>\n",
              "      <td>27.8673</td>\n",
              "      <td>16.6744</td>\n",
              "      <td>2.6212</td>\n",
              "      <td>0.3373</td>\n",
              "      <td>0.1734</td>\n",
              "      <td>-29.7214</td>\n",
              "      <td>-8.9236</td>\n",
              "      <td>-14.2996</td>\n",
              "      <td>21.1510</td>\n",
              "      <td>192.5900</td>\n",
              "      <td>1</td>\n",
              "    </tr>\n",
              "    <tr>\n",
              "      <th>15198</th>\n",
              "      <td>15198</td>\n",
              "      <td>35.7498</td>\n",
              "      <td>19.0402</td>\n",
              "      <td>2.4419</td>\n",
              "      <td>0.4282</td>\n",
              "      <td>0.2456</td>\n",
              "      <td>-3.1013</td>\n",
              "      <td>7.0150</td>\n",
              "      <td>-5.4350</td>\n",
              "      <td>78.4116</td>\n",
              "      <td>142.7194</td>\n",
              "      <td>0</td>\n",
              "    </tr>\n",
              "  </tbody>\n",
              "</table>\n",
              "<p>11412 rows × 12 columns</p>\n",
              "</div>\n",
              "      <button class=\"colab-df-convert\" onclick=\"convertToInteractive('df-93183150-52c7-414e-8a71-4bdd8be27bd8')\"\n",
              "              title=\"Convert this dataframe to an interactive table.\"\n",
              "              style=\"display:none;\">\n",
              "\n",
              "  <svg xmlns=\"http://www.w3.org/2000/svg\" height=\"24px\"viewBox=\"0 0 24 24\"\n",
              "       width=\"24px\">\n",
              "    <path d=\"M0 0h24v24H0V0z\" fill=\"none\"/>\n",
              "    <path d=\"M18.56 5.44l.94 2.06.94-2.06 2.06-.94-2.06-.94-.94-2.06-.94 2.06-2.06.94zm-11 1L8.5 8.5l.94-2.06 2.06-.94-2.06-.94L8.5 2.5l-.94 2.06-2.06.94zm10 10l.94 2.06.94-2.06 2.06-.94-2.06-.94-.94-2.06-.94 2.06-2.06.94z\"/><path d=\"M17.41 7.96l-1.37-1.37c-.4-.4-.92-.59-1.43-.59-.52 0-1.04.2-1.43.59L10.3 9.45l-7.72 7.72c-.78.78-.78 2.05 0 2.83L4 21.41c.39.39.9.59 1.41.59.51 0 1.02-.2 1.41-.59l7.78-7.78 2.81-2.81c.8-.78.8-2.07 0-2.86zM5.41 20L4 18.59l7.72-7.72 1.47 1.35L5.41 20z\"/>\n",
              "  </svg>\n",
              "      </button>\n",
              "\n",
              "\n",
              "\n",
              "    <div id=\"df-f4055edf-df0f-4283-826f-ad868845aefb\">\n",
              "      <button class=\"colab-df-quickchart\" onclick=\"quickchart('df-f4055edf-df0f-4283-826f-ad868845aefb')\"\n",
              "              title=\"Suggest charts.\"\n",
              "              style=\"display:none;\">\n",
              "\n",
              "<svg xmlns=\"http://www.w3.org/2000/svg\" height=\"24px\"viewBox=\"0 0 24 24\"\n",
              "     width=\"24px\">\n",
              "    <g>\n",
              "        <path d=\"M19 3H5c-1.1 0-2 .9-2 2v14c0 1.1.9 2 2 2h14c1.1 0 2-.9 2-2V5c0-1.1-.9-2-2-2zM9 17H7v-7h2v7zm4 0h-2V7h2v10zm4 0h-2v-4h2v4z\"/>\n",
              "    </g>\n",
              "</svg>\n",
              "      </button>\n",
              "    </div>\n",
              "\n",
              "<style>\n",
              "  .colab-df-quickchart {\n",
              "    background-color: #E8F0FE;\n",
              "    border: none;\n",
              "    border-radius: 50%;\n",
              "    cursor: pointer;\n",
              "    display: none;\n",
              "    fill: #1967D2;\n",
              "    height: 32px;\n",
              "    padding: 0 0 0 0;\n",
              "    width: 32px;\n",
              "  }\n",
              "\n",
              "  .colab-df-quickchart:hover {\n",
              "    background-color: #E2EBFA;\n",
              "    box-shadow: 0px 1px 2px rgba(60, 64, 67, 0.3), 0px 1px 3px 1px rgba(60, 64, 67, 0.15);\n",
              "    fill: #174EA6;\n",
              "  }\n",
              "\n",
              "  [theme=dark] .colab-df-quickchart {\n",
              "    background-color: #3B4455;\n",
              "    fill: #D2E3FC;\n",
              "  }\n",
              "\n",
              "  [theme=dark] .colab-df-quickchart:hover {\n",
              "    background-color: #434B5C;\n",
              "    box-shadow: 0px 1px 3px 1px rgba(0, 0, 0, 0.15);\n",
              "    filter: drop-shadow(0px 1px 2px rgba(0, 0, 0, 0.3));\n",
              "    fill: #FFFFFF;\n",
              "  }\n",
              "</style>\n",
              "\n",
              "    <script>\n",
              "      async function quickchart(key) {\n",
              "        const containerElement = document.querySelector('#' + key);\n",
              "        const charts = await google.colab.kernel.invokeFunction(\n",
              "            'suggestCharts', [key], {});\n",
              "      }\n",
              "    </script>\n",
              "\n",
              "      <script>\n",
              "\n",
              "function displayQuickchartButton(domScope) {\n",
              "  let quickchartButtonEl =\n",
              "    domScope.querySelector('#df-f4055edf-df0f-4283-826f-ad868845aefb button.colab-df-quickchart');\n",
              "  quickchartButtonEl.style.display =\n",
              "    google.colab.kernel.accessAllowed ? 'block' : 'none';\n",
              "}\n",
              "\n",
              "        displayQuickchartButton(document);\n",
              "      </script>\n",
              "      <style>\n",
              "    .colab-df-container {\n",
              "      display:flex;\n",
              "      flex-wrap:wrap;\n",
              "      gap: 12px;\n",
              "    }\n",
              "\n",
              "    .colab-df-convert {\n",
              "      background-color: #E8F0FE;\n",
              "      border: none;\n",
              "      border-radius: 50%;\n",
              "      cursor: pointer;\n",
              "      display: none;\n",
              "      fill: #1967D2;\n",
              "      height: 32px;\n",
              "      padding: 0 0 0 0;\n",
              "      width: 32px;\n",
              "    }\n",
              "\n",
              "    .colab-df-convert:hover {\n",
              "      background-color: #E2EBFA;\n",
              "      box-shadow: 0px 1px 2px rgba(60, 64, 67, 0.3), 0px 1px 3px 1px rgba(60, 64, 67, 0.15);\n",
              "      fill: #174EA6;\n",
              "    }\n",
              "\n",
              "    [theme=dark] .colab-df-convert {\n",
              "      background-color: #3B4455;\n",
              "      fill: #D2E3FC;\n",
              "    }\n",
              "\n",
              "    [theme=dark] .colab-df-convert:hover {\n",
              "      background-color: #434B5C;\n",
              "      box-shadow: 0px 1px 3px 1px rgba(0, 0, 0, 0.15);\n",
              "      filter: drop-shadow(0px 1px 2px rgba(0, 0, 0, 0.3));\n",
              "      fill: #FFFFFF;\n",
              "    }\n",
              "  </style>\n",
              "\n",
              "      <script>\n",
              "        const buttonEl =\n",
              "          document.querySelector('#df-93183150-52c7-414e-8a71-4bdd8be27bd8 button.colab-df-convert');\n",
              "        buttonEl.style.display =\n",
              "          google.colab.kernel.accessAllowed ? 'block' : 'none';\n",
              "\n",
              "        async function convertToInteractive(key) {\n",
              "          const element = document.querySelector('#df-93183150-52c7-414e-8a71-4bdd8be27bd8');\n",
              "          const dataTable =\n",
              "            await google.colab.kernel.invokeFunction('convertToInteractive',\n",
              "                                                     [key], {});\n",
              "          if (!dataTable) return;\n",
              "\n",
              "          const docLinkHtml = 'Like what you see? Visit the ' +\n",
              "            '<a target=\"_blank\" href=https://colab.research.google.com/notebooks/data_table.ipynb>data table notebook</a>'\n",
              "            + ' to learn more about interactive tables.';\n",
              "          element.innerHTML = '';\n",
              "          dataTable['output_type'] = 'display_data';\n",
              "          await google.colab.output.renderOutput(dataTable, element);\n",
              "          const docLink = document.createElement('div');\n",
              "          docLink.innerHTML = docLinkHtml;\n",
              "          element.appendChild(docLink);\n",
              "        }\n",
              "      </script>\n",
              "    </div>\n",
              "  </div>\n"
            ],
            "text/plain": [
              "       Unnamed: 0   fLength   fWidth   fSize   fConc  fConc1     fAsym  \\\n",
              "3672         3672   34.3446  18.1795  2.7271  0.3955  0.2165   35.3808   \n",
              "367           367   18.8932  15.3311  2.4822  0.5239  0.3245    3.9150   \n",
              "13489       13489   43.8997  12.6323  2.7868  0.3105  0.1642   11.1747   \n",
              "14550       14550   63.4161  35.3313  3.2855  0.2305  0.1543 -126.2016   \n",
              "17024       17024   23.4398  11.1314  2.4939  0.6447  0.3615   26.5636   \n",
              "...           ...       ...      ...     ...     ...     ...       ...   \n",
              "9835         9835   28.6800  11.3248  2.4023  0.4713  0.2436   27.6661   \n",
              "14531       14531  158.0310  49.8927  3.2558  0.2913  0.1518  -80.6675   \n",
              "4460         4460   58.3577  26.2015  3.4777  0.1644  0.0841   44.1391   \n",
              "5327         5327   27.8673  16.6744  2.6212  0.3373  0.1734  -29.7214   \n",
              "15198       15198   35.7498  19.0402  2.4419  0.4282  0.2456   -3.1013   \n",
              "\n",
              "        fM3Long  fM3Trans   fAlpha     fDist  class  \n",
              "3672    28.1979   11.4743  13.5225  137.7770      1  \n",
              "367    -16.1011   -9.6919  14.7100  170.6150      1  \n",
              "13489   26.8231   -9.8672  24.8735  144.9970      0  \n",
              "14550   47.0832  -21.3850  35.4344  242.1981      0  \n",
              "17024   24.5997   -0.6816  36.5224  129.8960      0  \n",
              "...         ...       ...      ...       ...    ...  \n",
              "9835    24.5807   -6.2009  46.6020  136.0670      1  \n",
              "14531 -161.1670   26.1550  32.9065  380.7020      0  \n",
              "4460    45.0066   10.9316   3.8040  239.9970      1  \n",
              "5327    -8.9236  -14.2996  21.1510  192.5900      1  \n",
              "15198    7.0150   -5.4350  78.4116  142.7194      0  \n",
              "\n",
              "[11412 rows x 12 columns]"
            ]
          },
          "execution_count": 110,
          "metadata": {},
          "output_type": "execute_result"
        }
      ],
      "source": [
        "train"
      ]
    },
    {
      "cell_type": "code",
      "execution_count": null,
      "metadata": {
        "colab": {
          "base_uri": "https://localhost:8080/",
          "height": 206
        },
        "id": "U6Sjg5OhiAyu",
        "outputId": "9dd5e07c-9247-4bc6-ea41-570f56d0e53f"
      },
      "outputs": [
        {
          "data": {
            "text/html": [
              "\n",
              "\n",
              "  <div id=\"df-2c1edfc3-a84e-4730-a8cd-7a33f71ed673\">\n",
              "    <div class=\"colab-df-container\">\n",
              "      <div>\n",
              "<style scoped>\n",
              "    .dataframe tbody tr th:only-of-type {\n",
              "        vertical-align: middle;\n",
              "    }\n",
              "\n",
              "    .dataframe tbody tr th {\n",
              "        vertical-align: top;\n",
              "    }\n",
              "\n",
              "    .dataframe thead th {\n",
              "        text-align: right;\n",
              "    }\n",
              "</style>\n",
              "<table border=\"1\" class=\"dataframe\">\n",
              "  <thead>\n",
              "    <tr style=\"text-align: right;\">\n",
              "      <th></th>\n",
              "      <th>Unnamed: 0</th>\n",
              "      <th>fLength</th>\n",
              "      <th>fWidth</th>\n",
              "      <th>fSize</th>\n",
              "      <th>fConc</th>\n",
              "      <th>fConc1</th>\n",
              "      <th>fAsym</th>\n",
              "      <th>fM3Long</th>\n",
              "      <th>fM3Trans</th>\n",
              "      <th>fAlpha</th>\n",
              "      <th>fDist</th>\n",
              "      <th>class</th>\n",
              "    </tr>\n",
              "  </thead>\n",
              "  <tbody>\n",
              "    <tr>\n",
              "      <th>6137</th>\n",
              "      <td>6137</td>\n",
              "      <td>34.4717</td>\n",
              "      <td>15.4518</td>\n",
              "      <td>2.7903</td>\n",
              "      <td>0.3063</td>\n",
              "      <td>0.1629</td>\n",
              "      <td>-3.1478</td>\n",
              "      <td>-19.8879</td>\n",
              "      <td>-9.2102</td>\n",
              "      <td>8.3289</td>\n",
              "      <td>133.084</td>\n",
              "      <td>1</td>\n",
              "    </tr>\n",
              "    <tr>\n",
              "      <th>7972</th>\n",
              "      <td>7972</td>\n",
              "      <td>57.0139</td>\n",
              "      <td>30.3512</td>\n",
              "      <td>3.4740</td>\n",
              "      <td>0.1867</td>\n",
              "      <td>0.0989</td>\n",
              "      <td>-8.8212</td>\n",
              "      <td>-41.8256</td>\n",
              "      <td>20.6380</td>\n",
              "      <td>2.6075</td>\n",
              "      <td>207.457</td>\n",
              "      <td>1</td>\n",
              "    </tr>\n",
              "    <tr>\n",
              "      <th>11734</th>\n",
              "      <td>11734</td>\n",
              "      <td>66.9069</td>\n",
              "      <td>24.5527</td>\n",
              "      <td>2.9258</td>\n",
              "      <td>0.2728</td>\n",
              "      <td>0.1429</td>\n",
              "      <td>70.9717</td>\n",
              "      <td>57.9597</td>\n",
              "      <td>22.2591</td>\n",
              "      <td>7.3110</td>\n",
              "      <td>208.270</td>\n",
              "      <td>1</td>\n",
              "    </tr>\n",
              "    <tr>\n",
              "      <th>9335</th>\n",
              "      <td>9335</td>\n",
              "      <td>41.5547</td>\n",
              "      <td>17.8223</td>\n",
              "      <td>2.8768</td>\n",
              "      <td>0.2776</td>\n",
              "      <td>0.1481</td>\n",
              "      <td>21.7585</td>\n",
              "      <td>21.6034</td>\n",
              "      <td>6.1443</td>\n",
              "      <td>26.5738</td>\n",
              "      <td>174.026</td>\n",
              "      <td>1</td>\n",
              "    </tr>\n",
              "    <tr>\n",
              "      <th>6457</th>\n",
              "      <td>6457</td>\n",
              "      <td>21.7700</td>\n",
              "      <td>16.4089</td>\n",
              "      <td>2.6370</td>\n",
              "      <td>0.4637</td>\n",
              "      <td>0.2434</td>\n",
              "      <td>-10.3676</td>\n",
              "      <td>11.8129</td>\n",
              "      <td>16.1668</td>\n",
              "      <td>12.2040</td>\n",
              "      <td>171.827</td>\n",
              "      <td>1</td>\n",
              "    </tr>\n",
              "  </tbody>\n",
              "</table>\n",
              "</div>\n",
              "      <button class=\"colab-df-convert\" onclick=\"convertToInteractive('df-2c1edfc3-a84e-4730-a8cd-7a33f71ed673')\"\n",
              "              title=\"Convert this dataframe to an interactive table.\"\n",
              "              style=\"display:none;\">\n",
              "\n",
              "  <svg xmlns=\"http://www.w3.org/2000/svg\" height=\"24px\"viewBox=\"0 0 24 24\"\n",
              "       width=\"24px\">\n",
              "    <path d=\"M0 0h24v24H0V0z\" fill=\"none\"/>\n",
              "    <path d=\"M18.56 5.44l.94 2.06.94-2.06 2.06-.94-2.06-.94-.94-2.06-.94 2.06-2.06.94zm-11 1L8.5 8.5l.94-2.06 2.06-.94-2.06-.94L8.5 2.5l-.94 2.06-2.06.94zm10 10l.94 2.06.94-2.06 2.06-.94-2.06-.94-.94-2.06-.94 2.06-2.06.94z\"/><path d=\"M17.41 7.96l-1.37-1.37c-.4-.4-.92-.59-1.43-.59-.52 0-1.04.2-1.43.59L10.3 9.45l-7.72 7.72c-.78.78-.78 2.05 0 2.83L4 21.41c.39.39.9.59 1.41.59.51 0 1.02-.2 1.41-.59l7.78-7.78 2.81-2.81c.8-.78.8-2.07 0-2.86zM5.41 20L4 18.59l7.72-7.72 1.47 1.35L5.41 20z\"/>\n",
              "  </svg>\n",
              "      </button>\n",
              "\n",
              "\n",
              "\n",
              "    <div id=\"df-fb8a8e9d-41df-4347-920e-334d61242d78\">\n",
              "      <button class=\"colab-df-quickchart\" onclick=\"quickchart('df-fb8a8e9d-41df-4347-920e-334d61242d78')\"\n",
              "              title=\"Suggest charts.\"\n",
              "              style=\"display:none;\">\n",
              "\n",
              "<svg xmlns=\"http://www.w3.org/2000/svg\" height=\"24px\"viewBox=\"0 0 24 24\"\n",
              "     width=\"24px\">\n",
              "    <g>\n",
              "        <path d=\"M19 3H5c-1.1 0-2 .9-2 2v14c0 1.1.9 2 2 2h14c1.1 0 2-.9 2-2V5c0-1.1-.9-2-2-2zM9 17H7v-7h2v7zm4 0h-2V7h2v10zm4 0h-2v-4h2v4z\"/>\n",
              "    </g>\n",
              "</svg>\n",
              "      </button>\n",
              "    </div>\n",
              "\n",
              "<style>\n",
              "  .colab-df-quickchart {\n",
              "    background-color: #E8F0FE;\n",
              "    border: none;\n",
              "    border-radius: 50%;\n",
              "    cursor: pointer;\n",
              "    display: none;\n",
              "    fill: #1967D2;\n",
              "    height: 32px;\n",
              "    padding: 0 0 0 0;\n",
              "    width: 32px;\n",
              "  }\n",
              "\n",
              "  .colab-df-quickchart:hover {\n",
              "    background-color: #E2EBFA;\n",
              "    box-shadow: 0px 1px 2px rgba(60, 64, 67, 0.3), 0px 1px 3px 1px rgba(60, 64, 67, 0.15);\n",
              "    fill: #174EA6;\n",
              "  }\n",
              "\n",
              "  [theme=dark] .colab-df-quickchart {\n",
              "    background-color: #3B4455;\n",
              "    fill: #D2E3FC;\n",
              "  }\n",
              "\n",
              "  [theme=dark] .colab-df-quickchart:hover {\n",
              "    background-color: #434B5C;\n",
              "    box-shadow: 0px 1px 3px 1px rgba(0, 0, 0, 0.15);\n",
              "    filter: drop-shadow(0px 1px 2px rgba(0, 0, 0, 0.3));\n",
              "    fill: #FFFFFF;\n",
              "  }\n",
              "</style>\n",
              "\n",
              "    <script>\n",
              "      async function quickchart(key) {\n",
              "        const containerElement = document.querySelector('#' + key);\n",
              "        const charts = await google.colab.kernel.invokeFunction(\n",
              "            'suggestCharts', [key], {});\n",
              "      }\n",
              "    </script>\n",
              "\n",
              "      <script>\n",
              "\n",
              "function displayQuickchartButton(domScope) {\n",
              "  let quickchartButtonEl =\n",
              "    domScope.querySelector('#df-fb8a8e9d-41df-4347-920e-334d61242d78 button.colab-df-quickchart');\n",
              "  quickchartButtonEl.style.display =\n",
              "    google.colab.kernel.accessAllowed ? 'block' : 'none';\n",
              "}\n",
              "\n",
              "        displayQuickchartButton(document);\n",
              "      </script>\n",
              "      <style>\n",
              "    .colab-df-container {\n",
              "      display:flex;\n",
              "      flex-wrap:wrap;\n",
              "      gap: 12px;\n",
              "    }\n",
              "\n",
              "    .colab-df-convert {\n",
              "      background-color: #E8F0FE;\n",
              "      border: none;\n",
              "      border-radius: 50%;\n",
              "      cursor: pointer;\n",
              "      display: none;\n",
              "      fill: #1967D2;\n",
              "      height: 32px;\n",
              "      padding: 0 0 0 0;\n",
              "      width: 32px;\n",
              "    }\n",
              "\n",
              "    .colab-df-convert:hover {\n",
              "      background-color: #E2EBFA;\n",
              "      box-shadow: 0px 1px 2px rgba(60, 64, 67, 0.3), 0px 1px 3px 1px rgba(60, 64, 67, 0.15);\n",
              "      fill: #174EA6;\n",
              "    }\n",
              "\n",
              "    [theme=dark] .colab-df-convert {\n",
              "      background-color: #3B4455;\n",
              "      fill: #D2E3FC;\n",
              "    }\n",
              "\n",
              "    [theme=dark] .colab-df-convert:hover {\n",
              "      background-color: #434B5C;\n",
              "      box-shadow: 0px 1px 3px 1px rgba(0, 0, 0, 0.15);\n",
              "      filter: drop-shadow(0px 1px 2px rgba(0, 0, 0, 0.3));\n",
              "      fill: #FFFFFF;\n",
              "    }\n",
              "  </style>\n",
              "\n",
              "      <script>\n",
              "        const buttonEl =\n",
              "          document.querySelector('#df-2c1edfc3-a84e-4730-a8cd-7a33f71ed673 button.colab-df-convert');\n",
              "        buttonEl.style.display =\n",
              "          google.colab.kernel.accessAllowed ? 'block' : 'none';\n",
              "\n",
              "        async function convertToInteractive(key) {\n",
              "          const element = document.querySelector('#df-2c1edfc3-a84e-4730-a8cd-7a33f71ed673');\n",
              "          const dataTable =\n",
              "            await google.colab.kernel.invokeFunction('convertToInteractive',\n",
              "                                                     [key], {});\n",
              "          if (!dataTable) return;\n",
              "\n",
              "          const docLinkHtml = 'Like what you see? Visit the ' +\n",
              "            '<a target=\"_blank\" href=https://colab.research.google.com/notebooks/data_table.ipynb>data table notebook</a>'\n",
              "            + ' to learn more about interactive tables.';\n",
              "          element.innerHTML = '';\n",
              "          dataTable['output_type'] = 'display_data';\n",
              "          await google.colab.output.renderOutput(dataTable, element);\n",
              "          const docLink = document.createElement('div');\n",
              "          docLink.innerHTML = docLinkHtml;\n",
              "          element.appendChild(docLink);\n",
              "        }\n",
              "      </script>\n",
              "    </div>\n",
              "  </div>\n"
            ],
            "text/plain": [
              "       Unnamed: 0  fLength   fWidth   fSize   fConc  fConc1    fAsym  fM3Long  \\\n",
              "6137         6137  34.4717  15.4518  2.7903  0.3063  0.1629  -3.1478 -19.8879   \n",
              "7972         7972  57.0139  30.3512  3.4740  0.1867  0.0989  -8.8212 -41.8256   \n",
              "11734       11734  66.9069  24.5527  2.9258  0.2728  0.1429  70.9717  57.9597   \n",
              "9335         9335  41.5547  17.8223  2.8768  0.2776  0.1481  21.7585  21.6034   \n",
              "6457         6457  21.7700  16.4089  2.6370  0.4637  0.2434 -10.3676  11.8129   \n",
              "\n",
              "       fM3Trans   fAlpha    fDist  class  \n",
              "6137    -9.2102   8.3289  133.084      1  \n",
              "7972    20.6380   2.6075  207.457      1  \n",
              "11734   22.2591   7.3110  208.270      1  \n",
              "9335     6.1443  26.5738  174.026      1  \n",
              "6457    16.1668  12.2040  171.827      1  "
            ]
          },
          "execution_count": 117,
          "metadata": {},
          "output_type": "execute_result"
        }
      ],
      "source": [
        "test.head()"
      ]
    },
    {
      "cell_type": "code",
      "execution_count": null,
      "metadata": {
        "colab": {
          "base_uri": "https://localhost:8080/",
          "height": 206
        },
        "id": "uqXZAUJLh9aO",
        "outputId": "d397fd90-0748-40fc-a159-cb9bce061d23"
      },
      "outputs": [
        {
          "data": {
            "text/html": [
              "\n",
              "\n",
              "  <div id=\"df-9c0e72b9-9619-4444-a6fd-befcade3c200\">\n",
              "    <div class=\"colab-df-container\">\n",
              "      <div>\n",
              "<style scoped>\n",
              "    .dataframe tbody tr th:only-of-type {\n",
              "        vertical-align: middle;\n",
              "    }\n",
              "\n",
              "    .dataframe tbody tr th {\n",
              "        vertical-align: top;\n",
              "    }\n",
              "\n",
              "    .dataframe thead th {\n",
              "        text-align: right;\n",
              "    }\n",
              "</style>\n",
              "<table border=\"1\" class=\"dataframe\">\n",
              "  <thead>\n",
              "    <tr style=\"text-align: right;\">\n",
              "      <th></th>\n",
              "      <th>Unnamed: 0</th>\n",
              "      <th>fLength</th>\n",
              "      <th>fWidth</th>\n",
              "      <th>fSize</th>\n",
              "      <th>fConc</th>\n",
              "      <th>fConc1</th>\n",
              "      <th>fAsym</th>\n",
              "      <th>fM3Long</th>\n",
              "      <th>fM3Trans</th>\n",
              "      <th>fAlpha</th>\n",
              "      <th>fDist</th>\n",
              "      <th>class</th>\n",
              "    </tr>\n",
              "  </thead>\n",
              "  <tbody>\n",
              "    <tr>\n",
              "      <th>13628</th>\n",
              "      <td>13628</td>\n",
              "      <td>99.6430</td>\n",
              "      <td>60.7624</td>\n",
              "      <td>3.1314</td>\n",
              "      <td>0.2627</td>\n",
              "      <td>0.1533</td>\n",
              "      <td>-38.2399</td>\n",
              "      <td>-74.2057</td>\n",
              "      <td>70.4102</td>\n",
              "      <td>12.6359</td>\n",
              "      <td>341.2119</td>\n",
              "      <td>0</td>\n",
              "    </tr>\n",
              "    <tr>\n",
              "      <th>9376</th>\n",
              "      <td>9376</td>\n",
              "      <td>29.3039</td>\n",
              "      <td>20.1568</td>\n",
              "      <td>2.5250</td>\n",
              "      <td>0.4149</td>\n",
              "      <td>0.2104</td>\n",
              "      <td>46.3511</td>\n",
              "      <td>-23.0844</td>\n",
              "      <td>11.8314</td>\n",
              "      <td>12.8835</td>\n",
              "      <td>166.3810</td>\n",
              "      <td>1</td>\n",
              "    </tr>\n",
              "    <tr>\n",
              "      <th>17118</th>\n",
              "      <td>17118</td>\n",
              "      <td>18.9319</td>\n",
              "      <td>10.9152</td>\n",
              "      <td>2.5315</td>\n",
              "      <td>0.6235</td>\n",
              "      <td>0.3426</td>\n",
              "      <td>-9.4961</td>\n",
              "      <td>17.3332</td>\n",
              "      <td>10.3192</td>\n",
              "      <td>27.7580</td>\n",
              "      <td>199.3200</td>\n",
              "      <td>0</td>\n",
              "    </tr>\n",
              "    <tr>\n",
              "      <th>12947</th>\n",
              "      <td>12947</td>\n",
              "      <td>26.8145</td>\n",
              "      <td>19.1915</td>\n",
              "      <td>2.7910</td>\n",
              "      <td>0.3447</td>\n",
              "      <td>0.1788</td>\n",
              "      <td>10.2884</td>\n",
              "      <td>-10.5870</td>\n",
              "      <td>-14.7578</td>\n",
              "      <td>66.3368</td>\n",
              "      <td>194.6160</td>\n",
              "      <td>0</td>\n",
              "    </tr>\n",
              "    <tr>\n",
              "      <th>3791</th>\n",
              "      <td>3791</td>\n",
              "      <td>28.8197</td>\n",
              "      <td>11.2873</td>\n",
              "      <td>2.3493</td>\n",
              "      <td>0.4832</td>\n",
              "      <td>0.2886</td>\n",
              "      <td>-25.6308</td>\n",
              "      <td>-24.3017</td>\n",
              "      <td>-8.2233</td>\n",
              "      <td>25.4210</td>\n",
              "      <td>117.6460</td>\n",
              "      <td>1</td>\n",
              "    </tr>\n",
              "  </tbody>\n",
              "</table>\n",
              "</div>\n",
              "      <button class=\"colab-df-convert\" onclick=\"convertToInteractive('df-9c0e72b9-9619-4444-a6fd-befcade3c200')\"\n",
              "              title=\"Convert this dataframe to an interactive table.\"\n",
              "              style=\"display:none;\">\n",
              "\n",
              "  <svg xmlns=\"http://www.w3.org/2000/svg\" height=\"24px\"viewBox=\"0 0 24 24\"\n",
              "       width=\"24px\">\n",
              "    <path d=\"M0 0h24v24H0V0z\" fill=\"none\"/>\n",
              "    <path d=\"M18.56 5.44l.94 2.06.94-2.06 2.06-.94-2.06-.94-.94-2.06-.94 2.06-2.06.94zm-11 1L8.5 8.5l.94-2.06 2.06-.94-2.06-.94L8.5 2.5l-.94 2.06-2.06.94zm10 10l.94 2.06.94-2.06 2.06-.94-2.06-.94-.94-2.06-.94 2.06-2.06.94z\"/><path d=\"M17.41 7.96l-1.37-1.37c-.4-.4-.92-.59-1.43-.59-.52 0-1.04.2-1.43.59L10.3 9.45l-7.72 7.72c-.78.78-.78 2.05 0 2.83L4 21.41c.39.39.9.59 1.41.59.51 0 1.02-.2 1.41-.59l7.78-7.78 2.81-2.81c.8-.78.8-2.07 0-2.86zM5.41 20L4 18.59l7.72-7.72 1.47 1.35L5.41 20z\"/>\n",
              "  </svg>\n",
              "      </button>\n",
              "\n",
              "\n",
              "\n",
              "    <div id=\"df-6917ace8-8c7c-435d-9e78-194dd8aa7094\">\n",
              "      <button class=\"colab-df-quickchart\" onclick=\"quickchart('df-6917ace8-8c7c-435d-9e78-194dd8aa7094')\"\n",
              "              title=\"Suggest charts.\"\n",
              "              style=\"display:none;\">\n",
              "\n",
              "<svg xmlns=\"http://www.w3.org/2000/svg\" height=\"24px\"viewBox=\"0 0 24 24\"\n",
              "     width=\"24px\">\n",
              "    <g>\n",
              "        <path d=\"M19 3H5c-1.1 0-2 .9-2 2v14c0 1.1.9 2 2 2h14c1.1 0 2-.9 2-2V5c0-1.1-.9-2-2-2zM9 17H7v-7h2v7zm4 0h-2V7h2v10zm4 0h-2v-4h2v4z\"/>\n",
              "    </g>\n",
              "</svg>\n",
              "      </button>\n",
              "    </div>\n",
              "\n",
              "<style>\n",
              "  .colab-df-quickchart {\n",
              "    background-color: #E8F0FE;\n",
              "    border: none;\n",
              "    border-radius: 50%;\n",
              "    cursor: pointer;\n",
              "    display: none;\n",
              "    fill: #1967D2;\n",
              "    height: 32px;\n",
              "    padding: 0 0 0 0;\n",
              "    width: 32px;\n",
              "  }\n",
              "\n",
              "  .colab-df-quickchart:hover {\n",
              "    background-color: #E2EBFA;\n",
              "    box-shadow: 0px 1px 2px rgba(60, 64, 67, 0.3), 0px 1px 3px 1px rgba(60, 64, 67, 0.15);\n",
              "    fill: #174EA6;\n",
              "  }\n",
              "\n",
              "  [theme=dark] .colab-df-quickchart {\n",
              "    background-color: #3B4455;\n",
              "    fill: #D2E3FC;\n",
              "  }\n",
              "\n",
              "  [theme=dark] .colab-df-quickchart:hover {\n",
              "    background-color: #434B5C;\n",
              "    box-shadow: 0px 1px 3px 1px rgba(0, 0, 0, 0.15);\n",
              "    filter: drop-shadow(0px 1px 2px rgba(0, 0, 0, 0.3));\n",
              "    fill: #FFFFFF;\n",
              "  }\n",
              "</style>\n",
              "\n",
              "    <script>\n",
              "      async function quickchart(key) {\n",
              "        const containerElement = document.querySelector('#' + key);\n",
              "        const charts = await google.colab.kernel.invokeFunction(\n",
              "            'suggestCharts', [key], {});\n",
              "      }\n",
              "    </script>\n",
              "\n",
              "      <script>\n",
              "\n",
              "function displayQuickchartButton(domScope) {\n",
              "  let quickchartButtonEl =\n",
              "    domScope.querySelector('#df-6917ace8-8c7c-435d-9e78-194dd8aa7094 button.colab-df-quickchart');\n",
              "  quickchartButtonEl.style.display =\n",
              "    google.colab.kernel.accessAllowed ? 'block' : 'none';\n",
              "}\n",
              "\n",
              "        displayQuickchartButton(document);\n",
              "      </script>\n",
              "      <style>\n",
              "    .colab-df-container {\n",
              "      display:flex;\n",
              "      flex-wrap:wrap;\n",
              "      gap: 12px;\n",
              "    }\n",
              "\n",
              "    .colab-df-convert {\n",
              "      background-color: #E8F0FE;\n",
              "      border: none;\n",
              "      border-radius: 50%;\n",
              "      cursor: pointer;\n",
              "      display: none;\n",
              "      fill: #1967D2;\n",
              "      height: 32px;\n",
              "      padding: 0 0 0 0;\n",
              "      width: 32px;\n",
              "    }\n",
              "\n",
              "    .colab-df-convert:hover {\n",
              "      background-color: #E2EBFA;\n",
              "      box-shadow: 0px 1px 2px rgba(60, 64, 67, 0.3), 0px 1px 3px 1px rgba(60, 64, 67, 0.15);\n",
              "      fill: #174EA6;\n",
              "    }\n",
              "\n",
              "    [theme=dark] .colab-df-convert {\n",
              "      background-color: #3B4455;\n",
              "      fill: #D2E3FC;\n",
              "    }\n",
              "\n",
              "    [theme=dark] .colab-df-convert:hover {\n",
              "      background-color: #434B5C;\n",
              "      box-shadow: 0px 1px 3px 1px rgba(0, 0, 0, 0.15);\n",
              "      filter: drop-shadow(0px 1px 2px rgba(0, 0, 0, 0.3));\n",
              "      fill: #FFFFFF;\n",
              "    }\n",
              "  </style>\n",
              "\n",
              "      <script>\n",
              "        const buttonEl =\n",
              "          document.querySelector('#df-9c0e72b9-9619-4444-a6fd-befcade3c200 button.colab-df-convert');\n",
              "        buttonEl.style.display =\n",
              "          google.colab.kernel.accessAllowed ? 'block' : 'none';\n",
              "\n",
              "        async function convertToInteractive(key) {\n",
              "          const element = document.querySelector('#df-9c0e72b9-9619-4444-a6fd-befcade3c200');\n",
              "          const dataTable =\n",
              "            await google.colab.kernel.invokeFunction('convertToInteractive',\n",
              "                                                     [key], {});\n",
              "          if (!dataTable) return;\n",
              "\n",
              "          const docLinkHtml = 'Like what you see? Visit the ' +\n",
              "            '<a target=\"_blank\" href=https://colab.research.google.com/notebooks/data_table.ipynb>data table notebook</a>'\n",
              "            + ' to learn more about interactive tables.';\n",
              "          element.innerHTML = '';\n",
              "          dataTable['output_type'] = 'display_data';\n",
              "          await google.colab.output.renderOutput(dataTable, element);\n",
              "          const docLink = document.createElement('div');\n",
              "          docLink.innerHTML = docLinkHtml;\n",
              "          element.appendChild(docLink);\n",
              "        }\n",
              "      </script>\n",
              "    </div>\n",
              "  </div>\n"
            ],
            "text/plain": [
              "       Unnamed: 0  fLength   fWidth   fSize   fConc  fConc1    fAsym  fM3Long  \\\n",
              "13628       13628  99.6430  60.7624  3.1314  0.2627  0.1533 -38.2399 -74.2057   \n",
              "9376         9376  29.3039  20.1568  2.5250  0.4149  0.2104  46.3511 -23.0844   \n",
              "17118       17118  18.9319  10.9152  2.5315  0.6235  0.3426  -9.4961  17.3332   \n",
              "12947       12947  26.8145  19.1915  2.7910  0.3447  0.1788  10.2884 -10.5870   \n",
              "3791         3791  28.8197  11.2873  2.3493  0.4832  0.2886 -25.6308 -24.3017   \n",
              "\n",
              "       fM3Trans   fAlpha     fDist  class  \n",
              "13628   70.4102  12.6359  341.2119      0  \n",
              "9376    11.8314  12.8835  166.3810      1  \n",
              "17118   10.3192  27.7580  199.3200      0  \n",
              "12947  -14.7578  66.3368  194.6160      0  \n",
              "3791    -8.2233  25.4210  117.6460      1  "
            ]
          },
          "execution_count": 116,
          "metadata": {},
          "output_type": "execute_result"
        }
      ],
      "source": [
        "valid.head()"
      ]
    },
    {
      "cell_type": "code",
      "execution_count": null,
      "metadata": {
        "colab": {
          "base_uri": "https://localhost:8080/",
          "height": 206
        },
        "id": "kW9DfKA3fkCC",
        "outputId": "a164f2c7-027f-4664-ee14-e46ad7c6afe6"
      },
      "outputs": [
        {
          "data": {
            "text/html": [
              "\n",
              "\n",
              "  <div id=\"df-34f44b2e-3b5a-4522-b494-ab4c4b8a6d62\">\n",
              "    <div class=\"colab-df-container\">\n",
              "      <div>\n",
              "<style scoped>\n",
              "    .dataframe tbody tr th:only-of-type {\n",
              "        vertical-align: middle;\n",
              "    }\n",
              "\n",
              "    .dataframe tbody tr th {\n",
              "        vertical-align: top;\n",
              "    }\n",
              "\n",
              "    .dataframe thead th {\n",
              "        text-align: right;\n",
              "    }\n",
              "</style>\n",
              "<table border=\"1\" class=\"dataframe\">\n",
              "  <thead>\n",
              "    <tr style=\"text-align: right;\">\n",
              "      <th></th>\n",
              "      <th>Unnamed: 0</th>\n",
              "      <th>fLength</th>\n",
              "      <th>fWidth</th>\n",
              "      <th>fSize</th>\n",
              "      <th>fConc</th>\n",
              "      <th>fConc1</th>\n",
              "      <th>fAsym</th>\n",
              "      <th>fM3Long</th>\n",
              "      <th>fM3Trans</th>\n",
              "      <th>fAlpha</th>\n",
              "      <th>fDist</th>\n",
              "      <th>class</th>\n",
              "    </tr>\n",
              "  </thead>\n",
              "  <tbody>\n",
              "    <tr>\n",
              "      <th>0</th>\n",
              "      <td>0</td>\n",
              "      <td>28.7967</td>\n",
              "      <td>16.0021</td>\n",
              "      <td>2.6449</td>\n",
              "      <td>0.3918</td>\n",
              "      <td>0.1982</td>\n",
              "      <td>27.7004</td>\n",
              "      <td>22.0110</td>\n",
              "      <td>-8.2027</td>\n",
              "      <td>40.0920</td>\n",
              "      <td>81.8828</td>\n",
              "      <td>1</td>\n",
              "    </tr>\n",
              "    <tr>\n",
              "      <th>1</th>\n",
              "      <td>1</td>\n",
              "      <td>31.6036</td>\n",
              "      <td>11.7235</td>\n",
              "      <td>2.5185</td>\n",
              "      <td>0.5303</td>\n",
              "      <td>0.3773</td>\n",
              "      <td>26.2722</td>\n",
              "      <td>23.8238</td>\n",
              "      <td>-9.9574</td>\n",
              "      <td>6.3609</td>\n",
              "      <td>205.2610</td>\n",
              "      <td>1</td>\n",
              "    </tr>\n",
              "    <tr>\n",
              "      <th>2</th>\n",
              "      <td>2</td>\n",
              "      <td>162.0520</td>\n",
              "      <td>136.0310</td>\n",
              "      <td>4.0612</td>\n",
              "      <td>0.0374</td>\n",
              "      <td>0.0187</td>\n",
              "      <td>116.7410</td>\n",
              "      <td>-64.8580</td>\n",
              "      <td>-45.2160</td>\n",
              "      <td>76.9600</td>\n",
              "      <td>256.7880</td>\n",
              "      <td>1</td>\n",
              "    </tr>\n",
              "    <tr>\n",
              "      <th>3</th>\n",
              "      <td>3</td>\n",
              "      <td>23.8172</td>\n",
              "      <td>9.5728</td>\n",
              "      <td>2.3385</td>\n",
              "      <td>0.6147</td>\n",
              "      <td>0.3922</td>\n",
              "      <td>27.2107</td>\n",
              "      <td>-6.4633</td>\n",
              "      <td>-7.1513</td>\n",
              "      <td>10.4490</td>\n",
              "      <td>116.7370</td>\n",
              "      <td>1</td>\n",
              "    </tr>\n",
              "    <tr>\n",
              "      <th>4</th>\n",
              "      <td>4</td>\n",
              "      <td>75.1362</td>\n",
              "      <td>30.9205</td>\n",
              "      <td>3.1611</td>\n",
              "      <td>0.3168</td>\n",
              "      <td>0.1832</td>\n",
              "      <td>-5.5277</td>\n",
              "      <td>28.5525</td>\n",
              "      <td>21.8393</td>\n",
              "      <td>4.6480</td>\n",
              "      <td>356.4620</td>\n",
              "      <td>1</td>\n",
              "    </tr>\n",
              "  </tbody>\n",
              "</table>\n",
              "</div>\n",
              "      <button class=\"colab-df-convert\" onclick=\"convertToInteractive('df-34f44b2e-3b5a-4522-b494-ab4c4b8a6d62')\"\n",
              "              title=\"Convert this dataframe to an interactive table.\"\n",
              "              style=\"display:none;\">\n",
              "\n",
              "  <svg xmlns=\"http://www.w3.org/2000/svg\" height=\"24px\"viewBox=\"0 0 24 24\"\n",
              "       width=\"24px\">\n",
              "    <path d=\"M0 0h24v24H0V0z\" fill=\"none\"/>\n",
              "    <path d=\"M18.56 5.44l.94 2.06.94-2.06 2.06-.94-2.06-.94-.94-2.06-.94 2.06-2.06.94zm-11 1L8.5 8.5l.94-2.06 2.06-.94-2.06-.94L8.5 2.5l-.94 2.06-2.06.94zm10 10l.94 2.06.94-2.06 2.06-.94-2.06-.94-.94-2.06-.94 2.06-2.06.94z\"/><path d=\"M17.41 7.96l-1.37-1.37c-.4-.4-.92-.59-1.43-.59-.52 0-1.04.2-1.43.59L10.3 9.45l-7.72 7.72c-.78.78-.78 2.05 0 2.83L4 21.41c.39.39.9.59 1.41.59.51 0 1.02-.2 1.41-.59l7.78-7.78 2.81-2.81c.8-.78.8-2.07 0-2.86zM5.41 20L4 18.59l7.72-7.72 1.47 1.35L5.41 20z\"/>\n",
              "  </svg>\n",
              "      </button>\n",
              "\n",
              "\n",
              "\n",
              "    <div id=\"df-fae453cb-e15c-4f98-a7e4-d469328fce1b\">\n",
              "      <button class=\"colab-df-quickchart\" onclick=\"quickchart('df-fae453cb-e15c-4f98-a7e4-d469328fce1b')\"\n",
              "              title=\"Suggest charts.\"\n",
              "              style=\"display:none;\">\n",
              "\n",
              "<svg xmlns=\"http://www.w3.org/2000/svg\" height=\"24px\"viewBox=\"0 0 24 24\"\n",
              "     width=\"24px\">\n",
              "    <g>\n",
              "        <path d=\"M19 3H5c-1.1 0-2 .9-2 2v14c0 1.1.9 2 2 2h14c1.1 0 2-.9 2-2V5c0-1.1-.9-2-2-2zM9 17H7v-7h2v7zm4 0h-2V7h2v10zm4 0h-2v-4h2v4z\"/>\n",
              "    </g>\n",
              "</svg>\n",
              "      </button>\n",
              "    </div>\n",
              "\n",
              "<style>\n",
              "  .colab-df-quickchart {\n",
              "    background-color: #E8F0FE;\n",
              "    border: none;\n",
              "    border-radius: 50%;\n",
              "    cursor: pointer;\n",
              "    display: none;\n",
              "    fill: #1967D2;\n",
              "    height: 32px;\n",
              "    padding: 0 0 0 0;\n",
              "    width: 32px;\n",
              "  }\n",
              "\n",
              "  .colab-df-quickchart:hover {\n",
              "    background-color: #E2EBFA;\n",
              "    box-shadow: 0px 1px 2px rgba(60, 64, 67, 0.3), 0px 1px 3px 1px rgba(60, 64, 67, 0.15);\n",
              "    fill: #174EA6;\n",
              "  }\n",
              "\n",
              "  [theme=dark] .colab-df-quickchart {\n",
              "    background-color: #3B4455;\n",
              "    fill: #D2E3FC;\n",
              "  }\n",
              "\n",
              "  [theme=dark] .colab-df-quickchart:hover {\n",
              "    background-color: #434B5C;\n",
              "    box-shadow: 0px 1px 3px 1px rgba(0, 0, 0, 0.15);\n",
              "    filter: drop-shadow(0px 1px 2px rgba(0, 0, 0, 0.3));\n",
              "    fill: #FFFFFF;\n",
              "  }\n",
              "</style>\n",
              "\n",
              "    <script>\n",
              "      async function quickchart(key) {\n",
              "        const containerElement = document.querySelector('#' + key);\n",
              "        const charts = await google.colab.kernel.invokeFunction(\n",
              "            'suggestCharts', [key], {});\n",
              "      }\n",
              "    </script>\n",
              "\n",
              "      <script>\n",
              "\n",
              "function displayQuickchartButton(domScope) {\n",
              "  let quickchartButtonEl =\n",
              "    domScope.querySelector('#df-fae453cb-e15c-4f98-a7e4-d469328fce1b button.colab-df-quickchart');\n",
              "  quickchartButtonEl.style.display =\n",
              "    google.colab.kernel.accessAllowed ? 'block' : 'none';\n",
              "}\n",
              "\n",
              "        displayQuickchartButton(document);\n",
              "      </script>\n",
              "      <style>\n",
              "    .colab-df-container {\n",
              "      display:flex;\n",
              "      flex-wrap:wrap;\n",
              "      gap: 12px;\n",
              "    }\n",
              "\n",
              "    .colab-df-convert {\n",
              "      background-color: #E8F0FE;\n",
              "      border: none;\n",
              "      border-radius: 50%;\n",
              "      cursor: pointer;\n",
              "      display: none;\n",
              "      fill: #1967D2;\n",
              "      height: 32px;\n",
              "      padding: 0 0 0 0;\n",
              "      width: 32px;\n",
              "    }\n",
              "\n",
              "    .colab-df-convert:hover {\n",
              "      background-color: #E2EBFA;\n",
              "      box-shadow: 0px 1px 2px rgba(60, 64, 67, 0.3), 0px 1px 3px 1px rgba(60, 64, 67, 0.15);\n",
              "      fill: #174EA6;\n",
              "    }\n",
              "\n",
              "    [theme=dark] .colab-df-convert {\n",
              "      background-color: #3B4455;\n",
              "      fill: #D2E3FC;\n",
              "    }\n",
              "\n",
              "    [theme=dark] .colab-df-convert:hover {\n",
              "      background-color: #434B5C;\n",
              "      box-shadow: 0px 1px 3px 1px rgba(0, 0, 0, 0.15);\n",
              "      filter: drop-shadow(0px 1px 2px rgba(0, 0, 0, 0.3));\n",
              "      fill: #FFFFFF;\n",
              "    }\n",
              "  </style>\n",
              "\n",
              "      <script>\n",
              "        const buttonEl =\n",
              "          document.querySelector('#df-34f44b2e-3b5a-4522-b494-ab4c4b8a6d62 button.colab-df-convert');\n",
              "        buttonEl.style.display =\n",
              "          google.colab.kernel.accessAllowed ? 'block' : 'none';\n",
              "\n",
              "        async function convertToInteractive(key) {\n",
              "          const element = document.querySelector('#df-34f44b2e-3b5a-4522-b494-ab4c4b8a6d62');\n",
              "          const dataTable =\n",
              "            await google.colab.kernel.invokeFunction('convertToInteractive',\n",
              "                                                     [key], {});\n",
              "          if (!dataTable) return;\n",
              "\n",
              "          const docLinkHtml = 'Like what you see? Visit the ' +\n",
              "            '<a target=\"_blank\" href=https://colab.research.google.com/notebooks/data_table.ipynb>data table notebook</a>'\n",
              "            + ' to learn more about interactive tables.';\n",
              "          element.innerHTML = '';\n",
              "          dataTable['output_type'] = 'display_data';\n",
              "          await google.colab.output.renderOutput(dataTable, element);\n",
              "          const docLink = document.createElement('div');\n",
              "          docLink.innerHTML = docLinkHtml;\n",
              "          element.appendChild(docLink);\n",
              "        }\n",
              "      </script>\n",
              "    </div>\n",
              "  </div>\n"
            ],
            "text/plain": [
              "   Unnamed: 0   fLength    fWidth   fSize   fConc  fConc1     fAsym  fM3Long  \\\n",
              "0           0   28.7967   16.0021  2.6449  0.3918  0.1982   27.7004  22.0110   \n",
              "1           1   31.6036   11.7235  2.5185  0.5303  0.3773   26.2722  23.8238   \n",
              "2           2  162.0520  136.0310  4.0612  0.0374  0.0187  116.7410 -64.8580   \n",
              "3           3   23.8172    9.5728  2.3385  0.6147  0.3922   27.2107  -6.4633   \n",
              "4           4   75.1362   30.9205  3.1611  0.3168  0.1832   -5.5277  28.5525   \n",
              "\n",
              "   fM3Trans   fAlpha     fDist  class  \n",
              "0   -8.2027  40.0920   81.8828      1  \n",
              "1   -9.9574   6.3609  205.2610      1  \n",
              "2  -45.2160  76.9600  256.7880      1  \n",
              "3   -7.1513  10.4490  116.7370      1  \n",
              "4   21.8393   4.6480  356.4620      1  "
            ]
          },
          "execution_count": 105,
          "metadata": {},
          "output_type": "execute_result"
        }
      ],
      "source": [
        "df.head()"
      ]
    },
    {
      "cell_type": "code",
      "execution_count": 16,
      "metadata": {
        "id": "K47HDLOySMg3"
      },
      "outputs": [],
      "source": [
        "train, X_train, y_train = scale_dataset(train, oversample = True)\n"
      ]
    },
    {
      "cell_type": "code",
      "source": [
        "valid, X_valid, y_valid = scale_dataset(valid, oversample = False)\n"
      ],
      "metadata": {
        "id": "i_oxAZf2YZPc"
      },
      "execution_count": 17,
      "outputs": []
    },
    {
      "cell_type": "code",
      "source": [
        "test, X_test, y_test = scale_dataset(test, oversample = False)"
      ],
      "metadata": {
        "id": "hPDkId4fYcO4"
      },
      "execution_count": 18,
      "outputs": []
    },
    {
      "cell_type": "code",
      "execution_count": null,
      "metadata": {
        "colab": {
          "base_uri": "https://localhost:8080/",
          "height": 206
        },
        "id": "NHL-_hXfENO9",
        "outputId": "85a2ebdd-f321-4ac9-f2e9-bc68fef07f5d"
      },
      "outputs": [
        {
          "data": {
            "text/html": [
              "\n",
              "\n",
              "  <div id=\"df-ef415ec8-3b1a-4d17-83dd-e5d6d01367c4\">\n",
              "    <div class=\"colab-df-container\">\n",
              "      <div>\n",
              "<style scoped>\n",
              "    .dataframe tbody tr th:only-of-type {\n",
              "        vertical-align: middle;\n",
              "    }\n",
              "\n",
              "    .dataframe tbody tr th {\n",
              "        vertical-align: top;\n",
              "    }\n",
              "\n",
              "    .dataframe thead th {\n",
              "        text-align: right;\n",
              "    }\n",
              "</style>\n",
              "<table border=\"1\" class=\"dataframe\">\n",
              "  <thead>\n",
              "    <tr style=\"text-align: right;\">\n",
              "      <th></th>\n",
              "      <th>Unnamed: 0</th>\n",
              "      <th>fLength</th>\n",
              "      <th>fWidth</th>\n",
              "      <th>fSize</th>\n",
              "      <th>fConc</th>\n",
              "      <th>fConc1</th>\n",
              "      <th>fAsym</th>\n",
              "      <th>fM3Long</th>\n",
              "      <th>fM3Trans</th>\n",
              "      <th>fAlpha</th>\n",
              "      <th>fDist</th>\n",
              "      <th>class</th>\n",
              "    </tr>\n",
              "  </thead>\n",
              "  <tbody>\n",
              "    <tr>\n",
              "      <th>7190</th>\n",
              "      <td>7190</td>\n",
              "      <td>61.1136</td>\n",
              "      <td>17.8900</td>\n",
              "      <td>2.9009</td>\n",
              "      <td>0.2626</td>\n",
              "      <td>0.1363</td>\n",
              "      <td>69.4992</td>\n",
              "      <td>59.9786</td>\n",
              "      <td>-9.4100</td>\n",
              "      <td>7.7249</td>\n",
              "      <td>250.7690</td>\n",
              "      <td>1</td>\n",
              "    </tr>\n",
              "    <tr>\n",
              "      <th>16555</th>\n",
              "      <td>16555</td>\n",
              "      <td>36.3453</td>\n",
              "      <td>11.6641</td>\n",
              "      <td>2.7210</td>\n",
              "      <td>0.4125</td>\n",
              "      <td>0.2367</td>\n",
              "      <td>22.6339</td>\n",
              "      <td>28.9547</td>\n",
              "      <td>-6.7210</td>\n",
              "      <td>58.1600</td>\n",
              "      <td>234.2930</td>\n",
              "      <td>0</td>\n",
              "    </tr>\n",
              "    <tr>\n",
              "      <th>18967</th>\n",
              "      <td>18967</td>\n",
              "      <td>43.2848</td>\n",
              "      <td>14.5711</td>\n",
              "      <td>2.5014</td>\n",
              "      <td>0.4801</td>\n",
              "      <td>0.2659</td>\n",
              "      <td>54.1012</td>\n",
              "      <td>32.1494</td>\n",
              "      <td>-6.6345</td>\n",
              "      <td>54.2701</td>\n",
              "      <td>250.4787</td>\n",
              "      <td>0</td>\n",
              "    </tr>\n",
              "    <tr>\n",
              "      <th>1325</th>\n",
              "      <td>1325</td>\n",
              "      <td>76.1909</td>\n",
              "      <td>29.7032</td>\n",
              "      <td>3.5078</td>\n",
              "      <td>0.1068</td>\n",
              "      <td>0.0573</td>\n",
              "      <td>-117.1960</td>\n",
              "      <td>48.0780</td>\n",
              "      <td>-19.0207</td>\n",
              "      <td>1.6400</td>\n",
              "      <td>242.4370</td>\n",
              "      <td>1</td>\n",
              "    </tr>\n",
              "    <tr>\n",
              "      <th>1505</th>\n",
              "      <td>1505</td>\n",
              "      <td>25.2213</td>\n",
              "      <td>12.6447</td>\n",
              "      <td>2.4409</td>\n",
              "      <td>0.4348</td>\n",
              "      <td>0.2591</td>\n",
              "      <td>-17.8855</td>\n",
              "      <td>-16.3947</td>\n",
              "      <td>-6.3854</td>\n",
              "      <td>7.2470</td>\n",
              "      <td>150.2870</td>\n",
              "      <td>1</td>\n",
              "    </tr>\n",
              "  </tbody>\n",
              "</table>\n",
              "</div>\n",
              "      <button class=\"colab-df-convert\" onclick=\"convertToInteractive('df-ef415ec8-3b1a-4d17-83dd-e5d6d01367c4')\"\n",
              "              title=\"Convert this dataframe to an interactive table.\"\n",
              "              style=\"display:none;\">\n",
              "\n",
              "  <svg xmlns=\"http://www.w3.org/2000/svg\" height=\"24px\"viewBox=\"0 0 24 24\"\n",
              "       width=\"24px\">\n",
              "    <path d=\"M0 0h24v24H0V0z\" fill=\"none\"/>\n",
              "    <path d=\"M18.56 5.44l.94 2.06.94-2.06 2.06-.94-2.06-.94-.94-2.06-.94 2.06-2.06.94zm-11 1L8.5 8.5l.94-2.06 2.06-.94-2.06-.94L8.5 2.5l-.94 2.06-2.06.94zm10 10l.94 2.06.94-2.06 2.06-.94-2.06-.94-.94-2.06-.94 2.06-2.06.94z\"/><path d=\"M17.41 7.96l-1.37-1.37c-.4-.4-.92-.59-1.43-.59-.52 0-1.04.2-1.43.59L10.3 9.45l-7.72 7.72c-.78.78-.78 2.05 0 2.83L4 21.41c.39.39.9.59 1.41.59.51 0 1.02-.2 1.41-.59l7.78-7.78 2.81-2.81c.8-.78.8-2.07 0-2.86zM5.41 20L4 18.59l7.72-7.72 1.47 1.35L5.41 20z\"/>\n",
              "  </svg>\n",
              "      </button>\n",
              "\n",
              "\n",
              "\n",
              "    <div id=\"df-e6ed8793-afe5-4057-ad0c-7cefd72e29ef\">\n",
              "      <button class=\"colab-df-quickchart\" onclick=\"quickchart('df-e6ed8793-afe5-4057-ad0c-7cefd72e29ef')\"\n",
              "              title=\"Suggest charts.\"\n",
              "              style=\"display:none;\">\n",
              "\n",
              "<svg xmlns=\"http://www.w3.org/2000/svg\" height=\"24px\"viewBox=\"0 0 24 24\"\n",
              "     width=\"24px\">\n",
              "    <g>\n",
              "        <path d=\"M19 3H5c-1.1 0-2 .9-2 2v14c0 1.1.9 2 2 2h14c1.1 0 2-.9 2-2V5c0-1.1-.9-2-2-2zM9 17H7v-7h2v7zm4 0h-2V7h2v10zm4 0h-2v-4h2v4z\"/>\n",
              "    </g>\n",
              "</svg>\n",
              "      </button>\n",
              "    </div>\n",
              "\n",
              "<style>\n",
              "  .colab-df-quickchart {\n",
              "    background-color: #E8F0FE;\n",
              "    border: none;\n",
              "    border-radius: 50%;\n",
              "    cursor: pointer;\n",
              "    display: none;\n",
              "    fill: #1967D2;\n",
              "    height: 32px;\n",
              "    padding: 0 0 0 0;\n",
              "    width: 32px;\n",
              "  }\n",
              "\n",
              "  .colab-df-quickchart:hover {\n",
              "    background-color: #E2EBFA;\n",
              "    box-shadow: 0px 1px 2px rgba(60, 64, 67, 0.3), 0px 1px 3px 1px rgba(60, 64, 67, 0.15);\n",
              "    fill: #174EA6;\n",
              "  }\n",
              "\n",
              "  [theme=dark] .colab-df-quickchart {\n",
              "    background-color: #3B4455;\n",
              "    fill: #D2E3FC;\n",
              "  }\n",
              "\n",
              "  [theme=dark] .colab-df-quickchart:hover {\n",
              "    background-color: #434B5C;\n",
              "    box-shadow: 0px 1px 3px 1px rgba(0, 0, 0, 0.15);\n",
              "    filter: drop-shadow(0px 1px 2px rgba(0, 0, 0, 0.3));\n",
              "    fill: #FFFFFF;\n",
              "  }\n",
              "</style>\n",
              "\n",
              "    <script>\n",
              "      async function quickchart(key) {\n",
              "        const containerElement = document.querySelector('#' + key);\n",
              "        const charts = await google.colab.kernel.invokeFunction(\n",
              "            'suggestCharts', [key], {});\n",
              "      }\n",
              "    </script>\n",
              "\n",
              "      <script>\n",
              "\n",
              "function displayQuickchartButton(domScope) {\n",
              "  let quickchartButtonEl =\n",
              "    domScope.querySelector('#df-e6ed8793-afe5-4057-ad0c-7cefd72e29ef button.colab-df-quickchart');\n",
              "  quickchartButtonEl.style.display =\n",
              "    google.colab.kernel.accessAllowed ? 'block' : 'none';\n",
              "}\n",
              "\n",
              "        displayQuickchartButton(document);\n",
              "      </script>\n",
              "      <style>\n",
              "    .colab-df-container {\n",
              "      display:flex;\n",
              "      flex-wrap:wrap;\n",
              "      gap: 12px;\n",
              "    }\n",
              "\n",
              "    .colab-df-convert {\n",
              "      background-color: #E8F0FE;\n",
              "      border: none;\n",
              "      border-radius: 50%;\n",
              "      cursor: pointer;\n",
              "      display: none;\n",
              "      fill: #1967D2;\n",
              "      height: 32px;\n",
              "      padding: 0 0 0 0;\n",
              "      width: 32px;\n",
              "    }\n",
              "\n",
              "    .colab-df-convert:hover {\n",
              "      background-color: #E2EBFA;\n",
              "      box-shadow: 0px 1px 2px rgba(60, 64, 67, 0.3), 0px 1px 3px 1px rgba(60, 64, 67, 0.15);\n",
              "      fill: #174EA6;\n",
              "    }\n",
              "\n",
              "    [theme=dark] .colab-df-convert {\n",
              "      background-color: #3B4455;\n",
              "      fill: #D2E3FC;\n",
              "    }\n",
              "\n",
              "    [theme=dark] .colab-df-convert:hover {\n",
              "      background-color: #434B5C;\n",
              "      box-shadow: 0px 1px 3px 1px rgba(0, 0, 0, 0.15);\n",
              "      filter: drop-shadow(0px 1px 2px rgba(0, 0, 0, 0.3));\n",
              "      fill: #FFFFFF;\n",
              "    }\n",
              "  </style>\n",
              "\n",
              "      <script>\n",
              "        const buttonEl =\n",
              "          document.querySelector('#df-ef415ec8-3b1a-4d17-83dd-e5d6d01367c4 button.colab-df-convert');\n",
              "        buttonEl.style.display =\n",
              "          google.colab.kernel.accessAllowed ? 'block' : 'none';\n",
              "\n",
              "        async function convertToInteractive(key) {\n",
              "          const element = document.querySelector('#df-ef415ec8-3b1a-4d17-83dd-e5d6d01367c4');\n",
              "          const dataTable =\n",
              "            await google.colab.kernel.invokeFunction('convertToInteractive',\n",
              "                                                     [key], {});\n",
              "          if (!dataTable) return;\n",
              "\n",
              "          const docLinkHtml = 'Like what you see? Visit the ' +\n",
              "            '<a target=\"_blank\" href=https://colab.research.google.com/notebooks/data_table.ipynb>data table notebook</a>'\n",
              "            + ' to learn more about interactive tables.';\n",
              "          element.innerHTML = '';\n",
              "          dataTable['output_type'] = 'display_data';\n",
              "          await google.colab.output.renderOutput(dataTable, element);\n",
              "          const docLink = document.createElement('div');\n",
              "          docLink.innerHTML = docLinkHtml;\n",
              "          element.appendChild(docLink);\n",
              "        }\n",
              "      </script>\n",
              "    </div>\n",
              "  </div>\n"
            ],
            "text/plain": [
              "       Unnamed: 0  fLength   fWidth   fSize   fConc  fConc1     fAsym  \\\n",
              "7190         7190  61.1136  17.8900  2.9009  0.2626  0.1363   69.4992   \n",
              "16555       16555  36.3453  11.6641  2.7210  0.4125  0.2367   22.6339   \n",
              "18967       18967  43.2848  14.5711  2.5014  0.4801  0.2659   54.1012   \n",
              "1325         1325  76.1909  29.7032  3.5078  0.1068  0.0573 -117.1960   \n",
              "1505         1505  25.2213  12.6447  2.4409  0.4348  0.2591  -17.8855   \n",
              "\n",
              "       fM3Long  fM3Trans   fAlpha     fDist  class  \n",
              "7190   59.9786   -9.4100   7.7249  250.7690      1  \n",
              "16555  28.9547   -6.7210  58.1600  234.2930      0  \n",
              "18967  32.1494   -6.6345  54.2701  250.4787      0  \n",
              "1325   48.0780  -19.0207   1.6400  242.4370      1  \n",
              "1505  -16.3947   -6.3854   7.2470  150.2870      1  "
            ]
          },
          "execution_count": 69,
          "metadata": {},
          "output_type": "execute_result"
        }
      ],
      "source": [
        "train.head()"
      ]
    },
    {
      "cell_type": "code",
      "execution_count": null,
      "metadata": {
        "id": "Lt63Y8MWEP9p"
      },
      "outputs": [],
      "source": [
        "from imblearn.over_sampling import RandomOverSampler"
      ]
    },
    {
      "cell_type": "code",
      "execution_count": null,
      "metadata": {
        "id": "46sUzGJ4RvBK"
      },
      "outputs": [],
      "source": []
    },
    {
      "cell_type": "markdown",
      "metadata": {
        "id": "SCz1mPteQKQC"
      },
      "source": [
        "K Nearest Neighbours"
      ]
    },
    {
      "cell_type": "code",
      "execution_count": 19,
      "metadata": {
        "id": "pQBTyEK5En3L"
      },
      "outputs": [],
      "source": [
        "from sklearn.neighbors import KNeighborsClassifier"
      ]
    },
    {
      "cell_type": "code",
      "execution_count": 20,
      "metadata": {
        "colab": {
          "base_uri": "https://localhost:8080/",
          "height": 75
        },
        "id": "3H_Rpv6oQVbE",
        "outputId": "01769f3f-a28e-42d3-fa43-f82c56bbce75"
      },
      "outputs": [
        {
          "output_type": "execute_result",
          "data": {
            "text/plain": [
              "KNeighborsClassifier(n_neighbors=1)"
            ],
            "text/html": [
              "<style>#sk-container-id-1 {color: black;background-color: white;}#sk-container-id-1 pre{padding: 0;}#sk-container-id-1 div.sk-toggleable {background-color: white;}#sk-container-id-1 label.sk-toggleable__label {cursor: pointer;display: block;width: 100%;margin-bottom: 0;padding: 0.3em;box-sizing: border-box;text-align: center;}#sk-container-id-1 label.sk-toggleable__label-arrow:before {content: \"▸\";float: left;margin-right: 0.25em;color: #696969;}#sk-container-id-1 label.sk-toggleable__label-arrow:hover:before {color: black;}#sk-container-id-1 div.sk-estimator:hover label.sk-toggleable__label-arrow:before {color: black;}#sk-container-id-1 div.sk-toggleable__content {max-height: 0;max-width: 0;overflow: hidden;text-align: left;background-color: #f0f8ff;}#sk-container-id-1 div.sk-toggleable__content pre {margin: 0.2em;color: black;border-radius: 0.25em;background-color: #f0f8ff;}#sk-container-id-1 input.sk-toggleable__control:checked~div.sk-toggleable__content {max-height: 200px;max-width: 100%;overflow: auto;}#sk-container-id-1 input.sk-toggleable__control:checked~label.sk-toggleable__label-arrow:before {content: \"▾\";}#sk-container-id-1 div.sk-estimator input.sk-toggleable__control:checked~label.sk-toggleable__label {background-color: #d4ebff;}#sk-container-id-1 div.sk-label input.sk-toggleable__control:checked~label.sk-toggleable__label {background-color: #d4ebff;}#sk-container-id-1 input.sk-hidden--visually {border: 0;clip: rect(1px 1px 1px 1px);clip: rect(1px, 1px, 1px, 1px);height: 1px;margin: -1px;overflow: hidden;padding: 0;position: absolute;width: 1px;}#sk-container-id-1 div.sk-estimator {font-family: monospace;background-color: #f0f8ff;border: 1px dotted black;border-radius: 0.25em;box-sizing: border-box;margin-bottom: 0.5em;}#sk-container-id-1 div.sk-estimator:hover {background-color: #d4ebff;}#sk-container-id-1 div.sk-parallel-item::after {content: \"\";width: 100%;border-bottom: 1px solid gray;flex-grow: 1;}#sk-container-id-1 div.sk-label:hover label.sk-toggleable__label {background-color: #d4ebff;}#sk-container-id-1 div.sk-serial::before {content: \"\";position: absolute;border-left: 1px solid gray;box-sizing: border-box;top: 0;bottom: 0;left: 50%;z-index: 0;}#sk-container-id-1 div.sk-serial {display: flex;flex-direction: column;align-items: center;background-color: white;padding-right: 0.2em;padding-left: 0.2em;position: relative;}#sk-container-id-1 div.sk-item {position: relative;z-index: 1;}#sk-container-id-1 div.sk-parallel {display: flex;align-items: stretch;justify-content: center;background-color: white;position: relative;}#sk-container-id-1 div.sk-item::before, #sk-container-id-1 div.sk-parallel-item::before {content: \"\";position: absolute;border-left: 1px solid gray;box-sizing: border-box;top: 0;bottom: 0;left: 50%;z-index: -1;}#sk-container-id-1 div.sk-parallel-item {display: flex;flex-direction: column;z-index: 1;position: relative;background-color: white;}#sk-container-id-1 div.sk-parallel-item:first-child::after {align-self: flex-end;width: 50%;}#sk-container-id-1 div.sk-parallel-item:last-child::after {align-self: flex-start;width: 50%;}#sk-container-id-1 div.sk-parallel-item:only-child::after {width: 0;}#sk-container-id-1 div.sk-dashed-wrapped {border: 1px dashed gray;margin: 0 0.4em 0.5em 0.4em;box-sizing: border-box;padding-bottom: 0.4em;background-color: white;}#sk-container-id-1 div.sk-label label {font-family: monospace;font-weight: bold;display: inline-block;line-height: 1.2em;}#sk-container-id-1 div.sk-label-container {text-align: center;}#sk-container-id-1 div.sk-container {/* jupyter's `normalize.less` sets `[hidden] { display: none; }` but bootstrap.min.css set `[hidden] { display: none !important; }` so we also need the `!important` here to be able to override the default hidden behavior on the sphinx rendered scikit-learn.org. See: https://github.com/scikit-learn/scikit-learn/issues/21755 */display: inline-block !important;position: relative;}#sk-container-id-1 div.sk-text-repr-fallback {display: none;}</style><div id=\"sk-container-id-1\" class=\"sk-top-container\"><div class=\"sk-text-repr-fallback\"><pre>KNeighborsClassifier(n_neighbors=1)</pre><b>In a Jupyter environment, please rerun this cell to show the HTML representation or trust the notebook. <br />On GitHub, the HTML representation is unable to render, please try loading this page with nbviewer.org.</b></div><div class=\"sk-container\" hidden><div class=\"sk-item\"><div class=\"sk-estimator sk-toggleable\"><input class=\"sk-toggleable__control sk-hidden--visually\" id=\"sk-estimator-id-1\" type=\"checkbox\" checked><label for=\"sk-estimator-id-1\" class=\"sk-toggleable__label sk-toggleable__label-arrow\">KNeighborsClassifier</label><div class=\"sk-toggleable__content\"><pre>KNeighborsClassifier(n_neighbors=1)</pre></div></div></div></div></div>"
            ]
          },
          "metadata": {},
          "execution_count": 20
        }
      ],
      "source": [
        "knn_model = KNeighborsClassifier(n_neighbors = 1)\n",
        "knn_model.fit(X_train,y_train)"
      ]
    },
    {
      "cell_type": "code",
      "execution_count": 21,
      "metadata": {
        "id": "XzEouNUaX1Ag"
      },
      "outputs": [],
      "source": [
        "y_pred = knn_model.predict(X_test)"
      ]
    },
    {
      "cell_type": "code",
      "execution_count": 2,
      "metadata": {
        "id": "zBFeinmPYFv1"
      },
      "outputs": [],
      "source": [
        "import pandas as pd\n",
        "import numpy as np\n",
        "import sklearn\n",
        "import tensorflow as tf"
      ]
    },
    {
      "cell_type": "code",
      "source": [
        "from sklearn.metrics import classification_report , confusion_matrix , accuracy_score"
      ],
      "metadata": {
        "id": "_hfR4yrkW7vd"
      },
      "execution_count": 25,
      "outputs": []
    },
    {
      "cell_type": "code",
      "source": [
        "confusion_matrix(y_pred,y_test)"
      ],
      "metadata": {
        "colab": {
          "base_uri": "https://localhost:8080/"
        },
        "id": "fmPFDKYyYoN4",
        "outputId": "103e3ebc-9e68-402f-db90-db9d5c8a3be4"
      },
      "execution_count": 23,
      "outputs": [
        {
          "output_type": "execute_result",
          "data": {
            "text/plain": [
              "array([[1273,   45],\n",
              "       [  74, 2412]])"
            ]
          },
          "metadata": {},
          "execution_count": 23
        }
      ]
    },
    {
      "cell_type": "code",
      "source": [
        "classification_report(y_pred,y_test)"
      ],
      "metadata": {
        "colab": {
          "base_uri": "https://localhost:8080/",
          "height": 70
        },
        "id": "SQVtY_OpYtlb",
        "outputId": "b7af5265-1bf4-443a-b85b-3f83a5bbaea5"
      },
      "execution_count": 24,
      "outputs": [
        {
          "output_type": "execute_result",
          "data": {
            "text/plain": [
              "'              precision    recall  f1-score   support\\n\\n           0       0.95      0.97      0.96      1318\\n           1       0.98      0.97      0.98      2486\\n\\n    accuracy                           0.97      3804\\n   macro avg       0.96      0.97      0.97      3804\\nweighted avg       0.97      0.97      0.97      3804\\n'"
            ],
            "application/vnd.google.colaboratory.intrinsic+json": {
              "type": "string"
            }
          },
          "metadata": {},
          "execution_count": 24
        }
      ]
    },
    {
      "cell_type": "code",
      "source": [
        "print((accuracy_score(y_pred,y_test) * 100).round(3))"
      ],
      "metadata": {
        "colab": {
          "base_uri": "https://localhost:8080/"
        },
        "id": "aEXWAGLxYzXr",
        "outputId": "a063dc6a-2664-4248-cb27-870fa8a53031"
      },
      "execution_count": 29,
      "outputs": [
        {
          "output_type": "stream",
          "name": "stdout",
          "text": [
            "96.872\n"
          ]
        }
      ]
    },
    {
      "cell_type": "code",
      "source": [
        "from sklearn.naive_bayes import GaussianNB"
      ],
      "metadata": {
        "id": "6l3FFkt2Y6zt"
      },
      "execution_count": 30,
      "outputs": []
    },
    {
      "cell_type": "code",
      "source": [
        "nb_model = GaussianNB()"
      ],
      "metadata": {
        "id": "MzT5QhaYuuwy"
      },
      "execution_count": 31,
      "outputs": []
    },
    {
      "cell_type": "code",
      "source": [
        "nb_model.fit(X_train, y_train)"
      ],
      "metadata": {
        "colab": {
          "base_uri": "https://localhost:8080/",
          "height": 75
        },
        "id": "6xTKvoG3uz2w",
        "outputId": "f2bd1757-35e5-4848-ff3a-9a9e9b3ca530"
      },
      "execution_count": 32,
      "outputs": [
        {
          "output_type": "execute_result",
          "data": {
            "text/plain": [
              "GaussianNB()"
            ],
            "text/html": [
              "<style>#sk-container-id-2 {color: black;background-color: white;}#sk-container-id-2 pre{padding: 0;}#sk-container-id-2 div.sk-toggleable {background-color: white;}#sk-container-id-2 label.sk-toggleable__label {cursor: pointer;display: block;width: 100%;margin-bottom: 0;padding: 0.3em;box-sizing: border-box;text-align: center;}#sk-container-id-2 label.sk-toggleable__label-arrow:before {content: \"▸\";float: left;margin-right: 0.25em;color: #696969;}#sk-container-id-2 label.sk-toggleable__label-arrow:hover:before {color: black;}#sk-container-id-2 div.sk-estimator:hover label.sk-toggleable__label-arrow:before {color: black;}#sk-container-id-2 div.sk-toggleable__content {max-height: 0;max-width: 0;overflow: hidden;text-align: left;background-color: #f0f8ff;}#sk-container-id-2 div.sk-toggleable__content pre {margin: 0.2em;color: black;border-radius: 0.25em;background-color: #f0f8ff;}#sk-container-id-2 input.sk-toggleable__control:checked~div.sk-toggleable__content {max-height: 200px;max-width: 100%;overflow: auto;}#sk-container-id-2 input.sk-toggleable__control:checked~label.sk-toggleable__label-arrow:before {content: \"▾\";}#sk-container-id-2 div.sk-estimator input.sk-toggleable__control:checked~label.sk-toggleable__label {background-color: #d4ebff;}#sk-container-id-2 div.sk-label input.sk-toggleable__control:checked~label.sk-toggleable__label {background-color: #d4ebff;}#sk-container-id-2 input.sk-hidden--visually {border: 0;clip: rect(1px 1px 1px 1px);clip: rect(1px, 1px, 1px, 1px);height: 1px;margin: -1px;overflow: hidden;padding: 0;position: absolute;width: 1px;}#sk-container-id-2 div.sk-estimator {font-family: monospace;background-color: #f0f8ff;border: 1px dotted black;border-radius: 0.25em;box-sizing: border-box;margin-bottom: 0.5em;}#sk-container-id-2 div.sk-estimator:hover {background-color: #d4ebff;}#sk-container-id-2 div.sk-parallel-item::after {content: \"\";width: 100%;border-bottom: 1px solid gray;flex-grow: 1;}#sk-container-id-2 div.sk-label:hover label.sk-toggleable__label {background-color: #d4ebff;}#sk-container-id-2 div.sk-serial::before {content: \"\";position: absolute;border-left: 1px solid gray;box-sizing: border-box;top: 0;bottom: 0;left: 50%;z-index: 0;}#sk-container-id-2 div.sk-serial {display: flex;flex-direction: column;align-items: center;background-color: white;padding-right: 0.2em;padding-left: 0.2em;position: relative;}#sk-container-id-2 div.sk-item {position: relative;z-index: 1;}#sk-container-id-2 div.sk-parallel {display: flex;align-items: stretch;justify-content: center;background-color: white;position: relative;}#sk-container-id-2 div.sk-item::before, #sk-container-id-2 div.sk-parallel-item::before {content: \"\";position: absolute;border-left: 1px solid gray;box-sizing: border-box;top: 0;bottom: 0;left: 50%;z-index: -1;}#sk-container-id-2 div.sk-parallel-item {display: flex;flex-direction: column;z-index: 1;position: relative;background-color: white;}#sk-container-id-2 div.sk-parallel-item:first-child::after {align-self: flex-end;width: 50%;}#sk-container-id-2 div.sk-parallel-item:last-child::after {align-self: flex-start;width: 50%;}#sk-container-id-2 div.sk-parallel-item:only-child::after {width: 0;}#sk-container-id-2 div.sk-dashed-wrapped {border: 1px dashed gray;margin: 0 0.4em 0.5em 0.4em;box-sizing: border-box;padding-bottom: 0.4em;background-color: white;}#sk-container-id-2 div.sk-label label {font-family: monospace;font-weight: bold;display: inline-block;line-height: 1.2em;}#sk-container-id-2 div.sk-label-container {text-align: center;}#sk-container-id-2 div.sk-container {/* jupyter's `normalize.less` sets `[hidden] { display: none; }` but bootstrap.min.css set `[hidden] { display: none !important; }` so we also need the `!important` here to be able to override the default hidden behavior on the sphinx rendered scikit-learn.org. See: https://github.com/scikit-learn/scikit-learn/issues/21755 */display: inline-block !important;position: relative;}#sk-container-id-2 div.sk-text-repr-fallback {display: none;}</style><div id=\"sk-container-id-2\" class=\"sk-top-container\"><div class=\"sk-text-repr-fallback\"><pre>GaussianNB()</pre><b>In a Jupyter environment, please rerun this cell to show the HTML representation or trust the notebook. <br />On GitHub, the HTML representation is unable to render, please try loading this page with nbviewer.org.</b></div><div class=\"sk-container\" hidden><div class=\"sk-item\"><div class=\"sk-estimator sk-toggleable\"><input class=\"sk-toggleable__control sk-hidden--visually\" id=\"sk-estimator-id-2\" type=\"checkbox\" checked><label for=\"sk-estimator-id-2\" class=\"sk-toggleable__label sk-toggleable__label-arrow\">GaussianNB</label><div class=\"sk-toggleable__content\"><pre>GaussianNB()</pre></div></div></div></div></div>"
            ]
          },
          "metadata": {},
          "execution_count": 32
        }
      ]
    },
    {
      "cell_type": "code",
      "source": [
        "y_pred_new = nb_model.predict(X_test)"
      ],
      "metadata": {
        "id": "KrAC9riCu3bE"
      },
      "execution_count": 33,
      "outputs": []
    },
    {
      "cell_type": "code",
      "source": [
        "classification_report(y_pred_new, y_test)"
      ],
      "metadata": {
        "colab": {
          "base_uri": "https://localhost:8080/",
          "height": 70
        },
        "id": "yY2ZPQ6Xu-vB",
        "outputId": "915e710b-ecb5-42df-863f-66180ff16200"
      },
      "execution_count": 34,
      "outputs": [
        {
          "output_type": "execute_result",
          "data": {
            "text/plain": [
              "'              precision    recall  f1-score   support\\n\\n           0       0.78      0.94      0.86      1119\\n           1       0.97      0.89      0.93      2685\\n\\n    accuracy                           0.91      3804\\n   macro avg       0.88      0.92      0.89      3804\\nweighted avg       0.92      0.91      0.91      3804\\n'"
            ],
            "application/vnd.google.colaboratory.intrinsic+json": {
              "type": "string"
            }
          },
          "metadata": {},
          "execution_count": 34
        }
      ]
    },
    {
      "cell_type": "markdown",
      "source": [
        "Logistic Regression"
      ],
      "metadata": {
        "id": "_wd3SKF7083W"
      }
    },
    {
      "cell_type": "code",
      "source": [
        "from sklearn.linear_model import LogisticRegression"
      ],
      "metadata": {
        "id": "7_nWvdobvDrJ"
      },
      "execution_count": 35,
      "outputs": []
    },
    {
      "cell_type": "code",
      "source": [
        "lr_model = LogisticRegression()"
      ],
      "metadata": {
        "id": "ckZmGlC53xUy"
      },
      "execution_count": 36,
      "outputs": []
    },
    {
      "cell_type": "code",
      "source": [
        " lr_model.fit(X_train, y_train)"
      ],
      "metadata": {
        "colab": {
          "base_uri": "https://localhost:8080/",
          "height": 75
        },
        "id": "HzJXM_U_350i",
        "outputId": "a2a19a3e-7ed3-41bb-e851-debdb296a495"
      },
      "execution_count": 37,
      "outputs": [
        {
          "output_type": "execute_result",
          "data": {
            "text/plain": [
              "LogisticRegression()"
            ],
            "text/html": [
              "<style>#sk-container-id-3 {color: black;background-color: white;}#sk-container-id-3 pre{padding: 0;}#sk-container-id-3 div.sk-toggleable {background-color: white;}#sk-container-id-3 label.sk-toggleable__label {cursor: pointer;display: block;width: 100%;margin-bottom: 0;padding: 0.3em;box-sizing: border-box;text-align: center;}#sk-container-id-3 label.sk-toggleable__label-arrow:before {content: \"▸\";float: left;margin-right: 0.25em;color: #696969;}#sk-container-id-3 label.sk-toggleable__label-arrow:hover:before {color: black;}#sk-container-id-3 div.sk-estimator:hover label.sk-toggleable__label-arrow:before {color: black;}#sk-container-id-3 div.sk-toggleable__content {max-height: 0;max-width: 0;overflow: hidden;text-align: left;background-color: #f0f8ff;}#sk-container-id-3 div.sk-toggleable__content pre {margin: 0.2em;color: black;border-radius: 0.25em;background-color: #f0f8ff;}#sk-container-id-3 input.sk-toggleable__control:checked~div.sk-toggleable__content {max-height: 200px;max-width: 100%;overflow: auto;}#sk-container-id-3 input.sk-toggleable__control:checked~label.sk-toggleable__label-arrow:before {content: \"▾\";}#sk-container-id-3 div.sk-estimator input.sk-toggleable__control:checked~label.sk-toggleable__label {background-color: #d4ebff;}#sk-container-id-3 div.sk-label input.sk-toggleable__control:checked~label.sk-toggleable__label {background-color: #d4ebff;}#sk-container-id-3 input.sk-hidden--visually {border: 0;clip: rect(1px 1px 1px 1px);clip: rect(1px, 1px, 1px, 1px);height: 1px;margin: -1px;overflow: hidden;padding: 0;position: absolute;width: 1px;}#sk-container-id-3 div.sk-estimator {font-family: monospace;background-color: #f0f8ff;border: 1px dotted black;border-radius: 0.25em;box-sizing: border-box;margin-bottom: 0.5em;}#sk-container-id-3 div.sk-estimator:hover {background-color: #d4ebff;}#sk-container-id-3 div.sk-parallel-item::after {content: \"\";width: 100%;border-bottom: 1px solid gray;flex-grow: 1;}#sk-container-id-3 div.sk-label:hover label.sk-toggleable__label {background-color: #d4ebff;}#sk-container-id-3 div.sk-serial::before {content: \"\";position: absolute;border-left: 1px solid gray;box-sizing: border-box;top: 0;bottom: 0;left: 50%;z-index: 0;}#sk-container-id-3 div.sk-serial {display: flex;flex-direction: column;align-items: center;background-color: white;padding-right: 0.2em;padding-left: 0.2em;position: relative;}#sk-container-id-3 div.sk-item {position: relative;z-index: 1;}#sk-container-id-3 div.sk-parallel {display: flex;align-items: stretch;justify-content: center;background-color: white;position: relative;}#sk-container-id-3 div.sk-item::before, #sk-container-id-3 div.sk-parallel-item::before {content: \"\";position: absolute;border-left: 1px solid gray;box-sizing: border-box;top: 0;bottom: 0;left: 50%;z-index: -1;}#sk-container-id-3 div.sk-parallel-item {display: flex;flex-direction: column;z-index: 1;position: relative;background-color: white;}#sk-container-id-3 div.sk-parallel-item:first-child::after {align-self: flex-end;width: 50%;}#sk-container-id-3 div.sk-parallel-item:last-child::after {align-self: flex-start;width: 50%;}#sk-container-id-3 div.sk-parallel-item:only-child::after {width: 0;}#sk-container-id-3 div.sk-dashed-wrapped {border: 1px dashed gray;margin: 0 0.4em 0.5em 0.4em;box-sizing: border-box;padding-bottom: 0.4em;background-color: white;}#sk-container-id-3 div.sk-label label {font-family: monospace;font-weight: bold;display: inline-block;line-height: 1.2em;}#sk-container-id-3 div.sk-label-container {text-align: center;}#sk-container-id-3 div.sk-container {/* jupyter's `normalize.less` sets `[hidden] { display: none; }` but bootstrap.min.css set `[hidden] { display: none !important; }` so we also need the `!important` here to be able to override the default hidden behavior on the sphinx rendered scikit-learn.org. See: https://github.com/scikit-learn/scikit-learn/issues/21755 */display: inline-block !important;position: relative;}#sk-container-id-3 div.sk-text-repr-fallback {display: none;}</style><div id=\"sk-container-id-3\" class=\"sk-top-container\"><div class=\"sk-text-repr-fallback\"><pre>LogisticRegression()</pre><b>In a Jupyter environment, please rerun this cell to show the HTML representation or trust the notebook. <br />On GitHub, the HTML representation is unable to render, please try loading this page with nbviewer.org.</b></div><div class=\"sk-container\" hidden><div class=\"sk-item\"><div class=\"sk-estimator sk-toggleable\"><input class=\"sk-toggleable__control sk-hidden--visually\" id=\"sk-estimator-id-3\" type=\"checkbox\" checked><label for=\"sk-estimator-id-3\" class=\"sk-toggleable__label sk-toggleable__label-arrow\">LogisticRegression</label><div class=\"sk-toggleable__content\"><pre>LogisticRegression()</pre></div></div></div></div></div>"
            ]
          },
          "metadata": {},
          "execution_count": 37
        }
      ]
    },
    {
      "cell_type": "code",
      "source": [
        "y_pred_log = lr_model.predict(X_test)"
      ],
      "metadata": {
        "id": "HmgBqIKh4D-J"
      },
      "execution_count": 38,
      "outputs": []
    },
    {
      "cell_type": "code",
      "source": [
        "classification_report(y_pred_log,y_test)"
      ],
      "metadata": {
        "colab": {
          "base_uri": "https://localhost:8080/",
          "height": 70
        },
        "id": "7gvpgIFT4Jh0",
        "outputId": "d12f8d99-3f9e-4e7c-f871-4a090c86ca41"
      },
      "execution_count": 40,
      "outputs": [
        {
          "output_type": "execute_result",
          "data": {
            "text/plain": [
              "'              precision    recall  f1-score   support\\n\\n           0       0.99      0.99      0.99      1350\\n           1       1.00      1.00      1.00      2454\\n\\n    accuracy                           1.00      3804\\n   macro avg       1.00      0.99      1.00      3804\\nweighted avg       1.00      1.00      1.00      3804\\n'"
            ],
            "application/vnd.google.colaboratory.intrinsic+json": {
              "type": "string"
            }
          },
          "metadata": {},
          "execution_count": 40
        }
      ]
    },
    {
      "cell_type": "code",
      "source": [],
      "metadata": {
        "id": "nupODfVn4NNF"
      },
      "execution_count": null,
      "outputs": []
    },
    {
      "cell_type": "markdown",
      "source": [
        "Support Vector Machines"
      ],
      "metadata": {
        "id": "6NAuYnMK-qhE"
      }
    },
    {
      "cell_type": "code",
      "source": [
        "from sklearn.svm import SVC"
      ],
      "metadata": {
        "id": "oftQY11R-s3k"
      },
      "execution_count": 49,
      "outputs": []
    },
    {
      "cell_type": "code",
      "source": [
        "svm_model = SVC()\n",
        "svm_model = svm_model.fit(X_train,y_train)"
      ],
      "metadata": {
        "id": "AYvDQu1EVXRu"
      },
      "execution_count": 50,
      "outputs": []
    },
    {
      "cell_type": "code",
      "source": [
        "y_pred_svm = svm_model.predict(X_test)"
      ],
      "metadata": {
        "id": "cQloZ3FQVYS5"
      },
      "execution_count": 51,
      "outputs": []
    },
    {
      "cell_type": "code",
      "source": [
        "classification_report(y_pred_svm,y_test)"
      ],
      "metadata": {
        "colab": {
          "base_uri": "https://localhost:8080/",
          "height": 70
        },
        "id": "U0E_bQo4VhoF",
        "outputId": "25873d11-ac32-44ba-8e57-84bac9239b64"
      },
      "execution_count": 52,
      "outputs": [
        {
          "output_type": "execute_result",
          "data": {
            "text/plain": [
              "'              precision    recall  f1-score   support\\n\\n           0       0.99      0.98      0.99      1361\\n           1       0.99      1.00      0.99      2443\\n\\n    accuracy                           0.99      3804\\n   macro avg       0.99      0.99      0.99      3804\\nweighted avg       0.99      0.99      0.99      3804\\n'"
            ],
            "application/vnd.google.colaboratory.intrinsic+json": {
              "type": "string"
            }
          },
          "metadata": {},
          "execution_count": 52
        }
      ]
    },
    {
      "cell_type": "code",
      "source": [
        "print((accuracy_score(y_pred_svm,y_test) * 100).round(3))"
      ],
      "metadata": {
        "colab": {
          "base_uri": "https://localhost:8080/"
        },
        "id": "MstkBDTTWP7H",
        "outputId": "000b4aa1-617a-46ce-d2e3-b04839911f44"
      },
      "execution_count": 53,
      "outputs": [
        {
          "output_type": "stream",
          "name": "stdout",
          "text": [
            "99.264\n"
          ]
        }
      ]
    },
    {
      "cell_type": "code",
      "source": [],
      "metadata": {
        "id": "a2_ZwU9TgEIr"
      },
      "execution_count": null,
      "outputs": []
    },
    {
      "cell_type": "markdown",
      "source": [
        "Neural Networks"
      ],
      "metadata": {
        "id": "RiIfpuljgayM"
      }
    },
    {
      "cell_type": "code",
      "source": [],
      "metadata": {
        "id": "vtr2ugxWgdTK"
      },
      "execution_count": null,
      "outputs": []
    }
  ],
  "metadata": {
    "colab": {
      "provenance": []
    },
    "kernelspec": {
      "display_name": "Python 3",
      "name": "python3"
    },
    "language_info": {
      "name": "python"
    }
  },
  "nbformat": 4,
  "nbformat_minor": 0
}